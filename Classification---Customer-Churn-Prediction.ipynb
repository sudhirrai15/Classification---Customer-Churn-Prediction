{
 "cells": [
  {
   "cell_type": "markdown",
   "metadata": {},
   "source": [
    "## Classification - Customer Chrun Prediction"
   ]
  },
  {
   "cell_type": "markdown",
   "metadata": {},
   "source": [
    "Dataset Link: https://www.kaggle.com/blastchar/telco-customer-churn/download\n",
    "\n",
    "### Features Description:\n",
    "\n",
    "The dataset contains of 21 features\n",
    "- customerID : The Customer ID of the customer and it is unique\n",
    "- gender : The Gender of the customer\n",
    "- SeniorCitizen : To say whether the customer is the SeniorCitizen or not\n",
    "- Partner          : Whether the customer is a Partner or not\n",
    "- Dependents       : Whether the customer has a Dependents or not\n",
    "- tenure           : Tenure or how long the customer is with the company/firm\n",
    "- PhoneService     : Whether the customer has a PhoneService or not\n",
    "- MultipleLines    : Whether the customer has a MultipleLines or not\n",
    "- InternetService  : Whether the customer has a InternetService of DSL/Fiber Optic or not\n",
    "- OnlineSecurity   : Whether the customer has a OnlineSecurity or not\n",
    "- OnlineBackup     : Whether the customer has a OnlineBackup or not\n",
    "- DeviceProtection : Whether the customer has a DeviceProtection or not\n",
    "- TechSupport      : Whether the customer has opted for a TechSupport or not\n",
    "- StreamingTV      : Whether the customer has opted for a StreamingTV or not\n",
    "- StreamingMovies  : Whether the customer has opted for StreamingMovies or not\n",
    "- Contract         : Type of contract the customer is on\n",
    "- PaperlessBilling : Whether the customer has opted for PaperlessBilling or not\n",
    "- PaymentMethod    : Payment method used by the customer\n",
    "- MonthlyCharges   : MonthlyCharges paid by the customer\n",
    "- TotalCharges     : Total charges paid by the customer\n",
    "- Chrun            : Indicated whether the customer has chrunned or not and it is the Target Variable"
   ]
  },
  {
   "cell_type": "markdown",
   "metadata": {},
   "source": [
    "### Project Objective:\n",
    "- The objective of the project is to classify whether the customer will Chrun or not for the Telcom Company."
   ]
  },
  {
   "cell_type": "markdown",
   "metadata": {},
   "source": [
    "## Importing libraries"
   ]
  },
  {
   "cell_type": "code",
   "execution_count": 17,
   "metadata": {},
   "outputs": [],
   "source": [
    "import numpy as np \n",
    "import pandas as pd\n",
    "import itertools\n",
    "%matplotlib inline\n",
    "import matplotlib.pyplot as plt\n",
    "from matplotlib.pylab import rcParams\n",
    "rcParams['figure.figsize'] = 10,8 \n",
    "import seaborn as sns\n",
    "import warnings\n",
    "warnings.filterwarnings(\"ignore\")\n",
    "pd.set_option('display.max_columns', 50)"
   ]
  },
  {
   "cell_type": "markdown",
   "metadata": {},
   "source": [
    "### Reading Data"
   ]
  },
  {
   "cell_type": "code",
   "execution_count": 18,
   "metadata": {},
   "outputs": [
    {
     "data": {
      "text/html": [
       "<div>\n",
       "<style scoped>\n",
       "    .dataframe tbody tr th:only-of-type {\n",
       "        vertical-align: middle;\n",
       "    }\n",
       "\n",
       "    .dataframe tbody tr th {\n",
       "        vertical-align: top;\n",
       "    }\n",
       "\n",
       "    .dataframe thead th {\n",
       "        text-align: right;\n",
       "    }\n",
       "</style>\n",
       "<table border=\"1\" class=\"dataframe\">\n",
       "  <thead>\n",
       "    <tr style=\"text-align: right;\">\n",
       "      <th></th>\n",
       "      <th>customerID</th>\n",
       "      <th>gender</th>\n",
       "      <th>SeniorCitizen</th>\n",
       "      <th>Partner</th>\n",
       "      <th>Dependents</th>\n",
       "      <th>tenure</th>\n",
       "      <th>PhoneService</th>\n",
       "      <th>MultipleLines</th>\n",
       "      <th>InternetService</th>\n",
       "      <th>OnlineSecurity</th>\n",
       "      <th>OnlineBackup</th>\n",
       "      <th>DeviceProtection</th>\n",
       "      <th>TechSupport</th>\n",
       "      <th>StreamingTV</th>\n",
       "      <th>StreamingMovies</th>\n",
       "      <th>Contract</th>\n",
       "      <th>PaperlessBilling</th>\n",
       "      <th>PaymentMethod</th>\n",
       "      <th>MonthlyCharges</th>\n",
       "      <th>TotalCharges</th>\n",
       "      <th>Churn</th>\n",
       "    </tr>\n",
       "  </thead>\n",
       "  <tbody>\n",
       "    <tr>\n",
       "      <th>0</th>\n",
       "      <td>7590-VHVEG</td>\n",
       "      <td>Female</td>\n",
       "      <td>0</td>\n",
       "      <td>Yes</td>\n",
       "      <td>No</td>\n",
       "      <td>1.0</td>\n",
       "      <td>No</td>\n",
       "      <td>No phone service</td>\n",
       "      <td>DSL</td>\n",
       "      <td>No</td>\n",
       "      <td>Yes</td>\n",
       "      <td>No</td>\n",
       "      <td>No</td>\n",
       "      <td>No</td>\n",
       "      <td>No</td>\n",
       "      <td>Month-to-month</td>\n",
       "      <td>Yes</td>\n",
       "      <td>Electronic check</td>\n",
       "      <td>29.85</td>\n",
       "      <td>29.85</td>\n",
       "      <td>No</td>\n",
       "    </tr>\n",
       "    <tr>\n",
       "      <th>1</th>\n",
       "      <td>5575-GNVDE</td>\n",
       "      <td>Male</td>\n",
       "      <td>0</td>\n",
       "      <td>No</td>\n",
       "      <td>No</td>\n",
       "      <td>34.0</td>\n",
       "      <td>Yes</td>\n",
       "      <td>No</td>\n",
       "      <td>DSL</td>\n",
       "      <td>Yes</td>\n",
       "      <td>No</td>\n",
       "      <td>Yes</td>\n",
       "      <td>No</td>\n",
       "      <td>No</td>\n",
       "      <td>No</td>\n",
       "      <td>One year</td>\n",
       "      <td>No</td>\n",
       "      <td>Mailed check</td>\n",
       "      <td>56.95</td>\n",
       "      <td>1889.5</td>\n",
       "      <td>No</td>\n",
       "    </tr>\n",
       "    <tr>\n",
       "      <th>2</th>\n",
       "      <td>3668-QPYBK</td>\n",
       "      <td>Male</td>\n",
       "      <td>0</td>\n",
       "      <td>No</td>\n",
       "      <td>No</td>\n",
       "      <td>2.0</td>\n",
       "      <td>Yes</td>\n",
       "      <td>No</td>\n",
       "      <td>DSL</td>\n",
       "      <td>Yes</td>\n",
       "      <td>Yes</td>\n",
       "      <td>No</td>\n",
       "      <td>No</td>\n",
       "      <td>No</td>\n",
       "      <td>No</td>\n",
       "      <td>Month-to-month</td>\n",
       "      <td>Yes</td>\n",
       "      <td>Mailed check</td>\n",
       "      <td>53.85</td>\n",
       "      <td>108.15</td>\n",
       "      <td>Yes</td>\n",
       "    </tr>\n",
       "    <tr>\n",
       "      <th>3</th>\n",
       "      <td>7795-CFOCW</td>\n",
       "      <td>Male</td>\n",
       "      <td>0</td>\n",
       "      <td>No</td>\n",
       "      <td>No</td>\n",
       "      <td>45.0</td>\n",
       "      <td>No</td>\n",
       "      <td>No phone service</td>\n",
       "      <td>DSL</td>\n",
       "      <td>Yes</td>\n",
       "      <td>No</td>\n",
       "      <td>Yes</td>\n",
       "      <td>Yes</td>\n",
       "      <td>No</td>\n",
       "      <td>No</td>\n",
       "      <td>One year</td>\n",
       "      <td>No</td>\n",
       "      <td>Bank transfer (automatic)</td>\n",
       "      <td>42.30</td>\n",
       "      <td>1840.75</td>\n",
       "      <td>No</td>\n",
       "    </tr>\n",
       "    <tr>\n",
       "      <th>4</th>\n",
       "      <td>9237-HQITU</td>\n",
       "      <td>Female</td>\n",
       "      <td>0</td>\n",
       "      <td>No</td>\n",
       "      <td>No</td>\n",
       "      <td>2.0</td>\n",
       "      <td>Yes</td>\n",
       "      <td>No</td>\n",
       "      <td>Fiber optic</td>\n",
       "      <td>No</td>\n",
       "      <td>No</td>\n",
       "      <td>No</td>\n",
       "      <td>No</td>\n",
       "      <td>No</td>\n",
       "      <td>No</td>\n",
       "      <td>Month-to-month</td>\n",
       "      <td>Yes</td>\n",
       "      <td>Electronic check</td>\n",
       "      <td>70.70</td>\n",
       "      <td>151.65</td>\n",
       "      <td>Yes</td>\n",
       "    </tr>\n",
       "  </tbody>\n",
       "</table>\n",
       "</div>"
      ],
      "text/plain": [
       "   customerID  gender  SeniorCitizen Partner Dependents  tenure PhoneService  \\\n",
       "0  7590-VHVEG  Female              0     Yes         No     1.0           No   \n",
       "1  5575-GNVDE    Male              0      No         No    34.0          Yes   \n",
       "2  3668-QPYBK    Male              0      No         No     2.0          Yes   \n",
       "3  7795-CFOCW    Male              0      No         No    45.0           No   \n",
       "4  9237-HQITU  Female              0      No         No     2.0          Yes   \n",
       "\n",
       "      MultipleLines InternetService OnlineSecurity OnlineBackup  \\\n",
       "0  No phone service             DSL             No          Yes   \n",
       "1                No             DSL            Yes           No   \n",
       "2                No             DSL            Yes          Yes   \n",
       "3  No phone service             DSL            Yes           No   \n",
       "4                No     Fiber optic             No           No   \n",
       "\n",
       "  DeviceProtection TechSupport StreamingTV StreamingMovies        Contract  \\\n",
       "0               No          No          No              No  Month-to-month   \n",
       "1              Yes          No          No              No        One year   \n",
       "2               No          No          No              No  Month-to-month   \n",
       "3              Yes         Yes          No              No        One year   \n",
       "4               No          No          No              No  Month-to-month   \n",
       "\n",
       "  PaperlessBilling              PaymentMethod  MonthlyCharges TotalCharges  \\\n",
       "0              Yes           Electronic check           29.85        29.85   \n",
       "1               No               Mailed check           56.95       1889.5   \n",
       "2              Yes               Mailed check           53.85       108.15   \n",
       "3               No  Bank transfer (automatic)           42.30      1840.75   \n",
       "4              Yes           Electronic check           70.70       151.65   \n",
       "\n",
       "  Churn  \n",
       "0    No  \n",
       "1    No  \n",
       "2   Yes  \n",
       "3    No  \n",
       "4   Yes  "
      ]
     },
     "execution_count": 18,
     "metadata": {},
     "output_type": "execute_result"
    }
   ],
   "source": [
    "### reading the data from the csv file and loading into a dataframe \n",
    "telcom_df = pd.read_csv(\"Telecom_Customer_Churn_prediction.csv\")\n",
    "#Displaying the first 5 rows to get an idea on what type of feature are we dealing with\n",
    "telcom_df.head(5)"
   ]
  },
  {
   "cell_type": "code",
   "execution_count": 19,
   "metadata": {
    "scrolled": true
   },
   "outputs": [
    {
     "data": {
      "text/plain": [
       "(7043, 21)"
      ]
     },
     "execution_count": 19,
     "metadata": {},
     "output_type": "execute_result"
    }
   ],
   "source": [
    "### No of rows: 7043 , No of Cols: 21\n",
    "telcom_df.shape"
   ]
  },
  {
   "cell_type": "code",
   "execution_count": 20,
   "metadata": {
    "scrolled": true
   },
   "outputs": [
    {
     "data": {
      "text/html": [
       "<div>\n",
       "<style scoped>\n",
       "    .dataframe tbody tr th:only-of-type {\n",
       "        vertical-align: middle;\n",
       "    }\n",
       "\n",
       "    .dataframe tbody tr th {\n",
       "        vertical-align: top;\n",
       "    }\n",
       "\n",
       "    .dataframe thead th {\n",
       "        text-align: right;\n",
       "    }\n",
       "</style>\n",
       "<table border=\"1\" class=\"dataframe\">\n",
       "  <thead>\n",
       "    <tr style=\"text-align: right;\">\n",
       "      <th></th>\n",
       "      <th>SeniorCitizen</th>\n",
       "      <th>tenure</th>\n",
       "      <th>MonthlyCharges</th>\n",
       "    </tr>\n",
       "  </thead>\n",
       "  <tbody>\n",
       "    <tr>\n",
       "      <th>count</th>\n",
       "      <td>7043.000000</td>\n",
       "      <td>7022.000000</td>\n",
       "      <td>7043.000000</td>\n",
       "    </tr>\n",
       "    <tr>\n",
       "      <th>mean</th>\n",
       "      <td>0.162147</td>\n",
       "      <td>32.340644</td>\n",
       "      <td>64.761692</td>\n",
       "    </tr>\n",
       "    <tr>\n",
       "      <th>std</th>\n",
       "      <td>0.368612</td>\n",
       "      <td>24.565824</td>\n",
       "      <td>30.090047</td>\n",
       "    </tr>\n",
       "    <tr>\n",
       "      <th>min</th>\n",
       "      <td>0.000000</td>\n",
       "      <td>0.000000</td>\n",
       "      <td>18.250000</td>\n",
       "    </tr>\n",
       "    <tr>\n",
       "      <th>25%</th>\n",
       "      <td>0.000000</td>\n",
       "      <td>9.000000</td>\n",
       "      <td>35.500000</td>\n",
       "    </tr>\n",
       "    <tr>\n",
       "      <th>50%</th>\n",
       "      <td>0.000000</td>\n",
       "      <td>29.000000</td>\n",
       "      <td>70.350000</td>\n",
       "    </tr>\n",
       "    <tr>\n",
       "      <th>75%</th>\n",
       "      <td>0.000000</td>\n",
       "      <td>55.000000</td>\n",
       "      <td>89.850000</td>\n",
       "    </tr>\n",
       "    <tr>\n",
       "      <th>max</th>\n",
       "      <td>1.000000</td>\n",
       "      <td>72.000000</td>\n",
       "      <td>118.750000</td>\n",
       "    </tr>\n",
       "  </tbody>\n",
       "</table>\n",
       "</div>"
      ],
      "text/plain": [
       "       SeniorCitizen       tenure  MonthlyCharges\n",
       "count    7043.000000  7022.000000     7043.000000\n",
       "mean        0.162147    32.340644       64.761692\n",
       "std         0.368612    24.565824       30.090047\n",
       "min         0.000000     0.000000       18.250000\n",
       "25%         0.000000     9.000000       35.500000\n",
       "50%         0.000000    29.000000       70.350000\n",
       "75%         0.000000    55.000000       89.850000\n",
       "max         1.000000    72.000000      118.750000"
      ]
     },
     "execution_count": 20,
     "metadata": {},
     "output_type": "execute_result"
    }
   ],
   "source": [
    "## From the stats of the data it is clear that the dataset has only two numerical features(tenure,MonthlyCharges). \n",
    "## So we have to do data transformation such as one hot encoding,Mapping the values etc.\n",
    "telcom_df.describe()"
   ]
  },
  {
   "cell_type": "markdown",
   "metadata": {},
   "source": [
    "### From the info() we can clearly see that TotalCharges column is being marked as object type eventhough it contains numbers. We can start with changing them to float values to begin with the data manipualation"
   ]
  },
  {
   "cell_type": "code",
   "execution_count": 21,
   "metadata": {},
   "outputs": [
    {
     "name": "stdout",
     "output_type": "stream",
     "text": [
      "<class 'pandas.core.frame.DataFrame'>\n",
      "RangeIndex: 7043 entries, 0 to 7042\n",
      "Data columns (total 21 columns):\n",
      "customerID          7043 non-null object\n",
      "gender              7043 non-null object\n",
      "SeniorCitizen       7043 non-null int64\n",
      "Partner             7043 non-null object\n",
      "Dependents          7043 non-null object\n",
      "tenure              7022 non-null float64\n",
      "PhoneService        7043 non-null object\n",
      "MultipleLines       7043 non-null object\n",
      "InternetService     7043 non-null object\n",
      "OnlineSecurity      7043 non-null object\n",
      "OnlineBackup        7043 non-null object\n",
      "DeviceProtection    7038 non-null object\n",
      "TechSupport         7043 non-null object\n",
      "StreamingTV         7043 non-null object\n",
      "StreamingMovies     7043 non-null object\n",
      "Contract            7043 non-null object\n",
      "PaperlessBilling    7043 non-null object\n",
      "PaymentMethod       7043 non-null object\n",
      "MonthlyCharges      7043 non-null float64\n",
      "TotalCharges        7020 non-null object\n",
      "Churn               7043 non-null object\n",
      "dtypes: float64(2), int64(1), object(18)\n",
      "memory usage: 1.1+ MB\n"
     ]
    }
   ],
   "source": [
    "telcom_df.info()"
   ]
  },
  {
   "cell_type": "markdown",
   "metadata": {},
   "source": [
    "### Percentage of Missing values on each column"
   ]
  },
  {
   "cell_type": "code",
   "execution_count": 22,
   "metadata": {},
   "outputs": [
    {
     "data": {
      "text/plain": [
       "customerID           0\n",
       "gender               0\n",
       "SeniorCitizen        0\n",
       "Partner              0\n",
       "Dependents           0\n",
       "tenure              21\n",
       "PhoneService         0\n",
       "MultipleLines        0\n",
       "InternetService      0\n",
       "OnlineSecurity       0\n",
       "OnlineBackup         0\n",
       "DeviceProtection     5\n",
       "TechSupport          0\n",
       "StreamingTV          0\n",
       "StreamingMovies      0\n",
       "Contract             0\n",
       "PaperlessBilling     0\n",
       "PaymentMethod        0\n",
       "MonthlyCharges       0\n",
       "TotalCharges        23\n",
       "Churn                0\n",
       "dtype: int64"
      ]
     },
     "execution_count": 22,
     "metadata": {},
     "output_type": "execute_result"
    }
   ],
   "source": [
    "Missing_Values=(telcom_df.isna().sum(axis=0))\n",
    "Missing_Values"
   ]
  },
  {
   "cell_type": "code",
   "execution_count": 23,
   "metadata": {},
   "outputs": [
    {
     "data": {
      "text/plain": [
       "customerID          0.000000\n",
       "gender              0.000000\n",
       "SeniorCitizen       0.000000\n",
       "Partner             0.000000\n",
       "Dependents          0.000000\n",
       "tenure              0.298168\n",
       "PhoneService        0.000000\n",
       "MultipleLines       0.000000\n",
       "InternetService     0.000000\n",
       "OnlineSecurity      0.000000\n",
       "OnlineBackup        0.000000\n",
       "DeviceProtection    0.070992\n",
       "TechSupport         0.000000\n",
       "StreamingTV         0.000000\n",
       "StreamingMovies     0.000000\n",
       "Contract            0.000000\n",
       "PaperlessBilling    0.000000\n",
       "PaymentMethod       0.000000\n",
       "MonthlyCharges      0.000000\n",
       "TotalCharges        0.326565\n",
       "Churn               0.000000\n",
       "dtype: float64"
      ]
     },
     "execution_count": 23,
     "metadata": {},
     "output_type": "execute_result"
    }
   ],
   "source": [
    "Missing_values_percent=(telcom_df.isna().sum(axis=0)/len(telcom_df))*100\n",
    "Missing_values_percent"
   ]
  },
  {
   "cell_type": "markdown",
   "metadata": {},
   "source": [
    "### The following can be done to handle the missing values in the dataset.\n",
    "* It can be seen that % of data missing in the device protection column is only 7% (5 Values) so these values can be dropped. \n",
    "* The missing values in the Total charges and Tenure has to be handled using imputation since the missing value percentage is more than 10%"
   ]
  },
  {
   "cell_type": "markdown",
   "metadata": {},
   "source": [
    "# Data Transformation"
   ]
  },
  {
   "cell_type": "code",
   "execution_count": 24,
   "metadata": {},
   "outputs": [],
   "source": [
    "### Replacing the blank values of Total Charges Column with nan's and convert the type from str to float\n",
    "telcom_df['TotalCharges'] = telcom_df[\"TotalCharges\"].replace(\" \",np.nan)\n",
    "telcom_df[\"TotalCharges\"] = telcom_df[\"TotalCharges\"].astype(float)"
   ]
  },
  {
   "cell_type": "markdown",
   "metadata": {},
   "source": [
    "### From the data we can clearly see that product of Monthly charges and Tenure yield the values in the Total Charges column"
   ]
  },
  {
   "cell_type": "code",
   "execution_count": 25,
   "metadata": {},
   "outputs": [],
   "source": [
    "### iterrows helps us to loop through the dataframe row by row\n",
    "### Replacing the nan with the product of Monthly charges and tenure to arrive at the Total charges\n",
    "for idx, row in telcom_df.iterrows():\n",
    "    if(pd.isna(row['TotalCharges'])):\n",
    "        telcom_df['TotalCharges'][idx]= row['MonthlyCharges'] * row ['tenure']"
   ]
  },
  {
   "cell_type": "markdown",
   "metadata": {},
   "source": [
    "### To derive the value for Tenure, divide the Total charges by Monthly Charges"
   ]
  },
  {
   "cell_type": "code",
   "execution_count": 26,
   "metadata": {},
   "outputs": [],
   "source": [
    "telcom_df['tenure'] = telcom_df[\"tenure\"].replace(\" \",np.nan)\n",
    "for idx, row in telcom_df.iterrows():\n",
    "    if(pd.isna(row['tenure'])):\n",
    "        telcom_df['tenure'][idx]= row['TotalCharges']/row['MonthlyCharges']"
   ]
  },
  {
   "cell_type": "code",
   "execution_count": 27,
   "metadata": {},
   "outputs": [
    {
     "data": {
      "text/plain": [
       "customerID          0.000000\n",
       "gender              0.000000\n",
       "SeniorCitizen       0.000000\n",
       "Partner             0.000000\n",
       "Dependents          0.000000\n",
       "tenure              0.000000\n",
       "PhoneService        0.000000\n",
       "MultipleLines       0.000000\n",
       "InternetService     0.000000\n",
       "OnlineSecurity      0.000000\n",
       "OnlineBackup        0.000000\n",
       "DeviceProtection    0.070992\n",
       "TechSupport         0.000000\n",
       "StreamingTV         0.000000\n",
       "StreamingMovies     0.000000\n",
       "Contract            0.000000\n",
       "PaperlessBilling    0.000000\n",
       "PaymentMethod       0.000000\n",
       "MonthlyCharges      0.000000\n",
       "TotalCharges        0.000000\n",
       "Churn               0.000000\n",
       "dtype: float64"
      ]
     },
     "execution_count": 27,
     "metadata": {},
     "output_type": "execute_result"
    }
   ],
   "source": [
    "(telcom_df.isna().sum(axis=0)/len(telcom_df))*100"
   ]
  },
  {
   "cell_type": "markdown",
   "metadata": {},
   "source": [
    "### Removing the nan from the Device protection column"
   ]
  },
  {
   "cell_type": "code",
   "execution_count": 28,
   "metadata": {},
   "outputs": [
    {
     "data": {
      "text/plain": [
       "7043"
      ]
     },
     "execution_count": 28,
     "metadata": {},
     "output_type": "execute_result"
    }
   ],
   "source": [
    "### No of rows before dropping the 5 nan rows from the device protection\n",
    "telcom_df.shape[0]"
   ]
  },
  {
   "cell_type": "code",
   "execution_count": 29,
   "metadata": {},
   "outputs": [],
   "source": [
    "telcom_df.dropna(inplace=True)"
   ]
  },
  {
   "cell_type": "code",
   "execution_count": 30,
   "metadata": {},
   "outputs": [
    {
     "data": {
      "text/plain": [
       "7038"
      ]
     },
     "execution_count": 30,
     "metadata": {},
     "output_type": "execute_result"
    }
   ],
   "source": [
    "### No of rows after dropping the 5 nan rows from the device protection\n",
    "telcom_df.shape[0]"
   ]
  },
  {
   "cell_type": "code",
   "execution_count": 31,
   "metadata": {},
   "outputs": [
    {
     "name": "stdout",
     "output_type": "stream",
     "text": [
      "<class 'pandas.core.frame.DataFrame'>\n",
      "Int64Index: 7038 entries, 0 to 7042\n",
      "Data columns (total 21 columns):\n",
      "customerID          7038 non-null object\n",
      "gender              7038 non-null object\n",
      "SeniorCitizen       7038 non-null int64\n",
      "Partner             7038 non-null object\n",
      "Dependents          7038 non-null object\n",
      "tenure              7038 non-null float64\n",
      "PhoneService        7038 non-null object\n",
      "MultipleLines       7038 non-null object\n",
      "InternetService     7038 non-null object\n",
      "OnlineSecurity      7038 non-null object\n",
      "OnlineBackup        7038 non-null object\n",
      "DeviceProtection    7038 non-null object\n",
      "TechSupport         7038 non-null object\n",
      "StreamingTV         7038 non-null object\n",
      "StreamingMovies     7038 non-null object\n",
      "Contract            7038 non-null object\n",
      "PaperlessBilling    7038 non-null object\n",
      "PaymentMethod       7038 non-null object\n",
      "MonthlyCharges      7038 non-null float64\n",
      "TotalCharges        7038 non-null float64\n",
      "Churn               7038 non-null object\n",
      "dtypes: float64(3), int64(1), object(17)\n",
      "memory usage: 1.2+ MB\n"
     ]
    }
   ],
   "source": [
    "telcom_df.info()"
   ]
  },
  {
   "cell_type": "code",
   "execution_count": 32,
   "metadata": {},
   "outputs": [
    {
     "name": "stdout",
     "output_type": "stream",
     "text": [
      "The no of unique values in gender is:['Female' 'Male']\n",
      "The no of unique values in SeniorCitizen is:[0 1]\n",
      "The no of unique values in Partner is:['Yes' 'No']\n",
      "The no of unique values in Dependents is:['No' 'Yes']\n",
      "The no of unique values in PhoneService is:['No' 'Yes']\n",
      "The no of unique values in MultipleLines is:['No phone service' 'No' 'Yes']\n",
      "The no of unique values in InternetService is:['DSL' 'Fiber optic' 'No']\n",
      "The no of unique values in OnlineSecurity is:['No' 'Yes' 'No internet service']\n",
      "The no of unique values in OnlineBackup is:['Yes' 'No' 'No internet service']\n",
      "The no of unique values in DeviceProtection is:['No' 'Yes' 'No internet service']\n",
      "The no of unique values in TechSupport is:['No' 'Yes' 'No internet service']\n",
      "The no of unique values in StreamingTV is:['No' 'Yes' 'No internet service']\n",
      "The no of unique values in StreamingMovies is:['No' 'Yes' 'No internet service']\n",
      "The no of unique values in Contract is:['Month-to-month' 'One year' 'Two year']\n",
      "The no of unique values in PaperlessBilling is:['Yes' 'No']\n",
      "The no of unique values in PaymentMethod is:['Electronic check' 'Mailed check' 'Bank transfer (automatic)'\n",
      " 'Credit card (automatic)']\n",
      "The no of unique values in Churn is:['No' 'Yes']\n"
     ]
    }
   ],
   "source": [
    "### It is observed from the dataset there are many columns having 'No' and 'No Internet service'. \n",
    "### Replacing 'No Internet service' with 'No'. Since it means the same\n",
    "for col in telcom_df.columns:\n",
    "    if col not in ['tenure','customerID','MonthlyCharges','TotalCharges']:\n",
    "        print('The no of unique values in {} is:{}'.format(col,telcom_df[col].unique()))"
   ]
  },
  {
   "cell_type": "code",
   "execution_count": 33,
   "metadata": {},
   "outputs": [],
   "source": [
    "#replace No Internet Services to No for the following columns\n",
    "rep_cols = ['MultipleLines','OnlineSecurity', 'OnlineBackup', 'DeviceProtection',\n",
    "                'TechSupport','StreamingTV', 'StreamingMovies']\n",
    "for i in rep_cols : \n",
    "    telcom_df[i]  = telcom_df[i].replace({'No internet service' : 'No'})\n",
    "    \n",
    "\n",
    "telcom_df['MultipleLines']  = telcom_df['MultipleLines'].replace({'No phone service' : 'No'})\n",
    "    \n",
    "# #replace values yes and no as 1 and 0 in the senior citizen column\n",
    "# telcom_df[\"SeniorCitizen\"] = telcom_df[\"SeniorCitizen\"].replace({1:\"Yes\",0:\"No\"})\n",
    "\n",
    "#Grouping the Tenure and create a seperate column to analyse the impact of tenure towards the  customer churn\n",
    "def tenure_grouping(telcom_df) :\n",
    "    \n",
    "    if telcom_df[\"tenure\"] <= 12 :\n",
    "        return \"Tenure_0-12\"\n",
    "    elif (telcom_df[\"tenure\"] > 12) & (telcom_df[\"tenure\"] <= 24 ):\n",
    "        return \"Tenure_12-24\"\n",
    "    elif (telcom_df[\"tenure\"] > 24) & (telcom_df[\"tenure\"] <= 48) :\n",
    "        return \"Tenure_24-48\"\n",
    "    elif (telcom_df[\"tenure\"] > 48) & (telcom_df[\"tenure\"] <= 60) :\n",
    "        return \"Tenure_48-60\"\n",
    "    elif telcom_df[\"tenure\"] > 60 :\n",
    "        return \"Tenure_gt_60\"\n",
    "telcom_df[\"tenure_group\"] = telcom_df.apply(lambda telcom_df:tenure_grouping(telcom_df),axis = 1)\n",
    "\n",
    "\n",
    "#Separating churn and non churn customers\n",
    "churn     = telcom_df[telcom_df[\"Churn\"] == \"Yes\"]\n",
    "not_churn = telcom_df[telcom_df[\"Churn\"] == \"No\"]\n",
    "\n",
    "#Separating catagorical and numerical columns\n",
    "Id_col     = ['customerID']\n",
    "target_col = [\"Churn\"]\n",
    "catagorical_cols   = telcom_df.nunique()[telcom_df.nunique() < 6].keys().tolist()\n",
    "catagorical_cols   = [x for x in catagorical_cols if x not in target_col]\n",
    "numeric_col   = [x for x in telcom_df.columns if x not in catagorical_cols + target_col + Id_col]"
   ]
  },
  {
   "cell_type": "code",
   "execution_count": 34,
   "metadata": {},
   "outputs": [
    {
     "name": "stdout",
     "output_type": "stream",
     "text": [
      "The no of unique values in gender is:['Female' 'Male']\n",
      "The no of unique values in SeniorCitizen is:[0 1]\n",
      "The no of unique values in Partner is:['Yes' 'No']\n",
      "The no of unique values in Dependents is:['No' 'Yes']\n",
      "The no of unique values in PhoneService is:['No' 'Yes']\n",
      "The no of unique values in MultipleLines is:['No' 'Yes']\n",
      "The no of unique values in InternetService is:['DSL' 'Fiber optic' 'No']\n",
      "The no of unique values in OnlineSecurity is:['No' 'Yes']\n",
      "The no of unique values in OnlineBackup is:['Yes' 'No']\n",
      "The no of unique values in DeviceProtection is:['No' 'Yes']\n",
      "The no of unique values in TechSupport is:['No' 'Yes']\n",
      "The no of unique values in StreamingTV is:['No' 'Yes']\n",
      "The no of unique values in StreamingMovies is:['No' 'Yes']\n",
      "The no of unique values in Contract is:['Month-to-month' 'One year' 'Two year']\n",
      "The no of unique values in PaperlessBilling is:['Yes' 'No']\n",
      "The no of unique values in PaymentMethod is:['Electronic check' 'Mailed check' 'Bank transfer (automatic)'\n",
      " 'Credit card (automatic)']\n",
      "The no of unique values in Churn is:['No' 'Yes']\n",
      "The no of unique values in tenure_group is:['Tenure_0-12' 'Tenure_24-48' 'Tenure_12-24' 'Tenure_gt_60' 'Tenure_48-60']\n"
     ]
    }
   ],
   "source": [
    "### Coluumn values after replacement\n",
    "for col in telcom_df.columns:\n",
    "    if col not in ['tenure','customerID','MonthlyCharges','TotalCharges']:\n",
    "        print('The no of unique values in {} is:{}'.format(col,telcom_df[col].unique()))"
   ]
  },
  {
   "cell_type": "code",
   "execution_count": 35,
   "metadata": {},
   "outputs": [
    {
     "data": {
      "text/plain": [
       "['gender',\n",
       " 'SeniorCitizen',\n",
       " 'Partner',\n",
       " 'Dependents',\n",
       " 'PhoneService',\n",
       " 'MultipleLines',\n",
       " 'InternetService',\n",
       " 'OnlineSecurity',\n",
       " 'OnlineBackup',\n",
       " 'DeviceProtection',\n",
       " 'TechSupport',\n",
       " 'StreamingTV',\n",
       " 'StreamingMovies',\n",
       " 'Contract',\n",
       " 'PaperlessBilling',\n",
       " 'PaymentMethod',\n",
       " 'tenure_group']"
      ]
     },
     "execution_count": 35,
     "metadata": {},
     "output_type": "execute_result"
    }
   ],
   "source": [
    "### The Categorical columns present in the dataset\n",
    "catagorical_cols"
   ]
  },
  {
   "cell_type": "code",
   "execution_count": 36,
   "metadata": {},
   "outputs": [
    {
     "data": {
      "text/plain": [
       "['tenure', 'MonthlyCharges', 'TotalCharges']"
      ]
     },
     "execution_count": 36,
     "metadata": {},
     "output_type": "execute_result"
    }
   ],
   "source": [
    "### Numeric columns present in the dataset\n",
    "numeric_col"
   ]
  },
  {
   "cell_type": "code",
   "execution_count": 37,
   "metadata": {},
   "outputs": [
    {
     "name": "stdout",
     "output_type": "stream",
     "text": [
      "The No of unique values in the CustomerID columns is:7038\n"
     ]
    },
    {
     "data": {
      "text/html": [
       "<div>\n",
       "<style scoped>\n",
       "    .dataframe tbody tr th:only-of-type {\n",
       "        vertical-align: middle;\n",
       "    }\n",
       "\n",
       "    .dataframe tbody tr th {\n",
       "        vertical-align: top;\n",
       "    }\n",
       "\n",
       "    .dataframe thead th {\n",
       "        text-align: right;\n",
       "    }\n",
       "</style>\n",
       "<table border=\"1\" class=\"dataframe\">\n",
       "  <thead>\n",
       "    <tr style=\"text-align: right;\">\n",
       "      <th></th>\n",
       "      <th>gender</th>\n",
       "      <th>SeniorCitizen</th>\n",
       "      <th>Partner</th>\n",
       "      <th>Dependents</th>\n",
       "      <th>tenure</th>\n",
       "      <th>PhoneService</th>\n",
       "      <th>MultipleLines</th>\n",
       "      <th>InternetService</th>\n",
       "      <th>OnlineSecurity</th>\n",
       "      <th>OnlineBackup</th>\n",
       "      <th>DeviceProtection</th>\n",
       "      <th>TechSupport</th>\n",
       "      <th>StreamingTV</th>\n",
       "      <th>StreamingMovies</th>\n",
       "      <th>Contract</th>\n",
       "      <th>PaperlessBilling</th>\n",
       "      <th>PaymentMethod</th>\n",
       "      <th>MonthlyCharges</th>\n",
       "      <th>TotalCharges</th>\n",
       "      <th>Churn</th>\n",
       "      <th>tenure_group</th>\n",
       "    </tr>\n",
       "    <tr>\n",
       "      <th>customerID</th>\n",
       "      <th></th>\n",
       "      <th></th>\n",
       "      <th></th>\n",
       "      <th></th>\n",
       "      <th></th>\n",
       "      <th></th>\n",
       "      <th></th>\n",
       "      <th></th>\n",
       "      <th></th>\n",
       "      <th></th>\n",
       "      <th></th>\n",
       "      <th></th>\n",
       "      <th></th>\n",
       "      <th></th>\n",
       "      <th></th>\n",
       "      <th></th>\n",
       "      <th></th>\n",
       "      <th></th>\n",
       "      <th></th>\n",
       "      <th></th>\n",
       "      <th></th>\n",
       "    </tr>\n",
       "  </thead>\n",
       "  <tbody>\n",
       "    <tr>\n",
       "      <th>7590-VHVEG</th>\n",
       "      <td>Female</td>\n",
       "      <td>0</td>\n",
       "      <td>Yes</td>\n",
       "      <td>No</td>\n",
       "      <td>1.0</td>\n",
       "      <td>No</td>\n",
       "      <td>No</td>\n",
       "      <td>DSL</td>\n",
       "      <td>No</td>\n",
       "      <td>Yes</td>\n",
       "      <td>No</td>\n",
       "      <td>No</td>\n",
       "      <td>No</td>\n",
       "      <td>No</td>\n",
       "      <td>Month-to-month</td>\n",
       "      <td>Yes</td>\n",
       "      <td>Electronic check</td>\n",
       "      <td>29.85</td>\n",
       "      <td>29.85</td>\n",
       "      <td>No</td>\n",
       "      <td>Tenure_0-12</td>\n",
       "    </tr>\n",
       "    <tr>\n",
       "      <th>5575-GNVDE</th>\n",
       "      <td>Male</td>\n",
       "      <td>0</td>\n",
       "      <td>No</td>\n",
       "      <td>No</td>\n",
       "      <td>34.0</td>\n",
       "      <td>Yes</td>\n",
       "      <td>No</td>\n",
       "      <td>DSL</td>\n",
       "      <td>Yes</td>\n",
       "      <td>No</td>\n",
       "      <td>Yes</td>\n",
       "      <td>No</td>\n",
       "      <td>No</td>\n",
       "      <td>No</td>\n",
       "      <td>One year</td>\n",
       "      <td>No</td>\n",
       "      <td>Mailed check</td>\n",
       "      <td>56.95</td>\n",
       "      <td>1889.50</td>\n",
       "      <td>No</td>\n",
       "      <td>Tenure_24-48</td>\n",
       "    </tr>\n",
       "  </tbody>\n",
       "</table>\n",
       "</div>"
      ],
      "text/plain": [
       "            gender  SeniorCitizen Partner Dependents  tenure PhoneService  \\\n",
       "customerID                                                                  \n",
       "7590-VHVEG  Female              0     Yes         No     1.0           No   \n",
       "5575-GNVDE    Male              0      No         No    34.0          Yes   \n",
       "\n",
       "           MultipleLines InternetService OnlineSecurity OnlineBackup  \\\n",
       "customerID                                                             \n",
       "7590-VHVEG            No             DSL             No          Yes   \n",
       "5575-GNVDE            No             DSL            Yes           No   \n",
       "\n",
       "           DeviceProtection TechSupport StreamingTV StreamingMovies  \\\n",
       "customerID                                                            \n",
       "7590-VHVEG               No          No          No              No   \n",
       "5575-GNVDE              Yes          No          No              No   \n",
       "\n",
       "                  Contract PaperlessBilling     PaymentMethod  MonthlyCharges  \\\n",
       "customerID                                                                      \n",
       "7590-VHVEG  Month-to-month              Yes  Electronic check           29.85   \n",
       "5575-GNVDE        One year               No      Mailed check           56.95   \n",
       "\n",
       "            TotalCharges Churn  tenure_group  \n",
       "customerID                                    \n",
       "7590-VHVEG         29.85    No   Tenure_0-12  \n",
       "5575-GNVDE       1889.50    No  Tenure_24-48  "
      ]
     },
     "execution_count": 37,
     "metadata": {},
     "output_type": "execute_result"
    }
   ],
   "source": [
    "### All the values in the CustomerID column is unique so this columns can be set as an index for the dataframe\n",
    "print(f'The No of unique values in the CustomerID columns is:{len(telcom_df.customerID.unique())}')\n",
    "telcom_df=telcom_df.set_index('customerID')\n",
    "telcom_df.head(2)"
   ]
  },
  {
   "cell_type": "markdown",
   "metadata": {},
   "source": [
    "# Exploratory Data Analysis"
   ]
  },
  {
   "cell_type": "markdown",
   "metadata": {},
   "source": [
    "## Churn Distribution in Data"
   ]
  },
  {
   "cell_type": "code",
   "execution_count": 38,
   "metadata": {},
   "outputs": [
    {
     "data": {
      "image/png": "[encoded data removed]",
      "text/plain": [
       "<Figure size 720x576 with 1 Axes>"
      ]
     },
     "metadata": {},
     "output_type": "display_data"
    }
   ],
   "source": [
    "#labels\n",
    "labels = telcom_df[\"Churn\"].value_counts().keys().tolist()\n",
    "#values\n",
    "values = telcom_df[\"Churn\"].value_counts().values.tolist()\n",
    "\n",
    "plt.bar(labels,values)\n",
    "plt.title('Chrun vs Non Chrun Customers')\n",
    "plt.xticks([1,0],labels=['Chrun','No churn'])\n",
    "plt.xlabel('Chrun / No chrun')\n",
    "plt.ylabel('No of Customers')\n",
    "plt.tight_layout()\n",
    "plt.show()"
   ]
  },
  {
   "cell_type": "markdown",
   "metadata": {},
   "source": [
    "### The No of Non chrun customers is more than the chrun customers. This clearly indicates that there is a class imbalance in this dataset. Will handle class imbalance later in this notebook using SMOTE"
   ]
  },
  {
   "cell_type": "code",
   "execution_count": 39,
   "metadata": {},
   "outputs": [
    {
     "data": {
      "image/png": "[encoded data removed]",
      "text/plain": [
       "<Figure size 720x576 with 1 Axes>"
      ]
     },
     "metadata": {},
     "output_type": "display_data"
    }
   ],
   "source": [
    "# Customer Chrun by Tenure Groups\n",
    "\n",
    "tg_ch  =  churn[\"tenure_group\"].value_counts().reset_index()\n",
    "tg_ch.columns  = [\"tenure_group\",\"count\"]\n",
    "#tg_ch=tg_ch.sort_values(by='count')\n",
    "tg_nch =  not_churn[\"tenure_group\"].value_counts().reset_index()\n",
    "tg_nch.columns = [\"tenure_group\",\"count\"]\n",
    "\n",
    "###Re-ordering the non-Chrun dataframe\n",
    "tg_nch1=pd.DataFrame(columns=['tenure_group','count'],index=[0,1,2,3,4])\n",
    "tg_nch1.loc[0]=tg_nch.loc[2]\n",
    "tg_nch1.loc[1]=tg_nch.loc[1]\n",
    "tg_nch1.loc[2]=tg_nch.loc[3]\n",
    "tg_nch1.loc[3]=tg_nch.loc[4]\n",
    "tg_nch1.loc[4]=tg_nch.loc[0]\n",
    "tg_nch1\n",
    "\n",
    "# create plot\n",
    "n_groups=5\n",
    "fig, ax = plt.subplots()\n",
    "index = np.arange(n_groups)\n",
    "bar_width = 0.35\n",
    "opacity = 0.8\n",
    "\n",
    "rects1 = plt.bar(index, tg_ch['count'], bar_width,\n",
    "alpha=opacity,\n",
    "color='b',\n",
    "label='Chrun')\n",
    "\n",
    "rects2 = plt.bar(index + bar_width, tg_nch1['count'], bar_width,\n",
    "alpha=opacity,\n",
    "color='g',\n",
    "label='No Chrun')\n",
    "\n",
    "plt.xlabel('Tenure Groups')\n",
    "plt.ylabel('count')\n",
    "plt.title('Customer Chrun by Tenure Groups')\n",
    "plt.xticks(index + bar_width, ('Tenure_0-12', 'Tenure_24-48', 'Tenure_12-24', 'Tenure_48-60' , 'Tenure_gt_60'))\n",
    "plt.legend()\n",
    "plt.tight_layout()\n",
    "plt.show()"
   ]
  },
  {
   "cell_type": "markdown",
   "metadata": {},
   "source": [
    "### From the above graph it can be seen clearly that customers don't chrun if they are staying with the same vendor for a long time i.e. Tenure > 60 group has significantly less no of customer chrun than Tenure group 0-12"
   ]
  },
  {
   "cell_type": "code",
   "execution_count": 40,
   "metadata": {},
   "outputs": [
    {
     "data": {
      "text/plain": [
       "gender                 2\n",
       "SeniorCitizen          2\n",
       "Partner                2\n",
       "Dependents             2\n",
       "tenure                94\n",
       "PhoneService           2\n",
       "MultipleLines          2\n",
       "InternetService        3\n",
       "OnlineSecurity         2\n",
       "OnlineBackup           2\n",
       "DeviceProtection       2\n",
       "TechSupport            2\n",
       "StreamingTV            2\n",
       "StreamingMovies        2\n",
       "Contract               3\n",
       "PaperlessBilling       2\n",
       "PaymentMethod          4\n",
       "MonthlyCharges      1585\n",
       "TotalCharges        6524\n",
       "Churn                  2\n",
       "tenure_group           5\n",
       "dtype: int64"
      ]
     },
     "execution_count": 40,
     "metadata": {},
     "output_type": "execute_result"
    }
   ],
   "source": [
    "telcom_df.nunique()"
   ]
  },
  {
   "cell_type": "markdown",
   "metadata": {},
   "source": [
    "### MinMax Scaler: MinMax scaling is used to avoid any feature to dominate the model. MinMax scaling scales all the data in the columns between 0 to 1."
   ]
  },
  {
   "cell_type": "code",
   "execution_count": 41,
   "metadata": {},
   "outputs": [],
   "source": [
    "from sklearn.preprocessing import LabelEncoder\n",
    "from sklearn.preprocessing import MinMaxScaler\n",
    "\n",
    "#customer id col\n",
    "Id_col  = ['customerID']\n",
    "#Target columns\n",
    "target_col = [\"Churn\"]\n",
    "\n",
    "#categorical columns\n",
    "catagorical_cols   = telcom_df.nunique()[telcom_df.nunique() < 6].keys().tolist()\n",
    "catagorical_cols   = [x for x in catagorical_cols if x not in target_col]\n",
    "#numerical columns\n",
    "numeric_col   = [x for x in telcom_df.columns if x not in catagorical_cols + target_col + Id_col]\n",
    "#Binary columns with 2 values\n",
    "bin_cols   = telcom_df.nunique()[telcom_df.nunique() == 2].keys().tolist()\n",
    "#Columns more than 2 values\n",
    "multi_cols = [i for i in catagorical_cols if i not in bin_cols]\n",
    "\n",
    "\n",
    "#Label encoding Binary columns\n",
    "le = LabelEncoder()\n",
    "for i in bin_cols :\n",
    "    telcom_df[i] = le.fit_transform(telcom_df[i])\n",
    "\n",
    "#Duplicating columns for multi value columns\n",
    "telcom_df = pd.get_dummies(data = telcom_df,columns = multi_cols )\n",
    "\n",
    "\n",
    "#Scaling Numerical columns\n",
    "scaler = MinMaxScaler()\n",
    "scaled = scaler.fit_transform(telcom_df[numeric_col])\n",
    "scaled = pd.DataFrame(scaled,columns=numeric_col,index=telcom_df.index)\n",
    "\n",
    "#dropping original values merging scaled values for numerical columns\n",
    "df_telcom_og = telcom_df.copy()\n",
    "telcom_df = telcom_df.drop(columns = numeric_col,axis = 1)\n",
    "telcom_df = telcom_df.merge(scaled,left_index=True,right_index=True,how = \"left\")"
   ]
  },
  {
   "cell_type": "code",
   "execution_count": 42,
   "metadata": {},
   "outputs": [
    {
     "name": "stdout",
     "output_type": "stream",
     "text": [
      "The no of unique values in gender is:[0 1]\n",
      "The no of unique values in SeniorCitizen is:[0 1]\n",
      "The no of unique values in Partner is:[1 0]\n",
      "The no of unique values in Dependents is:[0 1]\n",
      "The no of unique values in PhoneService is:[0 1]\n",
      "The no of unique values in MultipleLines is:[0 1]\n",
      "The no of unique values in OnlineSecurity is:[0 1]\n",
      "The no of unique values in OnlineBackup is:[1 0]\n",
      "The no of unique values in DeviceProtection is:[0 1]\n",
      "The no of unique values in TechSupport is:[0 1]\n",
      "The no of unique values in StreamingTV is:[0 1]\n",
      "The no of unique values in StreamingMovies is:[0 1]\n",
      "The no of unique values in PaperlessBilling is:[1 0]\n",
      "The no of unique values in Churn is:[0 1]\n",
      "The no of unique values in InternetService_DSL is:[1 0]\n",
      "The no of unique values in InternetService_Fiber optic is:[0 1]\n",
      "The no of unique values in InternetService_No is:[0 1]\n",
      "The no of unique values in Contract_Month-to-month is:[1 0]\n",
      "The no of unique values in Contract_One year is:[0 1]\n",
      "The no of unique values in Contract_Two year is:[0 1]\n",
      "The no of unique values in PaymentMethod_Bank transfer (automatic) is:[0 1]\n",
      "The no of unique values in PaymentMethod_Credit card (automatic) is:[0 1]\n",
      "The no of unique values in PaymentMethod_Electronic check is:[1 0]\n",
      "The no of unique values in PaymentMethod_Mailed check is:[0 1]\n",
      "The no of unique values in tenure_group_Tenure_0-12 is:[1 0]\n",
      "The no of unique values in tenure_group_Tenure_12-24 is:[0 1]\n",
      "The no of unique values in tenure_group_Tenure_24-48 is:[0 1]\n",
      "The no of unique values in tenure_group_Tenure_48-60 is:[0 1]\n",
      "The no of unique values in tenure_group_Tenure_gt_60 is:[0 1]\n"
     ]
    }
   ],
   "source": [
    "for col in telcom_df.columns:\n",
    "    if col not in ['tenure','customerID','MonthlyCharges','TotalCharges']:\n",
    "        print('The no of unique values in {} is:{}'.format(col,telcom_df[col].unique()))"
   ]
  },
  {
   "cell_type": "markdown",
   "metadata": {},
   "source": [
    "### Heatmap"
   ]
  },
  {
   "cell_type": "code",
   "execution_count": 43,
   "metadata": {},
   "outputs": [
    {
     "data": {
      "text/plain": [
       "<matplotlib.axes._subplots.AxesSubplot at 0x19329911208>"
      ]
     },
     "execution_count": 43,
     "metadata": {},
     "output_type": "execute_result"
    },
    {
     "data": {
      "image/png": "[encoded data removed]",
      "text/plain": [
       "<Figure size 720x576 with 2 Axes>"
      ]
     },
     "metadata": {},
     "output_type": "display_data"
    }
   ],
   "source": [
    "correlation = telcom_df.corr()\n",
    "sns.heatmap(correlation, cmap=\"YlGnBu\",annot=False)"
   ]
  },
  {
   "cell_type": "markdown",
   "metadata": {},
   "source": [
    "### Monthly charges,Tenure Group 0-12,Contract Month to month have a good correlation with the target variable"
   ]
  },
  {
   "cell_type": "code",
   "execution_count": 44,
   "metadata": {},
   "outputs": [
    {
     "data": {
      "text/html": [
       "<div>\n",
       "<style scoped>\n",
       "    .dataframe tbody tr th:only-of-type {\n",
       "        vertical-align: middle;\n",
       "    }\n",
       "\n",
       "    .dataframe tbody tr th {\n",
       "        vertical-align: top;\n",
       "    }\n",
       "\n",
       "    .dataframe thead th {\n",
       "        text-align: right;\n",
       "    }\n",
       "</style>\n",
       "<table border=\"1\" class=\"dataframe\">\n",
       "  <thead>\n",
       "    <tr style=\"text-align: right;\">\n",
       "      <th></th>\n",
       "      <th>gender</th>\n",
       "      <th>SeniorCitizen</th>\n",
       "      <th>Partner</th>\n",
       "      <th>Dependents</th>\n",
       "      <th>PhoneService</th>\n",
       "      <th>MultipleLines</th>\n",
       "      <th>OnlineSecurity</th>\n",
       "      <th>OnlineBackup</th>\n",
       "      <th>DeviceProtection</th>\n",
       "      <th>TechSupport</th>\n",
       "      <th>StreamingTV</th>\n",
       "      <th>StreamingMovies</th>\n",
       "      <th>PaperlessBilling</th>\n",
       "      <th>Churn</th>\n",
       "      <th>InternetService_DSL</th>\n",
       "      <th>InternetService_Fiber optic</th>\n",
       "      <th>InternetService_No</th>\n",
       "      <th>Contract_Month-to-month</th>\n",
       "      <th>Contract_One year</th>\n",
       "      <th>Contract_Two year</th>\n",
       "      <th>PaymentMethod_Bank transfer (automatic)</th>\n",
       "      <th>PaymentMethod_Credit card (automatic)</th>\n",
       "      <th>PaymentMethod_Electronic check</th>\n",
       "      <th>PaymentMethod_Mailed check</th>\n",
       "      <th>tenure_group_Tenure_0-12</th>\n",
       "      <th>tenure_group_Tenure_12-24</th>\n",
       "      <th>tenure_group_Tenure_24-48</th>\n",
       "      <th>tenure_group_Tenure_48-60</th>\n",
       "      <th>tenure_group_Tenure_gt_60</th>\n",
       "      <th>tenure</th>\n",
       "      <th>MonthlyCharges</th>\n",
       "      <th>TotalCharges</th>\n",
       "    </tr>\n",
       "    <tr>\n",
       "      <th>customerID</th>\n",
       "      <th></th>\n",
       "      <th></th>\n",
       "      <th></th>\n",
       "      <th></th>\n",
       "      <th></th>\n",
       "      <th></th>\n",
       "      <th></th>\n",
       "      <th></th>\n",
       "      <th></th>\n",
       "      <th></th>\n",
       "      <th></th>\n",
       "      <th></th>\n",
       "      <th></th>\n",
       "      <th></th>\n",
       "      <th></th>\n",
       "      <th></th>\n",
       "      <th></th>\n",
       "      <th></th>\n",
       "      <th></th>\n",
       "      <th></th>\n",
       "      <th></th>\n",
       "      <th></th>\n",
       "      <th></th>\n",
       "      <th></th>\n",
       "      <th></th>\n",
       "      <th></th>\n",
       "      <th></th>\n",
       "      <th></th>\n",
       "      <th></th>\n",
       "      <th></th>\n",
       "      <th></th>\n",
       "      <th></th>\n",
       "    </tr>\n",
       "  </thead>\n",
       "  <tbody>\n",
       "    <tr>\n",
       "      <th>7590-VHVEG</th>\n",
       "      <td>0</td>\n",
       "      <td>0</td>\n",
       "      <td>1</td>\n",
       "      <td>0</td>\n",
       "      <td>0</td>\n",
       "      <td>0</td>\n",
       "      <td>0</td>\n",
       "      <td>1</td>\n",
       "      <td>0</td>\n",
       "      <td>0</td>\n",
       "      <td>0</td>\n",
       "      <td>0</td>\n",
       "      <td>1</td>\n",
       "      <td>0</td>\n",
       "      <td>1</td>\n",
       "      <td>0</td>\n",
       "      <td>0</td>\n",
       "      <td>1</td>\n",
       "      <td>0</td>\n",
       "      <td>0</td>\n",
       "      <td>0</td>\n",
       "      <td>0</td>\n",
       "      <td>1</td>\n",
       "      <td>0</td>\n",
       "      <td>1</td>\n",
       "      <td>0</td>\n",
       "      <td>0</td>\n",
       "      <td>0</td>\n",
       "      <td>0</td>\n",
       "      <td>0.013889</td>\n",
       "      <td>0.115423</td>\n",
       "      <td>0.003437</td>\n",
       "    </tr>\n",
       "    <tr>\n",
       "      <th>5575-GNVDE</th>\n",
       "      <td>1</td>\n",
       "      <td>0</td>\n",
       "      <td>0</td>\n",
       "      <td>0</td>\n",
       "      <td>1</td>\n",
       "      <td>0</td>\n",
       "      <td>1</td>\n",
       "      <td>0</td>\n",
       "      <td>1</td>\n",
       "      <td>0</td>\n",
       "      <td>0</td>\n",
       "      <td>0</td>\n",
       "      <td>0</td>\n",
       "      <td>0</td>\n",
       "      <td>1</td>\n",
       "      <td>0</td>\n",
       "      <td>0</td>\n",
       "      <td>0</td>\n",
       "      <td>1</td>\n",
       "      <td>0</td>\n",
       "      <td>0</td>\n",
       "      <td>0</td>\n",
       "      <td>0</td>\n",
       "      <td>1</td>\n",
       "      <td>0</td>\n",
       "      <td>0</td>\n",
       "      <td>1</td>\n",
       "      <td>0</td>\n",
       "      <td>0</td>\n",
       "      <td>0.472222</td>\n",
       "      <td>0.385075</td>\n",
       "      <td>0.217564</td>\n",
       "    </tr>\n",
       "  </tbody>\n",
       "</table>\n",
       "</div>"
      ],
      "text/plain": [
       "            gender  SeniorCitizen  Partner  Dependents  PhoneService  \\\n",
       "customerID                                                             \n",
       "7590-VHVEG       0              0        1           0             0   \n",
       "5575-GNVDE       1              0        0           0             1   \n",
       "\n",
       "            MultipleLines  OnlineSecurity  OnlineBackup  DeviceProtection  \\\n",
       "customerID                                                                  \n",
       "7590-VHVEG              0               0             1                 0   \n",
       "5575-GNVDE              0               1             0                 1   \n",
       "\n",
       "            TechSupport  StreamingTV  StreamingMovies  PaperlessBilling  \\\n",
       "customerID                                                                \n",
       "7590-VHVEG            0            0                0                 1   \n",
       "5575-GNVDE            0            0                0                 0   \n",
       "\n",
       "            Churn  InternetService_DSL  InternetService_Fiber optic  \\\n",
       "customerID                                                            \n",
       "7590-VHVEG      0                    1                            0   \n",
       "5575-GNVDE      0                    1                            0   \n",
       "\n",
       "            InternetService_No  Contract_Month-to-month  Contract_One year  \\\n",
       "customerID                                                                   \n",
       "7590-VHVEG                   0                        1                  0   \n",
       "5575-GNVDE                   0                        0                  1   \n",
       "\n",
       "            Contract_Two year  PaymentMethod_Bank transfer (automatic)  \\\n",
       "customerID                                                               \n",
       "7590-VHVEG                  0                                        0   \n",
       "5575-GNVDE                  0                                        0   \n",
       "\n",
       "            PaymentMethod_Credit card (automatic)  \\\n",
       "customerID                                          \n",
       "7590-VHVEG                                      0   \n",
       "5575-GNVDE                                      0   \n",
       "\n",
       "            PaymentMethod_Electronic check  PaymentMethod_Mailed check  \\\n",
       "customerID                                                               \n",
       "7590-VHVEG                               1                           0   \n",
       "5575-GNVDE                               0                           1   \n",
       "\n",
       "            tenure_group_Tenure_0-12  tenure_group_Tenure_12-24  \\\n",
       "customerID                                                        \n",
       "7590-VHVEG                         1                          0   \n",
       "5575-GNVDE                         0                          0   \n",
       "\n",
       "            tenure_group_Tenure_24-48  tenure_group_Tenure_48-60  \\\n",
       "customerID                                                         \n",
       "7590-VHVEG                          0                          0   \n",
       "5575-GNVDE                          1                          0   \n",
       "\n",
       "            tenure_group_Tenure_gt_60    tenure  MonthlyCharges  TotalCharges  \n",
       "customerID                                                                     \n",
       "7590-VHVEG                          0  0.013889        0.115423      0.003437  \n",
       "5575-GNVDE                          0  0.472222        0.385075      0.217564  "
      ]
     },
     "execution_count": 44,
     "metadata": {},
     "output_type": "execute_result"
    }
   ],
   "source": [
    "telcom_df.head(2)"
   ]
  },
  {
   "cell_type": "markdown",
   "metadata": {},
   "source": [
    "### Train Test split"
   ]
  },
  {
   "cell_type": "code",
   "execution_count": 45,
   "metadata": {},
   "outputs": [],
   "source": [
    "from sklearn.model_selection import train_test_split\n",
    "\n",
    "X = telcom_df.drop('Churn',axis=1)\n",
    "Y = telcom_df['Churn']\n",
    "X_train,X_test,y_train,y_test = train_test_split(X,Y,test_size = .25,random_state = 0)"
   ]
  },
  {
   "cell_type": "markdown",
   "metadata": {},
   "source": [
    "### Balancing the Training data"
   ]
  },
  {
   "cell_type": "markdown",
   "metadata": {},
   "source": [
    "### Since there is a class imbalance issue in this dataset as identified early during the EDA phase. We have used SMOTE to the Training data to balance the no of churn and non churn customers by synthesing more minority samples from the existing training data."
   ]
  },
  {
   "cell_type": "code",
   "execution_count": 46,
   "metadata": {},
   "outputs": [
    {
     "data": {
      "text/plain": [
       "0    3876\n",
       "1    1402\n",
       "Name: Churn, dtype: int64"
      ]
     },
     "execution_count": 46,
     "metadata": {},
     "output_type": "execute_result"
    }
   ],
   "source": [
    "## No of chrun and non chrun customres before applying smote\n",
    "y_train.value_counts()"
   ]
  },
  {
   "cell_type": "code",
   "execution_count": 47,
   "metadata": {},
   "outputs": [
    {
     "name": "stderr",
     "output_type": "stream",
     "text": [
      "Using TensorFlow backend.\n"
     ]
    }
   ],
   "source": [
    "from imblearn.over_sampling import SMOTE\n",
    "\n",
    "#oversampling minority class using smote\n",
    "os = SMOTE(random_state = 0)\n",
    "X_train_smote,Y_train_smote = os.fit_sample(X_train,y_train)\n",
    "X_train_smote = pd.DataFrame(data = X_train_smote,columns=X_train.columns)\n",
    "Y_train_smote = pd.DataFrame(data = Y_train_smote,columns=['Chrun'])\n",
    "###"
   ]
  },
  {
   "cell_type": "code",
   "execution_count": 48,
   "metadata": {
    "scrolled": true
   },
   "outputs": [
    {
     "data": {
      "text/plain": [
       "1    3876\n",
       "0    3876\n",
       "Name: Chrun, dtype: int64"
      ]
     },
     "execution_count": 48,
     "metadata": {},
     "output_type": "execute_result"
    }
   ],
   "source": [
    "### No of chrun and non chrun customers after applying SMOTE\n",
    "Y_train_smote['Chrun'].value_counts()"
   ]
  },
  {
   "cell_type": "markdown",
   "metadata": {},
   "source": [
    "### Now we have have equal no of churn and non churn customers in the training data. With this training data we can train on various models and arrive at the best model based on the evaluation metric chosen and performance of the models on the unseen data(test set)"
   ]
  },
  {
   "cell_type": "markdown",
   "metadata": {},
   "source": [
    "## Classification: Models"
   ]
  },
  {
   "cell_type": "markdown",
   "metadata": {},
   "source": [
    "The following classifiers are implemented in the next part:\n",
    "* K Nearest Neighbor\n",
    "* Logistic Regression\n",
    "* Linear SVC\n",
    "* Kernalized SVC - Linear\n",
    "* Kernalized SVC - rbf\n",
    "* Kernalized SVC - poly\n",
    "* Decision Tree    \n"
   ]
  },
  {
   "cell_type": "markdown",
   "metadata": {},
   "source": [
    "## KNN classifier"
   ]
  },
  {
   "cell_type": "code",
   "execution_count": 55,
   "metadata": {},
   "outputs": [],
   "source": [
    "### Importing necessary Libraries\n",
    "from sklearn.neighbors import KNeighborsClassifier\n",
    "from sklearn.model_selection import GridSearchCV\n",
    "from sklearn.model_selection import cross_val_score\n",
    "from sklearn.metrics import confusion_matrix,accuracy_score,classification_report"
   ]
  },
  {
   "cell_type": "code",
   "execution_count": 38,
   "metadata": {},
   "outputs": [
    {
     "data": {
      "text/plain": [
       "GridSearchCV(cv=5, error_score='raise-deprecating',\n",
       "             estimator=KNeighborsClassifier(algorithm='auto', leaf_size=30,\n",
       "                                            metric='minkowski',\n",
       "                                            metric_params=None, n_jobs=None,\n",
       "                                            n_neighbors=5, p=2,\n",
       "                                            weights='uniform'),\n",
       "             iid='warn', n_jobs=None,\n",
       "             param_grid={'n_neighbors': array([5, 6, 7, 8, 9])},\n",
       "             pre_dispatch='2*n_jobs', refit=True, return_train_score=False,\n",
       "             scoring=None, verbose=0)"
      ]
     },
     "execution_count": 38,
     "metadata": {},
     "output_type": "execute_result"
    }
   ],
   "source": [
    "knn = KNeighborsClassifier()\n",
    "param_grid = {'n_neighbors': np.arange(5, 10)}\n",
    "grid_knn = GridSearchCV(knn, param_grid=param_grid, cv = 5)\n",
    "grid_knn.fit(X_train_smote, Y_train_smote)"
   ]
  },
  {
   "cell_type": "code",
   "execution_count": 39,
   "metadata": {},
   "outputs": [
    {
     "name": "stdout",
     "output_type": "stream",
     "text": [
      "Best Parameters for KNN classifier from grid search:  {'n_neighbors': 6}\n"
     ]
    }
   ],
   "source": [
    "print(\"Best Parameters for KNN classifier from grid search: \", grid_knn.best_params_)"
   ]
  },
  {
   "cell_type": "code",
   "execution_count": 40,
   "metadata": {},
   "outputs": [
    {
     "data": {
      "text/plain": [
       "KNeighborsClassifier(algorithm='auto', leaf_size=30, metric='minkowski',\n",
       "                     metric_params=None, n_jobs=None, n_neighbors=6, p=2,\n",
       "                     weights='uniform')"
      ]
     },
     "execution_count": 40,
     "metadata": {},
     "output_type": "execute_result"
    }
   ],
   "source": [
    "knneg = KNeighborsClassifier(n_neighbors=6)\n",
    "knneg.fit(X_train_smote, Y_train_smote)"
   ]
  },
  {
   "cell_type": "code",
   "execution_count": 41,
   "metadata": {},
   "outputs": [],
   "source": [
    "cross_val_scores_knn = cross_val_score(knneg,X_train_smote, Y_train_smote,cv=5)"
   ]
  },
  {
   "cell_type": "code",
   "execution_count": 42,
   "metadata": {},
   "outputs": [
    {
     "name": "stdout",
     "output_type": "stream",
     "text": [
      "The Cross validation scores for the training set is:[0.78092784 0.76967742 0.81354839 0.82322581 0.83870968]\n",
      "The Mean Cross val score for training set is:0.8052178250748254\n"
     ]
    }
   ],
   "source": [
    "print('The Cross validation scores for the training set is:{}'.format(cross_val_scores_knn))\n",
    "print('The Mean Cross val score for training set is:{}'.format(np.mean(cross_val_scores_knn)))"
   ]
  },
  {
   "cell_type": "code",
   "execution_count": 43,
   "metadata": {},
   "outputs": [
    {
     "name": "stdout",
     "output_type": "stream",
     "text": [
      "              precision    recall  f1-score   support\n",
      "\n",
      "           0       0.86      0.76      0.81      1295\n",
      "           1       0.50      0.66      0.57       465\n",
      "\n",
      "    accuracy                           0.73      1760\n",
      "   macro avg       0.68      0.71      0.69      1760\n",
      "weighted avg       0.76      0.73      0.74      1760\n",
      "\n",
      "The Train score is:0.8637770897832817\n",
      "The Test score is:0.7346590909090909\n"
     ]
    }
   ],
   "source": [
    "knneg_predict = knneg.predict(X_test)\n",
    "knneg_train_predict=knneg.predict(X_train_smote)\n",
    "print(classification_report(y_test,knneg_predict))\n",
    "print('The Train score is:{}'.format(accuracy_score(Y_train_smote,knneg_train_predict)))\n",
    "print('The Test score is:{}'.format(accuracy_score(y_test,knneg_predict)))"
   ]
  },
  {
   "cell_type": "code",
   "execution_count": 44,
   "metadata": {},
   "outputs": [],
   "source": [
    "train_score_list = []\n",
    "test_score_list = []\n",
    "k_val = [5,6,7,8,9,10]\n",
    "\n",
    "for k in k_val: \n",
    "    knn_model = KNeighborsClassifier(n_neighbors=k)\n",
    "    knn_model.fit(X_train_smote, Y_train_smote)\n",
    "    train_score_list.append(knn_model.score(X_train_smote, Y_train_smote))\n",
    "    test_score_list.append(knn_model.score(X_test, y_test))"
   ]
  },
  {
   "cell_type": "code",
   "execution_count": 45,
   "metadata": {},
   "outputs": [
    {
     "data": {
      "text/plain": [
       "Text(0.5, 0, 'K')"
      ]
     },
     "execution_count": 45,
     "metadata": {},
     "output_type": "execute_result"
    },
    {
     "data": {
      "image/png": "[encoded data removed]",
      "text/plain": [
       "<Figure size 720x576 with 1 Axes>"
      ]
     },
     "metadata": {},
     "output_type": "display_data"
    }
   ],
   "source": [
    "plt.plot(k_val, train_score_list, c = 'g', label = 'Train Score')\n",
    "plt.plot(k_val, test_score_list, c = 'b', label = 'Test Score')\n",
    "plt.xscale('log')\n",
    "plt.legend(loc = 3)\n",
    "plt.xlabel('K')"
   ]
  },
  {
   "cell_type": "markdown",
   "metadata": {},
   "source": [
    "### The KNN model with K=6 Clearly overfits the data"
   ]
  },
  {
   "cell_type": "markdown",
   "metadata": {},
   "source": [
    "## Logistic regression:"
   ]
  },
  {
   "cell_type": "code",
   "execution_count": 46,
   "metadata": {},
   "outputs": [],
   "source": [
    "###Importing Necessary package\n",
    "from sklearn.linear_model import LogisticRegression"
   ]
  },
  {
   "cell_type": "code",
   "execution_count": 47,
   "metadata": {},
   "outputs": [
    {
     "data": {
      "text/plain": [
       "GridSearchCV(cv=5, error_score='raise-deprecating',\n",
       "             estimator=LogisticRegression(C=1.0, class_weight=None, dual=False,\n",
       "                                          fit_intercept=True,\n",
       "                                          intercept_scaling=1, l1_ratio=None,\n",
       "                                          max_iter=100, multi_class='warn',\n",
       "                                          n_jobs=None, penalty='l2',\n",
       "                                          random_state=0, solver='warn',\n",
       "                                          tol=0.0001, verbose=0,\n",
       "                                          warm_start=False),\n",
       "             iid='warn', n_jobs=None,\n",
       "             param_grid={'C': [0.001, 0.01, 0.1, 1, 10, 100]},\n",
       "             pre_dispatch='2*n_jobs', refit=True, return_train_score=False,\n",
       "             scoring=None, verbose=0)"
      ]
     },
     "execution_count": 47,
     "metadata": {},
     "output_type": "execute_result"
    }
   ],
   "source": [
    "logreg = LogisticRegression(penalty='l2',random_state=0)\n",
    "param_grid = {'C': [0.001, 0.01, 0.1, 1, 10, 100] }\n",
    "grid_log_reg = GridSearchCV(logreg,param_grid,cv=5)\n",
    "grid_log_reg.fit(X_train_smote, Y_train_smote)"
   ]
  },
  {
   "cell_type": "code",
   "execution_count": 48,
   "metadata": {},
   "outputs": [
    {
     "name": "stdout",
     "output_type": "stream",
     "text": [
      "Best Parameters for Logistic Regression from grid search:  {'C': 100}\n"
     ]
    }
   ],
   "source": [
    "print(\"Best Parameters for Logistic Regression from grid search: \", grid_log_reg.best_params_)"
   ]
  },
  {
   "cell_type": "code",
   "execution_count": 49,
   "metadata": {},
   "outputs": [
    {
     "data": {
      "text/plain": [
       "LogisticRegression(C=100, class_weight=None, dual=False, fit_intercept=True,\n",
       "                   intercept_scaling=1, l1_ratio=None, max_iter=100,\n",
       "                   multi_class='warn', n_jobs=None, penalty='l2',\n",
       "                   random_state=0, solver='warn', tol=0.0001, verbose=0,\n",
       "                   warm_start=False)"
      ]
     },
     "execution_count": 49,
     "metadata": {},
     "output_type": "execute_result"
    }
   ],
   "source": [
    "logit = LogisticRegression(penalty = 'l2', C = 100, random_state=0)\n",
    "logit.fit(X_train_smote, Y_train_smote)"
   ]
  },
  {
   "cell_type": "code",
   "execution_count": 50,
   "metadata": {},
   "outputs": [],
   "source": [
    "cross_val_scores_log_reg = cross_val_score(logit,X_train_smote, Y_train_smote,cv=5)"
   ]
  },
  {
   "cell_type": "code",
   "execution_count": 51,
   "metadata": {},
   "outputs": [
    {
     "name": "stdout",
     "output_type": "stream",
     "text": [
      "The Cross validation scores for the training set is:[0.77448454 0.74193548 0.78516129 0.74967742 0.78645161]\n",
      "The Mean Cross val score for training set is:0.7675420685068175\n"
     ]
    }
   ],
   "source": [
    "print('The Cross validation scores for the training set is:{}'.format(cross_val_scores_log_reg))\n",
    "print('The Mean Cross val score for training set is:{}'.format(np.mean(cross_val_scores_log_reg)))"
   ]
  },
  {
   "cell_type": "code",
   "execution_count": 52,
   "metadata": {},
   "outputs": [
    {
     "name": "stdout",
     "output_type": "stream",
     "text": [
      "              precision    recall  f1-score   support\n",
      "\n",
      "           0       0.92      0.75      0.83      1295\n",
      "           1       0.54      0.82      0.65       465\n",
      "\n",
      "    accuracy                           0.77      1760\n",
      "   macro avg       0.73      0.78      0.74      1760\n",
      "weighted avg       0.82      0.77      0.78      1760\n",
      "\n",
      "The Train score is:0.7697368421052632\n",
      "The Test score is:0.76875\n"
     ]
    }
   ],
   "source": [
    "logit_predict = logit.predict(X_test)\n",
    "logit_train_predict=logit.predict(X_train_smote)\n",
    "print(classification_report(y_test,logit_predict))\n",
    "print('The Train score is:{}'.format(accuracy_score(Y_train_smote,logit_train_predict)))\n",
    "print('The Test score is:{}'.format(accuracy_score(y_test,logit_predict)))"
   ]
  },
  {
   "cell_type": "code",
   "execution_count": 53,
   "metadata": {},
   "outputs": [],
   "source": [
    "train_score_list = []\n",
    "test_score_list = []\n",
    "x_range = [0.001, 0.01, 0.1, 1, 10, 100]\n",
    "\n",
    "for alpha in x_range: \n",
    "    model = LogisticRegression(C=alpha, random_state=0)\n",
    "    model.fit(X_train_smote, Y_train_smote)\n",
    "    train_score_list.append(model.score(X_train_smote, Y_train_smote))\n",
    "    test_score_list.append(model.score(X_test, y_test))"
   ]
  },
  {
   "cell_type": "code",
   "execution_count": 54,
   "metadata": {},
   "outputs": [
    {
     "data": {
      "text/plain": [
       "Text(0.5, 0, 'C')"
      ]
     },
     "execution_count": 54,
     "metadata": {},
     "output_type": "execute_result"
    },
    {
     "data": {
      "image/png": "[encoded data removed]",
      "text/plain": [
       "<Figure size 720x576 with 1 Axes>"
      ]
     },
     "metadata": {},
     "output_type": "display_data"
    }
   ],
   "source": [
    "plt.plot(x_range, train_score_list, c = 'g', label = 'Train Score')\n",
    "plt.plot(x_range, test_score_list, c = 'b', label = 'Test Score')\n",
    "plt.xscale('log')\n",
    "plt.legend(loc = 3)\n",
    "plt.xlabel('C')"
   ]
  },
  {
   "cell_type": "markdown",
   "metadata": {},
   "source": [
    "### The Logistic Regression model with C=100 generalizes well for the dataset. This can be the contender for the best model"
   ]
  },
  {
   "cell_type": "markdown",
   "metadata": {},
   "source": [
    "## Linear SVC"
   ]
  },
  {
   "cell_type": "code",
   "execution_count": 57,
   "metadata": {},
   "outputs": [
    {
     "data": {
      "text/plain": [
       "GridSearchCV(cv=5, error_score='raise-deprecating',\n",
       "             estimator=LinearSVC(C=1.0, class_weight=None, dual=True,\n",
       "                                 fit_intercept=True, intercept_scaling=1,\n",
       "                                 loss='squared_hinge', max_iter=1000,\n",
       "                                 multi_class='ovr', penalty='l2',\n",
       "                                 random_state=None, tol=0.0001, verbose=0),\n",
       "             iid='warn', n_jobs=None,\n",
       "             param_grid={'C': [0.001, 0.01, 0.1, 1, 10, 100]},\n",
       "             pre_dispatch='2*n_jobs', refit=True, return_train_score=False,\n",
       "             scoring=None, verbose=0)"
      ]
     },
     "execution_count": 57,
     "metadata": {},
     "output_type": "execute_result"
    }
   ],
   "source": [
    "from sklearn.svm import LinearSVC\n",
    "\n",
    "svc_lin = LinearSVC()\n",
    "param_grid = {'C':[0.001, 0.01, 0.1, 1, 10, 100]}\n",
    "\n",
    "grid_svc_lin = GridSearchCV(svc_lin, param_grid, cv = 5)\n",
    "grid_svc_lin.fit(X_train_smote, Y_train_smote)"
   ]
  },
  {
   "cell_type": "code",
   "execution_count": 58,
   "metadata": {},
   "outputs": [
    {
     "name": "stdout",
     "output_type": "stream",
     "text": [
      "Best Parameters for Linear SVC from grid search:  {'C': 1}\n"
     ]
    }
   ],
   "source": [
    "print(\"Best Parameters for Linear SVC from grid search: \", grid_svc_lin.best_params_)"
   ]
  },
  {
   "cell_type": "code",
   "execution_count": 59,
   "metadata": {},
   "outputs": [
    {
     "data": {
      "text/plain": [
       "LinearSVC(C=1, class_weight=None, dual=True, fit_intercept=True,\n",
       "          intercept_scaling=1, loss='squared_hinge', max_iter=1000,\n",
       "          multi_class='ovr', penalty='l2', random_state=None, tol=0.0001,\n",
       "          verbose=0)"
      ]
     },
     "execution_count": 59,
     "metadata": {},
     "output_type": "execute_result"
    }
   ],
   "source": [
    "svc_lin_mod = LinearSVC(C=1)\n",
    "svc_lin_mod.fit(X_train_smote, Y_train_smote)"
   ]
  },
  {
   "cell_type": "code",
   "execution_count": 60,
   "metadata": {},
   "outputs": [],
   "source": [
    "cross_val_scores_svc_lin= cross_val_score(svc_lin_mod,X_train_smote, Y_train_smote,cv=5)"
   ]
  },
  {
   "cell_type": "code",
   "execution_count": 61,
   "metadata": {},
   "outputs": [
    {
     "name": "stdout",
     "output_type": "stream",
     "text": [
      "The Cross validation scores for the training set is:[0.76997423 0.74322581 0.78129032 0.74451613 0.78903226]\n",
      "The Mean Cross val score for training set is:0.7656077485866313\n"
     ]
    }
   ],
   "source": [
    "print('The Cross validation scores for the training set is:{}'.format(cross_val_scores_svc_lin))\n",
    "print('The Mean Cross val score for training set is:{}'.format(np.mean(cross_val_scores_svc_lin)))"
   ]
  },
  {
   "cell_type": "code",
   "execution_count": 62,
   "metadata": {},
   "outputs": [
    {
     "name": "stdout",
     "output_type": "stream",
     "text": [
      "              precision    recall  f1-score   support\n",
      "\n",
      "           0       0.92      0.75      0.83      1295\n",
      "           1       0.54      0.82      0.65       465\n",
      "\n",
      "    accuracy                           0.77      1760\n",
      "   macro avg       0.73      0.79      0.74      1760\n",
      "weighted avg       0.82      0.77      0.78      1760\n",
      "\n",
      "The Train score is:0.7688338493292054\n",
      "The Test score is:0.7681818181818182\n"
     ]
    }
   ],
   "source": [
    "svc_lin_predict = svc_lin_mod.predict(X_test)\n",
    "svc_lin_train_predict=svc_lin_mod.predict(X_train_smote)\n",
    "print(classification_report(y_test,svc_lin_predict))\n",
    "print('The Train score is:{}'.format(accuracy_score(Y_train_smote,svc_lin_train_predict)))\n",
    "print('The Test score is:{}'.format(accuracy_score(y_test,svc_lin_predict)))"
   ]
  },
  {
   "cell_type": "code",
   "execution_count": 63,
   "metadata": {},
   "outputs": [],
   "source": [
    "train_score_list = []\n",
    "test_score_list = []\n",
    "x_range = [0.001, 0.01, 0.1, 1, 10, 100]\n",
    "\n",
    "for alpha in x_range: \n",
    "    model_lin_svc = LinearSVC(C=alpha, random_state=0)\n",
    "    model_lin_svc.fit(X_train_smote, Y_train_smote)\n",
    "    train_score_list.append(model_lin_svc.score(X_train_smote, Y_train_smote))\n",
    "    test_score_list.append(model_lin_svc.score(X_test, y_test))"
   ]
  },
  {
   "cell_type": "code",
   "execution_count": 64,
   "metadata": {},
   "outputs": [
    {
     "data": {
      "text/plain": [
       "Text(0.5, 0, 'C')"
      ]
     },
     "execution_count": 64,
     "metadata": {},
     "output_type": "execute_result"
    },
    {
     "data": {
      "image/png": "[encoded data removed]",
      "text/plain": [
       "<Figure size 720x576 with 1 Axes>"
      ]
     },
     "metadata": {},
     "output_type": "display_data"
    }
   ],
   "source": [
    "plt.plot(x_range, train_score_list, c = 'g', label = 'Train Score')\n",
    "plt.plot(x_range, test_score_list, c = 'b', label = 'Test Score')\n",
    "plt.xscale('log')\n",
    "plt.legend(loc = 3)\n",
    "plt.xlabel('C')"
   ]
  },
  {
   "cell_type": "markdown",
   "metadata": {},
   "source": [
    "### The Linear SVC model with C=1 generalizes well for the dataset. This can be the contender for the best model"
   ]
  },
  {
   "cell_type": "markdown",
   "metadata": {},
   "source": [
    "## Kernalized SVC - Linear"
   ]
  },
  {
   "cell_type": "code",
   "execution_count": 50,
   "metadata": {},
   "outputs": [
    {
     "data": {
      "text/plain": [
       "GridSearchCV(cv=5, error_score='raise-deprecating',\n",
       "             estimator=SVC(C=1.0, cache_size=200, class_weight=None, coef0=0.0,\n",
       "                           decision_function_shape='ovr', degree=3,\n",
       "                           gamma='auto_deprecated', kernel='linear',\n",
       "                           max_iter=-1, probability=False, random_state=None,\n",
       "                           shrinking=True, tol=0.001, verbose=False),\n",
       "             iid='warn', n_jobs=None,\n",
       "             param_grid={'C': [0.001, 0.01, 0.1, 1, 10, 100]},\n",
       "             pre_dispatch='2*n_jobs', refit=True, return_train_score=False,\n",
       "             scoring=None, verbose=0)"
      ]
     },
     "execution_count": 50,
     "metadata": {},
     "output_type": "execute_result"
    }
   ],
   "source": [
    "from sklearn.svm import SVC\n",
    "lin_svc = SVC(kernel='linear')\n",
    "param_grid = {'C':[0.001, 0.01, 0.1, 1, 10, 100]}\n",
    "\n",
    "grid_linsvc = GridSearchCV(lin_svc, param_grid, cv = 5)\n",
    "grid_linsvc.fit(X_train_smote, Y_train_smote)"
   ]
  },
  {
   "cell_type": "code",
   "execution_count": 66,
   "metadata": {},
   "outputs": [
    {
     "name": "stdout",
     "output_type": "stream",
     "text": [
      "Best Parameters for Kernalized Linear SVC from grid search:  {'C': 1}\n"
     ]
    }
   ],
   "source": [
    "print(\"Best Parameters for Kernalized Linear SVC from grid search: \", grid_linsvc.best_params_)"
   ]
  },
  {
   "cell_type": "code",
   "execution_count": 67,
   "metadata": {},
   "outputs": [
    {
     "data": {
      "text/plain": [
       "SVC(C=1, cache_size=200, class_weight=None, coef0=0.0,\n",
       "    decision_function_shape='ovr', degree=3, gamma='auto_deprecated',\n",
       "    kernel='linear', max_iter=-1, probability=False, random_state=None,\n",
       "    shrinking=True, tol=0.001, verbose=False)"
      ]
     },
     "execution_count": 67,
     "metadata": {},
     "output_type": "execute_result"
    }
   ],
   "source": [
    "linsvc_mod = SVC(kernel='linear',C=1)\n",
    "linsvc_mod.fit(X_train_smote, Y_train_smote)"
   ]
  },
  {
   "cell_type": "code",
   "execution_count": 69,
   "metadata": {},
   "outputs": [],
   "source": [
    "cross_val_scores_linsvc= cross_val_score(linsvc_mod,X_train_smote, Y_train_smote,cv=5)"
   ]
  },
  {
   "cell_type": "code",
   "execution_count": 70,
   "metadata": {},
   "outputs": [
    {
     "name": "stdout",
     "output_type": "stream",
     "text": [
      "The Cross validation scores for the training set is:[0.76868557 0.74903226 0.76387097 0.74451613 0.77548387]\n",
      "The Mean Cross val score for training set is:0.7603177585633522\n"
     ]
    }
   ],
   "source": [
    "print('The Cross validation scores for the training set is:{}'.format(cross_val_scores_linsvc))\n",
    "print('The Mean Cross val score for training set is:{}'.format(np.mean(cross_val_scores_linsvc)))"
   ]
  },
  {
   "cell_type": "code",
   "execution_count": 71,
   "metadata": {},
   "outputs": [
    {
     "name": "stdout",
     "output_type": "stream",
     "text": [
      "              precision    recall  f1-score   support\n",
      "\n",
      "           0       0.92      0.73      0.81      1295\n",
      "           1       0.52      0.83      0.64       465\n",
      "\n",
      "    accuracy                           0.75      1760\n",
      "   macro avg       0.72      0.78      0.73      1760\n",
      "weighted avg       0.82      0.75      0.77      1760\n",
      "\n",
      "The Train score is:0.7640608875128999\n",
      "The Test score is:0.7539772727272728\n"
     ]
    }
   ],
   "source": [
    "linsvc_predict = linsvc_mod.predict(X_test)\n",
    "linsvc_train_predict = linsvc_mod.predict(X_train_smote)\n",
    "print(classification_report(y_test,linsvc_predict))\n",
    "print('The Train score is:{}'.format(accuracy_score(Y_train_smote,linsvc_train_predict)))\n",
    "print('The Test score is:{}'.format(accuracy_score(y_test,linsvc_predict)))"
   ]
  },
  {
   "cell_type": "code",
   "execution_count": 72,
   "metadata": {},
   "outputs": [],
   "source": [
    "train_score_list = []\n",
    "test_score_list = []\n",
    "x_range = [0.001, 0.01, 0.1, 1, 10, 100]\n",
    "\n",
    "for alpha in x_range: \n",
    "    linsvc_mod_range = SVC(kernel='linear',C=alpha)\n",
    "    linsvc_mod_range.fit(X_train_smote, Y_train_smote)\n",
    "    train_score_list.append(linsvc_mod_range.score(X_train_smote, Y_train_smote))\n",
    "    test_score_list.append(linsvc_mod_range.score(X_test, y_test))"
   ]
  },
  {
   "cell_type": "code",
   "execution_count": 73,
   "metadata": {},
   "outputs": [
    {
     "data": {
      "text/plain": [
       "Text(0.5, 0, 'C')"
      ]
     },
     "execution_count": 73,
     "metadata": {},
     "output_type": "execute_result"
    },
    {
     "data": {
      "image/png": "[encoded data removed]",
      "text/plain": [
       "<Figure size 720x576 with 1 Axes>"
      ]
     },
     "metadata": {},
     "output_type": "display_data"
    }
   ],
   "source": [
    "plt.plot(x_range, train_score_list, c = 'g', label = 'Train Score')\n",
    "plt.plot(x_range, test_score_list, c = 'b', label = 'Test Score')\n",
    "plt.xscale('log')\n",
    "plt.legend(loc = 3)\n",
    "plt.xlabel('C')"
   ]
  },
  {
   "cell_type": "markdown",
   "metadata": {},
   "source": [
    "### The Kernalized Linear SVC model with C=1 generalizes well for the dataset. This can be the contender for the best model"
   ]
  },
  {
   "cell_type": "markdown",
   "metadata": {},
   "source": [
    "## Kernalized SVC - rbf"
   ]
  },
  {
   "cell_type": "code",
   "execution_count": 51,
   "metadata": {},
   "outputs": [
    {
     "data": {
      "text/plain": [
       "GridSearchCV(cv=5, error_score='raise-deprecating',\n",
       "             estimator=SVC(C=1.0, cache_size=200, class_weight=None, coef0=0.0,\n",
       "                           decision_function_shape='ovr', degree=3,\n",
       "                           gamma='auto_deprecated', kernel='rbf', max_iter=-1,\n",
       "                           probability=False, random_state=None, shrinking=True,\n",
       "                           tol=0.001, verbose=False),\n",
       "             iid='warn', n_jobs=None,\n",
       "             param_grid={'C': [0.001, 0.01, 0.1, 1, 10, 100],\n",
       "                         'gamma': [0.001, 0.01, 0.1, 1]},\n",
       "             pre_dispatch='2*n_jobs', refit=True, return_train_score=False,\n",
       "             scoring=None, verbose=0)"
      ]
     },
     "execution_count": 51,
     "metadata": {},
     "output_type": "execute_result"
    }
   ],
   "source": [
    "svc_rbf = SVC(kernel='rbf')\n",
    "param_grid = {'C':[0.001, 0.01, 0.1, 1, 10, 100],'gamma':[0.001, 0.01, 0.1, 1]}\n",
    "\n",
    "grid_svc_rbf = GridSearchCV(svc_rbf, param_grid, cv = 5)\n",
    "grid_svc_rbf.fit(X_train_smote, Y_train_smote)"
   ]
  },
  {
   "cell_type": "code",
   "execution_count": 52,
   "metadata": {},
   "outputs": [
    {
     "name": "stdout",
     "output_type": "stream",
     "text": [
      "Best Parameters for Kernalized rbf SVC from grid search:  {'C': 100, 'gamma': 1}\n"
     ]
    }
   ],
   "source": [
    "print(\"Best Parameters for Kernalized rbf SVC from grid search: \", grid_svc_rbf.best_params_)"
   ]
  },
  {
   "cell_type": "code",
   "execution_count": 53,
   "metadata": {},
   "outputs": [
    {
     "data": {
      "text/plain": [
       "SVC(C=100, cache_size=200, class_weight=None, coef0=0.0,\n",
       "    decision_function_shape='ovr', degree=3, gamma=1, kernel='rbf', max_iter=-1,\n",
       "    probability=False, random_state=None, shrinking=True, tol=0.001,\n",
       "    verbose=False)"
      ]
     },
     "execution_count": 53,
     "metadata": {},
     "output_type": "execute_result"
    }
   ],
   "source": [
    "svc_rbf_mod = SVC(kernel='rbf',C=100,gamma=1)\n",
    "svc_rbf_mod.fit(X_train_smote, Y_train_smote)"
   ]
  },
  {
   "cell_type": "code",
   "execution_count": 56,
   "metadata": {},
   "outputs": [],
   "source": [
    "cross_val_scores_svc_rbf= cross_val_score(svc_rbf_mod,X_train_smote, Y_train_smote,cv=5)"
   ]
  },
  {
   "cell_type": "code",
   "execution_count": 57,
   "metadata": {},
   "outputs": [
    {
     "name": "stdout",
     "output_type": "stream",
     "text": [
      "The Cross validation scores for the training set is:[0.83762887 0.83741935 0.91870968 0.90129032 0.92645161]\n",
      "The Mean Cross val score for training set is:0.8842999667442635\n"
     ]
    }
   ],
   "source": [
    "print('The Cross validation scores for the training set is:{}'.format(cross_val_scores_svc_rbf))\n",
    "print('The Mean Cross val score for training set is:{}'.format(np.mean(cross_val_scores_svc_rbf)))"
   ]
  },
  {
   "cell_type": "code",
   "execution_count": 58,
   "metadata": {},
   "outputs": [
    {
     "name": "stdout",
     "output_type": "stream",
     "text": [
      "              precision    recall  f1-score   support\n",
      "\n",
      "           0       0.82      0.87      0.84      1295\n",
      "           1       0.56      0.46      0.51       465\n",
      "\n",
      "    accuracy                           0.76      1760\n",
      "   macro avg       0.69      0.67      0.68      1760\n",
      "weighted avg       0.75      0.76      0.76      1760\n",
      "\n",
      "The Train score is:0.9691692466460269\n",
      "The Test score is:0.7636363636363637\n"
     ]
    }
   ],
   "source": [
    "svc_rbf_predict = svc_rbf_mod.predict(X_test)\n",
    "svc_rbf_predict_train=svc_rbf_mod.predict(X_train_smote)\n",
    "print(classification_report(y_test,svc_rbf_predict))\n",
    "print('The Train score is:{}'.format(accuracy_score(Y_train_smote,svc_rbf_predict_train)))\n",
    "print('The Test score is:{}'.format(accuracy_score(y_test,svc_rbf_predict)))"
   ]
  },
  {
   "cell_type": "code",
   "execution_count": 59,
   "metadata": {},
   "outputs": [],
   "source": [
    "train_score_list = []\n",
    "test_score_list = []\n",
    "x_range = [0.001, 0.01, 0.1, 1, 10, 100]\n",
    "\n",
    "for alpha in x_range: \n",
    "    svc_rbf_mod_range = SVC(kernel='rbf',C=alpha,gamma=1)\n",
    "    svc_rbf_mod_range.fit(X_train_smote, Y_train_smote)\n",
    "    train_score_list.append(svc_rbf_mod_range.score(X_train_smote, Y_train_smote))\n",
    "    test_score_list.append(svc_rbf_mod_range.score(X_test, y_test))"
   ]
  },
  {
   "cell_type": "code",
   "execution_count": 60,
   "metadata": {},
   "outputs": [
    {
     "data": {
      "text/plain": [
       "Text(0.5, 0, 'C')"
      ]
     },
     "execution_count": 60,
     "metadata": {},
     "output_type": "execute_result"
    },
    {
     "data": {
      "image/png": "[encoded data removed]",
      "text/plain": [
       "<Figure size 720x576 with 1 Axes>"
      ]
     },
     "metadata": {},
     "output_type": "display_data"
    }
   ],
   "source": [
    "plt.plot(x_range, train_score_list, c = 'g', label = 'Train Score')\n",
    "plt.plot(x_range, test_score_list, c = 'b', label = 'Test Score')\n",
    "plt.xscale('log')\n",
    "plt.legend(loc = 3)\n",
    "plt.xlabel('C')"
   ]
  },
  {
   "cell_type": "markdown",
   "metadata": {},
   "source": [
    "### The Kernalized rbf SVC model with 'C': 100, 'gamma': 1 overfits the dataset."
   ]
  },
  {
   "cell_type": "markdown",
   "metadata": {},
   "source": [
    "## Kernalized SVC - Poly"
   ]
  },
  {
   "cell_type": "code",
   "execution_count": 82,
   "metadata": {},
   "outputs": [
    {
     "data": {
      "text/plain": [
       "GridSearchCV(cv=5, error_score='raise-deprecating',\n",
       "             estimator=SVC(C=1.0, cache_size=200, class_weight=None, coef0=0.0,\n",
       "                           decision_function_shape='ovr', degree=3,\n",
       "                           gamma='auto_deprecated', kernel='poly', max_iter=-1,\n",
       "                           probability=False, random_state=None, shrinking=True,\n",
       "                           tol=0.001, verbose=False),\n",
       "             iid='warn', n_jobs=None,\n",
       "             param_grid={'C': [0.001, 0.01, 0.1, 1, 10, 100],\n",
       "                         'degree': [1, 2, 3, 4, 5]},\n",
       "             pre_dispatch='2*n_jobs', refit=True, return_train_score=False,\n",
       "             scoring=None, verbose=0)"
      ]
     },
     "execution_count": 82,
     "metadata": {},
     "output_type": "execute_result"
    }
   ],
   "source": [
    "svc_poly = SVC(kernel='poly')\n",
    "param_grid = {'C':[0.001, 0.01, 0.1, 1, 10, 100],'degree':[1,2,3,4,5]}\n",
    "\n",
    "grid_svc_poly = GridSearchCV(svc_poly, param_grid, cv = 5)\n",
    "grid_svc_poly.fit(X_train_smote, Y_train_smote)"
   ]
  },
  {
   "cell_type": "code",
   "execution_count": 83,
   "metadata": {},
   "outputs": [
    {
     "name": "stdout",
     "output_type": "stream",
     "text": [
      "Best Parameters for Kernalized Poly SVC from grid search:  {'C': 100, 'degree': 3}\n"
     ]
    }
   ],
   "source": [
    "print(\"Best Parameters for Kernalized Poly SVC from grid search: \", grid_svc_poly.best_params_)"
   ]
  },
  {
   "cell_type": "code",
   "execution_count": 84,
   "metadata": {},
   "outputs": [
    {
     "data": {
      "text/plain": [
       "SVC(C=100, cache_size=200, class_weight=None, coef0=0.0,\n",
       "    decision_function_shape='ovr', degree=3, gamma='auto_deprecated',\n",
       "    kernel='poly', max_iter=-1, probability=False, random_state=None,\n",
       "    shrinking=True, tol=0.001, verbose=False)"
      ]
     },
     "execution_count": 84,
     "metadata": {},
     "output_type": "execute_result"
    }
   ],
   "source": [
    "svc_poly_mod = SVC(kernel='poly',C=100,degree=3)\n",
    "svc_poly_mod.fit(X_train_smote, Y_train_smote)"
   ]
  },
  {
   "cell_type": "code",
   "execution_count": 85,
   "metadata": {},
   "outputs": [],
   "source": [
    "cross_val_scores_svc_poly= cross_val_score(svc_poly_mod,X_train_smote, Y_train_smote,cv=5)"
   ]
  },
  {
   "cell_type": "code",
   "execution_count": 86,
   "metadata": {},
   "outputs": [
    {
     "name": "stdout",
     "output_type": "stream",
     "text": [
      "The Cross validation scores for the training set is:[0.77770619 0.77354839 0.82967742 0.81612903 0.83225806]\n",
      "The Mean Cross val score for training set is:0.8058638177585633\n"
     ]
    }
   ],
   "source": [
    "print('The Cross validation scores for the training set is:{}'.format(cross_val_scores_svc_poly))\n",
    "print('The Mean Cross val score for training set is:{}'.format(np.mean(cross_val_scores_svc_poly)))"
   ]
  },
  {
   "cell_type": "code",
   "execution_count": 87,
   "metadata": {},
   "outputs": [
    {
     "name": "stdout",
     "output_type": "stream",
     "text": [
      "              precision    recall  f1-score   support\n",
      "\n",
      "           0       0.89      0.76      0.82      1295\n",
      "           1       0.53      0.75      0.62       465\n",
      "\n",
      "    accuracy                           0.76      1760\n",
      "   macro avg       0.71      0.75      0.72      1760\n",
      "weighted avg       0.80      0.76      0.77      1760\n",
      "\n",
      "The Train score is:0.8501031991744066\n",
      "The Test score is:0.7556818181818182\n"
     ]
    }
   ],
   "source": [
    "svc_poly_predict = svc_poly_mod.predict(X_test)\n",
    "svc_poly_predict_train=svc_poly_mod.predict(X_train_smote)\n",
    "print(classification_report(y_test,svc_poly_predict))\n",
    "print('The Train score is:{}'.format(accuracy_score(Y_train_smote,svc_poly_predict_train)))\n",
    "print('The Test score is:{}'.format(accuracy_score(y_test,svc_poly_predict)))"
   ]
  },
  {
   "cell_type": "code",
   "execution_count": 88,
   "metadata": {},
   "outputs": [],
   "source": [
    "train_score_list = []\n",
    "test_score_list = []\n",
    "x_range = [0.001, 0.01, 0.1, 1, 10, 100]\n",
    "\n",
    "for alpha in x_range: \n",
    "    svc_poly_mod_range = SVC(kernel='poly',C=alpha,degree=3)\n",
    "    svc_poly_mod_range.fit(X_train_smote, Y_train_smote)\n",
    "    train_score_list.append(svc_poly_mod_range.score(X_train_smote, Y_train_smote))\n",
    "    test_score_list.append(svc_poly_mod_range.score(X_test, y_test))"
   ]
  },
  {
   "cell_type": "code",
   "execution_count": 89,
   "metadata": {},
   "outputs": [
    {
     "data": {
      "text/plain": [
       "Text(0.5, 0, 'C')"
      ]
     },
     "execution_count": 89,
     "metadata": {},
     "output_type": "execute_result"
    },
    {
     "data": {
      "image/png": "[encoded data removed]",
      "text/plain": [
       "<Figure size 720x576 with 1 Axes>"
      ]
     },
     "metadata": {},
     "output_type": "display_data"
    }
   ],
   "source": [
    "plt.plot(x_range, train_score_list, c = 'g', label = 'Train Score')\n",
    "plt.plot(x_range, test_score_list, c = 'b', label = 'Test Score')\n",
    "plt.xscale('log')\n",
    "plt.legend(loc = 3)\n",
    "plt.xlabel('C')"
   ]
  },
  {
   "cell_type": "markdown",
   "metadata": {},
   "source": [
    "### The Kernalized poly SVC model with 'C': 100, 'degree': 3 overfits the dataset."
   ]
  },
  {
   "cell_type": "markdown",
   "metadata": {},
   "source": [
    "# Decision Tree"
   ]
  },
  {
   "cell_type": "code",
   "execution_count": 90,
   "metadata": {},
   "outputs": [
    {
     "data": {
      "text/plain": [
       "GridSearchCV(cv=5, error_score='raise-deprecating',\n",
       "             estimator=DecisionTreeClassifier(class_weight=None,\n",
       "                                              criterion='gini', max_depth=None,\n",
       "                                              max_features=None,\n",
       "                                              max_leaf_nodes=None,\n",
       "                                              min_impurity_decrease=0.0,\n",
       "                                              min_impurity_split=None,\n",
       "                                              min_samples_leaf=1,\n",
       "                                              min_samples_split=2,\n",
       "                                              min_weight_fraction_leaf=0.0,\n",
       "                                              presort=False, random_state=None,\n",
       "                                              splitter='best'),\n",
       "             iid='warn', n_jobs=None,\n",
       "             param_grid={'max_depth': array([ 1,  2,  3,  4,  5,  6,  7,  8,  9, 10, 11, 12, 13, 14, 15, 16, 17,\n",
       "       18, 19])},\n",
       "             pre_dispatch='2*n_jobs', refit=True, return_train_score=False,\n",
       "             scoring=None, verbose=0)"
      ]
     },
     "execution_count": 90,
     "metadata": {},
     "output_type": "execute_result"
    }
   ],
   "source": [
    "%matplotlib notebook\n",
    "from sklearn.tree import DecisionTreeClassifier\n",
    "\n",
    "param_grid = {'max_depth': np.arange(1, 20)}\n",
    "\n",
    "grid_tree = GridSearchCV(DecisionTreeClassifier(), param_grid,cv = 5)\n",
    "grid_tree.fit(X_train_smote, Y_train_smote)"
   ]
  },
  {
   "cell_type": "code",
   "execution_count": 91,
   "metadata": {},
   "outputs": [
    {
     "name": "stdout",
     "output_type": "stream",
     "text": [
      "Best Parameters for decision tree from grid search:  {'max_depth': 11}\n"
     ]
    }
   ],
   "source": [
    "print(\"Best Parameters for decision tree from grid search: \", grid_tree.best_params_)"
   ]
  },
  {
   "cell_type": "code",
   "execution_count": 92,
   "metadata": {},
   "outputs": [
    {
     "data": {
      "text/plain": [
       "DecisionTreeClassifier(class_weight=None, criterion='gini', max_depth=11,\n",
       "                       max_features=None, max_leaf_nodes=None,\n",
       "                       min_impurity_decrease=0.0, min_impurity_split=None,\n",
       "                       min_samples_leaf=1, min_samples_split=2,\n",
       "                       min_weight_fraction_leaf=0.0, presort=False,\n",
       "                       random_state=0, splitter='best')"
      ]
     },
     "execution_count": 92,
     "metadata": {},
     "output_type": "execute_result"
    }
   ],
   "source": [
    "dtree = DecisionTreeClassifier(max_depth=11, random_state=0)\n",
    "dtree.fit(X_train_smote, Y_train_smote)"
   ]
  },
  {
   "cell_type": "code",
   "execution_count": 93,
   "metadata": {},
   "outputs": [],
   "source": [
    "cross_val_scores_dtree= cross_val_score(dtree,X_train_smote, Y_train_smote,cv=5)"
   ]
  },
  {
   "cell_type": "code",
   "execution_count": 94,
   "metadata": {},
   "outputs": [
    {
     "name": "stdout",
     "output_type": "stream",
     "text": [
      "The Cross validation scores for the training set is:[0.72938144 0.74516129 0.83612903 0.82064516 0.83677419]\n",
      "The Mean Cross val score for training set is:0.7936182241436648\n"
     ]
    }
   ],
   "source": [
    "print('The Cross validation scores for the training set is:{}'.format(cross_val_scores_dtree))\n",
    "print('The Mean Cross val score for training set is:{}'.format(np.mean(cross_val_scores_dtree)))"
   ]
  },
  {
   "cell_type": "code",
   "execution_count": 95,
   "metadata": {},
   "outputs": [
    {
     "name": "stdout",
     "output_type": "stream",
     "text": [
      "              precision    recall  f1-score   support\n",
      "\n",
      "           0       0.86      0.78      0.81      1295\n",
      "           1       0.51      0.64      0.56       465\n",
      "\n",
      "    accuracy                           0.74      1760\n",
      "   macro avg       0.68      0.71      0.69      1760\n",
      "weighted avg       0.76      0.74      0.75      1760\n",
      "\n",
      "The Train score is:0.9057017543859649\n",
      "The Test score is:0.7397727272727272\n"
     ]
    }
   ],
   "source": [
    "dtree_predict = dtree.predict(X_test)\n",
    "dtree_predict_train=dtree.predict(X_train_smote)\n",
    "print(classification_report(y_test,dtree_predict))\n",
    "print('The Train score is:{}'.format(accuracy_score(Y_train_smote,dtree_predict_train)))\n",
    "print('The Test score is:{}'.format(accuracy_score(y_test,dtree_predict)))"
   ]
  },
  {
   "cell_type": "code",
   "execution_count": 96,
   "metadata": {},
   "outputs": [
    {
     "data": {
      "text/plain": [
       "array([0.01445556, 0.01131323, 0.00877082, 0.0208152 , 0.01325596,\n",
       "       0.01501139, 0.01835151, 0.01828388, 0.00170413, 0.01796403,\n",
       "       0.02852014, 0.01128173, 0.02376887, 0.        , 0.05108896,\n",
       "       0.01028194, 0.33959987, 0.00230437, 0.02152127, 0.00765702,\n",
       "       0.00830002, 0.0222448 , 0.00703737, 0.00494122, 0.        ,\n",
       "       0.00983918, 0.0008216 , 0.00095138, 0.11122913, 0.12342704,\n",
       "       0.0752584 ])"
      ]
     },
     "execution_count": 96,
     "metadata": {},
     "output_type": "execute_result"
    }
   ],
   "source": [
    "dtree.feature_importances_"
   ]
  },
  {
   "cell_type": "code",
   "execution_count": 102,
   "metadata": {},
   "outputs": [
    {
     "data": {
      "image/png": "[encoded data removed]",
      "text/plain": [
       "<Figure size 720x576 with 1 Axes>"
      ]
     },
     "metadata": {},
     "output_type": "display_data"
    }
   ],
   "source": [
    "def plot_feature_importances_telcom(model):\n",
    "    n_features = X_train_smote.shape[1]\n",
    "    Id_col     = ['customerID']\n",
    "    target_col = [\"Churn\"]\n",
    "    cols    = [i for i in X_train_smote.columns if i not in Id_col+target_col]\n",
    "    fearures_telcom= X_train_smote[cols]\n",
    "    plt.barh(cols, model.feature_importances_, align='center')\n",
    "    plt.yticks(np.arange(n_features), fearures_telcom)\n",
    "    plt.xlabel(\"Feature importance\")\n",
    "    plt.ylabel(\"Feature\")\n",
    "    plt.ylim(-1, n_features)\n",
    "    plt.show()\n",
    "\n",
    "plot_feature_importances_telcom(dtree)"
   ]
  },
  {
   "cell_type": "markdown",
   "metadata": {},
   "source": [
    "### Monthly charges,Contract Month to month have been picked as some of the important features for prediction as it is been suggested by the correlation plot earlier in the notebook"
   ]
  },
  {
   "cell_type": "code",
   "execution_count": 103,
   "metadata": {},
   "outputs": [],
   "source": [
    "train_score_list = []\n",
    "test_score_list = []\n",
    "max_dep = np.arange(5, 20)\n",
    "\n",
    "for depth in max_dep: \n",
    "    model_dtree = DecisionTreeClassifier(max_depth=depth)\n",
    "    model_dtree.fit(X_train_smote,Y_train_smote)\n",
    "    train_score_list.append(model_dtree.score(X_train_smote,Y_train_smote))\n",
    "    test_score_list.append(model_dtree.score(X_test, y_test))"
   ]
  },
  {
   "cell_type": "code",
   "execution_count": 104,
   "metadata": {},
   "outputs": [
    {
     "data": {
      "text/plain": [
       "Text(0.5, 0, 'Max_Depth')"
      ]
     },
     "execution_count": 104,
     "metadata": {},
     "output_type": "execute_result"
    },
    {
     "data": {
      "image/png": "[encoded data removed]",
      "text/plain": [
       "<Figure size 720x576 with 1 Axes>"
      ]
     },
     "metadata": {},
     "output_type": "display_data"
    }
   ],
   "source": [
    "plt.plot(max_dep, train_score_list, c = 'g', label = 'Train Score')\n",
    "plt.plot(max_dep, test_score_list, c = 'b', label = 'Test Score')\n",
    "plt.legend(loc = 3)\n",
    "plt.xlabel('Max_Depth')"
   ]
  },
  {
   "cell_type": "markdown",
   "metadata": {},
   "source": [
    "### The decision tree with Max_depth as 11 clearly overfits the dataset. Eventhough it overfits the feature importance function of decision tree helped us to validate the results that we got from the initial EDA"
   ]
  },
  {
   "cell_type": "markdown",
   "metadata": {},
   "source": [
    "### Classification Model Comparision:"
   ]
  },
  {
   "cell_type": "code",
   "execution_count": 122,
   "metadata": {},
   "outputs": [],
   "source": [
    "df_index=['KNN','Logistic','Linear SVC','SVC Linear Kernel','SVC rbf Kernel','SVC Poly Kernel','Decision Tree']\n",
    "Classification_Result=pd.DataFrame(columns=['Model_Name','Best_Parameter','Training_score','CV_Score','Testing_score','F1_score','Recall'],index=df_index)\n",
    "Classification_Result['Model_Name']=Classification_Result.index"
   ]
  },
  {
   "cell_type": "code",
   "execution_count": 123,
   "metadata": {},
   "outputs": [],
   "source": [
    "### Results for KNN\n",
    "Classification_Result.loc['KNN']['Best_Parameter']='K=6'\n",
    "Classification_Result.loc['KNN']['Training_score']=0.8637\n",
    "Classification_Result.loc['KNN']['CV_Score']=0.8052\n",
    "Classification_Result.loc['KNN']['Testing_score']=0.7346\n",
    "Classification_Result.loc['KNN']['F1_score']=0.57\n",
    "Classification_Result.loc['KNN']['Recall']=0.66"
   ]
  },
  {
   "cell_type": "code",
   "execution_count": 124,
   "metadata": {},
   "outputs": [],
   "source": [
    "### Results for Logistic Regression\n",
    "Classification_Result.loc['Logistic']['Best_Parameter']='C=100'\n",
    "Classification_Result.loc['Logistic']['Training_score']=0.7697\n",
    "Classification_Result.loc['Logistic']['CV_Score']=0.7675\n",
    "Classification_Result.loc['Logistic']['Testing_score']=0.7687\n",
    "Classification_Result.loc['Logistic']['F1_score']=0.65\n",
    "Classification_Result.loc['Logistic']['Recall']=0.82"
   ]
  },
  {
   "cell_type": "code",
   "execution_count": 126,
   "metadata": {},
   "outputs": [],
   "source": [
    "### Results for Linear SVC\n",
    "Classification_Result.loc['Linear SVC']['Best_Parameter']='C=1'\n",
    "Classification_Result.loc['Linear SVC']['Training_score']=0.7688\n",
    "Classification_Result.loc['Linear SVC']['CV_Score']=0.7656\n",
    "Classification_Result.loc['Linear SVC']['Testing_score']=0.7681\n",
    "Classification_Result.loc['Linear SVC']['F1_score']=0.65\n",
    "Classification_Result.loc['Linear SVC']['Recall']=0.82"
   ]
  },
  {
   "cell_type": "code",
   "execution_count": 128,
   "metadata": {},
   "outputs": [],
   "source": [
    "### Results for SVC Linear Kernel\n",
    "Classification_Result.loc['SVC Linear Kernel']['Best_Parameter']='C=1'\n",
    "Classification_Result.loc['SVC Linear Kernel']['Training_score']=0.7640\n",
    "Classification_Result.loc['SVC Linear Kernel']['CV_Score']=0.7603\n",
    "Classification_Result.loc['SVC Linear Kernel']['Testing_score']=0.7539\n",
    "Classification_Result.loc['SVC Linear Kernel']['F1_score']=0.64\n",
    "Classification_Result.loc['SVC Linear Kernel']['Recall']=0.83"
   ]
  },
  {
   "cell_type": "code",
   "execution_count": 130,
   "metadata": {},
   "outputs": [],
   "source": [
    "### Results for SVC rbf Kernel\n",
    "Classification_Result.loc['SVC rbf Kernel']['Best_Parameter']='c= 100, gamma =1'\n",
    "Classification_Result.loc['SVC rbf Kernel']['Training_score']=0.9691\n",
    "Classification_Result.loc['SVC rbf Kernel']['CV_Score']=0.8842\n",
    "Classification_Result.loc['SVC rbf Kernel']['Testing_score']=0.7636\n",
    "Classification_Result.loc['SVC rbf Kernel']['F1_score']=0.51\n",
    "Classification_Result.loc['SVC rbf Kernel']['Recall']=0.46"
   ]
  },
  {
   "cell_type": "code",
   "execution_count": 136,
   "metadata": {},
   "outputs": [],
   "source": [
    "### Results for SVC Poly Kernel\n",
    "Classification_Result.loc['SVC Poly Kernel']['Best_Parameter']='C= 100 ,degree =3'\n",
    "Classification_Result.loc['SVC Poly Kernel']['Training_score']=0.9691\n",
    "Classification_Result.loc['SVC Poly Kernel']['CV_Score']=0.8842\n",
    "Classification_Result.loc['SVC Poly Kernel']['Testing_score']=0.7636\n",
    "Classification_Result.loc['SVC Poly Kernel']['F1_score']=0.51\n",
    "Classification_Result.loc['SVC Poly Kernel']['Recall']=0.46"
   ]
  },
  {
   "cell_type": "code",
   "execution_count": 137,
   "metadata": {},
   "outputs": [],
   "source": [
    "### Results for Decision Tree\n",
    "Classification_Result.loc['Decision Tree']['Best_Parameter']='Max_depth =11'\n",
    "Classification_Result.loc['Decision Tree']['Training_score']=0.9057\n",
    "Classification_Result.loc['Decision Tree']['CV_Score']=0.7936\n",
    "Classification_Result.loc['Decision Tree']['Testing_score']=0.7397\n",
    "Classification_Result.loc['Decision Tree']['F1_score']=0.56\n",
    "Classification_Result.loc['Decision Tree']['Recall']=0.64"
   ]
  },
  {
   "cell_type": "code",
   "execution_count": 138,
   "metadata": {},
   "outputs": [
    {
     "data": {
      "text/html": [
       "<div>\n",
       "<style scoped>\n",
       "    .dataframe tbody tr th:only-of-type {\n",
       "        vertical-align: middle;\n",
       "    }\n",
       "\n",
       "    .dataframe tbody tr th {\n",
       "        vertical-align: top;\n",
       "    }\n",
       "\n",
       "    .dataframe thead th {\n",
       "        text-align: right;\n",
       "    }\n",
       "</style>\n",
       "<table border=\"1\" class=\"dataframe\">\n",
       "  <thead>\n",
       "    <tr style=\"text-align: right;\">\n",
       "      <th></th>\n",
       "      <th>Model_Name</th>\n",
       "      <th>Best_Parameter</th>\n",
       "      <th>Training_score</th>\n",
       "      <th>CV_Score</th>\n",
       "      <th>Testing_score</th>\n",
       "      <th>F1_score</th>\n",
       "      <th>Recall</th>\n",
       "    </tr>\n",
       "  </thead>\n",
       "  <tbody>\n",
       "    <tr>\n",
       "      <th>KNN</th>\n",
       "      <td>KNN</td>\n",
       "      <td>K=6</td>\n",
       "      <td>0.8637</td>\n",
       "      <td>0.8052</td>\n",
       "      <td>0.7346</td>\n",
       "      <td>0.57</td>\n",
       "      <td>0.66</td>\n",
       "    </tr>\n",
       "    <tr>\n",
       "      <th>Logistic</th>\n",
       "      <td>Logistic</td>\n",
       "      <td>C=100</td>\n",
       "      <td>0.7697</td>\n",
       "      <td>0.7675</td>\n",
       "      <td>0.7687</td>\n",
       "      <td>0.65</td>\n",
       "      <td>0.82</td>\n",
       "    </tr>\n",
       "    <tr>\n",
       "      <th>Linear SVC</th>\n",
       "      <td>Linear SVC</td>\n",
       "      <td>C=1</td>\n",
       "      <td>0.7688</td>\n",
       "      <td>0.7656</td>\n",
       "      <td>0.7681</td>\n",
       "      <td>0.65</td>\n",
       "      <td>0.82</td>\n",
       "    </tr>\n",
       "    <tr>\n",
       "      <th>SVC Linear Kernel</th>\n",
       "      <td>SVC Linear Kernel</td>\n",
       "      <td>C=1</td>\n",
       "      <td>0.764</td>\n",
       "      <td>0.7603</td>\n",
       "      <td>0.7539</td>\n",
       "      <td>0.64</td>\n",
       "      <td>0.83</td>\n",
       "    </tr>\n",
       "    <tr>\n",
       "      <th>SVC rbf Kernel</th>\n",
       "      <td>SVC rbf Kernel</td>\n",
       "      <td>c= 100, gamma =1</td>\n",
       "      <td>0.9691</td>\n",
       "      <td>0.8842</td>\n",
       "      <td>0.7636</td>\n",
       "      <td>0.51</td>\n",
       "      <td>0.46</td>\n",
       "    </tr>\n",
       "    <tr>\n",
       "      <th>SVC Poly Kernel</th>\n",
       "      <td>SVC Poly Kernel</td>\n",
       "      <td>C= 100 ,degree =3</td>\n",
       "      <td>0.9691</td>\n",
       "      <td>0.8842</td>\n",
       "      <td>0.7636</td>\n",
       "      <td>0.51</td>\n",
       "      <td>0.46</td>\n",
       "    </tr>\n",
       "    <tr>\n",
       "      <th>Decision Tree</th>\n",
       "      <td>Decision Tree</td>\n",
       "      <td>Max_depth =11</td>\n",
       "      <td>0.9057</td>\n",
       "      <td>0.7936</td>\n",
       "      <td>0.7397</td>\n",
       "      <td>0.56</td>\n",
       "      <td>0.64</td>\n",
       "    </tr>\n",
       "  </tbody>\n",
       "</table>\n",
       "</div>"
      ],
      "text/plain": [
       "                          Model_Name     Best_Parameter Training_score  \\\n",
       "KNN                              KNN                K=6         0.8637   \n",
       "Logistic                    Logistic              C=100         0.7697   \n",
       "Linear SVC                Linear SVC                C=1         0.7688   \n",
       "SVC Linear Kernel  SVC Linear Kernel                C=1          0.764   \n",
       "SVC rbf Kernel        SVC rbf Kernel   c= 100, gamma =1         0.9691   \n",
       "SVC Poly Kernel      SVC Poly Kernel  C= 100 ,degree =3         0.9691   \n",
       "Decision Tree          Decision Tree      Max_depth =11         0.9057   \n",
       "\n",
       "                  CV_Score Testing_score F1_score Recall  \n",
       "KNN                 0.8052        0.7346     0.57   0.66  \n",
       "Logistic            0.7675        0.7687     0.65   0.82  \n",
       "Linear SVC          0.7656        0.7681     0.65   0.82  \n",
       "SVC Linear Kernel   0.7603        0.7539     0.64   0.83  \n",
       "SVC rbf Kernel      0.8842        0.7636     0.51   0.46  \n",
       "SVC Poly Kernel     0.8842        0.7636     0.51   0.46  \n",
       "Decision Tree       0.7936        0.7397     0.56   0.64  "
      ]
     },
     "execution_count": 138,
     "metadata": {},
     "output_type": "execute_result"
    }
   ],
   "source": [
    "Classification_Result"
   ]
  },
  {
   "cell_type": "code",
   "execution_count": 139,
   "metadata": {},
   "outputs": [
    {
     "data": {
      "text/plain": [
       "<matplotlib.axes._subplots.AxesSubplot at 0x13b149882e8>"
      ]
     },
     "execution_count": 139,
     "metadata": {},
     "output_type": "execute_result"
    },
    {
     "data": {
      "image/png": "[encoded data removed]",
      "text/plain": [
       "<Figure size 720x576 with 1 Axes>"
      ]
     },
     "metadata": {},
     "output_type": "display_data"
    }
   ],
   "source": [
    "Classification_Result[['Training_score','CV_Score','Testing_score','F1_score','Recall']].plot(kind='bar')"
   ]
  },
  {
   "cell_type": "markdown",
   "metadata": {},
   "source": [
    "### Evaluation Metric Used: High F1 score with High Recall and Better generalization(Diff between train,CV and test scores should be minimal)"
   ]
  },
  {
   "cell_type": "markdown",
   "metadata": {},
   "source": [
    "#### Recall = TP/(TP+FN) ; TP --> True Positive ;  FN ---> False Negative"
   ]
  },
  {
   "cell_type": "markdown",
   "metadata": {},
   "source": [
    "* High F1 score in Churn Prediction: F1 is the accuracy of the model on how many chrun and non chrun customer are actually classified correclty from the whole datapoints. High F1 score means less mis-classification.Hence this can be used as a major metric along with High Recall.\n",
    "* High Recall: It is predicting more TP and Less FN. Having FN(predicting Chrun as Non Chrun leads to loosing the customer base which inturn decreases the revenue of the telcom company. Hence FN should be minimum as a result Recall will be high\n",
    "\n",
    "### Hence the model with High F1 score along with High Recall is considered as a best model"
   ]
  },
  {
   "cell_type": "markdown",
   "metadata": {},
   "source": [
    "### Best Model: Linear SVC\n",
    "* Both Logistic regression and Linear SVC satisfies the above criteria but in logistic regression the Parameter C is very high when compared to Linear SVC. Small values of C give larger margin between the decision boundary and the datapoints and also better regularization. So model with less value for C should be chosen\n",
    "* Hence Linear SVC is considered as a best model among all the models."
   ]
  }
 ],
 "metadata": {
  "kernelspec": {
   "display_name": "Python 3",
   "language": "python",
   "name": "python3"
  },
  "language_info": {
   "codemirror_mode": {
    "name": "ipython",
    "version": 3
   },
   "file_extension": ".py",
   "mimetype": "text/x-python",
   "name": "python",
   "nbconvert_exporter": "python",
   "pygments_lexer": "ipython3",
   "version": "3.7.3"
  }
 },
 "nbformat": 4,
 "nbformat_minor": 2
}
