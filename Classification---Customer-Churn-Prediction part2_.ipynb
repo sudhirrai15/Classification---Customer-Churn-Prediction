{
 "cells": [
  {
   "cell_type": "markdown",
   "metadata": {},
   "source": [
    "# Project 2 Regression: Group 16\n",
    "\n",
    "\n",
    "###### Santhosh Loganathan (sxl175430)\n",
    "\n",
    "###### Sudhir Rai (SXR180041)"
   ]
  },
  {
   "cell_type": "markdown",
   "metadata": {},
   "source": [
    "## Classification - Customer Chrun Prediction"
   ]
  },
  {
   "cell_type": "markdown",
   "metadata": {},
   "source": [
    "Dataset Link: https://www.kaggle.com/blastchar/telco-customer-churn/download\n",
    "\n",
    "### Features Description:\n",
    "\n",
    "The dataset contains of 21 features\n",
    "- customerID : The Customer ID of the customer and it is unique\n",
    "- gender : The Gender of the customer\n",
    "- SeniorCitizen : To say whether the customer is the SeniorCitizen or not\n",
    "- Partner          : Whether the customer is a Partner or not\n",
    "- Dependents       : Whether the customer has a Dependents or not\n",
    "- tenure           : Tenure or how long the customer is with the company/firm\n",
    "- PhoneService     : Whether the customer has a PhoneService or not\n",
    "- MultipleLines    : Whether the customer has a MultipleLines or not\n",
    "- InternetService  : Whether the customer has a InternetService of DSL/Fiber Optic or not\n",
    "- OnlineSecurity   : Whether the customer has a OnlineSecurity or not\n",
    "- OnlineBackup     : Whether the customer has a OnlineBackup or not\n",
    "- DeviceProtection : Whether the customer has a DeviceProtection or not\n",
    "- TechSupport      : Whether the customer has opted for a TechSupport or not\n",
    "- StreamingTV      : Whether the customer has opted for a StreamingTV or not\n",
    "- StreamingMovies  : Whether the customer has opted for StreamingMovies or not\n",
    "- Contract         : Type of contract the customer is on\n",
    "- PaperlessBilling : Whether the customer has opted for PaperlessBilling or not\n",
    "- PaymentMethod    : Payment method used by the customer\n",
    "- MonthlyCharges   : MonthlyCharges paid by the customer\n",
    "- TotalCharges     : Total charges paid by the customer\n",
    "- Chrun            : Indicated whether the customer has chrunned or not and it is the Target Variable"
   ]
  },
  {
   "cell_type": "markdown",
   "metadata": {},
   "source": [
    "### Project Objective:\n",
    "- The objective of the project is to classify whether the customer will Chrun or not for the Telcom Company."
   ]
  },
  {
   "cell_type": "markdown",
   "metadata": {},
   "source": [
    "## Importing libraries"
   ]
  },
  {
   "cell_type": "code",
   "execution_count": 123,
   "metadata": {},
   "outputs": [],
   "source": [
    "import numpy as np \n",
    "import pandas as pd\n",
    "import itertools\n",
    "%matplotlib inline\n",
    "import matplotlib.pyplot as plt\n",
    "from matplotlib.pylab import rcParams\n",
    "rcParams['figure.figsize'] = 12,10 \n",
    "import seaborn as sns\n",
    "import warnings\n",
    "warnings.filterwarnings(\"ignore\")\n",
    "pd.set_option('display.max_columns', 50)"
   ]
  },
  {
   "cell_type": "markdown",
   "metadata": {},
   "source": [
    "### Reading Data"
   ]
  },
  {
   "cell_type": "code",
   "execution_count": 2,
   "metadata": {},
   "outputs": [
    {
     "data": {
      "text/html": [
       "<div>\n",
       "<style scoped>\n",
       "    .dataframe tbody tr th:only-of-type {\n",
       "        vertical-align: middle;\n",
       "    }\n",
       "\n",
       "    .dataframe tbody tr th {\n",
       "        vertical-align: top;\n",
       "    }\n",
       "\n",
       "    .dataframe thead th {\n",
       "        text-align: right;\n",
       "    }\n",
       "</style>\n",
       "<table border=\"1\" class=\"dataframe\">\n",
       "  <thead>\n",
       "    <tr style=\"text-align: right;\">\n",
       "      <th></th>\n",
       "      <th>customerID</th>\n",
       "      <th>gender</th>\n",
       "      <th>SeniorCitizen</th>\n",
       "      <th>Partner</th>\n",
       "      <th>Dependents</th>\n",
       "      <th>tenure</th>\n",
       "      <th>PhoneService</th>\n",
       "      <th>MultipleLines</th>\n",
       "      <th>InternetService</th>\n",
       "      <th>OnlineSecurity</th>\n",
       "      <th>OnlineBackup</th>\n",
       "      <th>DeviceProtection</th>\n",
       "      <th>TechSupport</th>\n",
       "      <th>StreamingTV</th>\n",
       "      <th>StreamingMovies</th>\n",
       "      <th>Contract</th>\n",
       "      <th>PaperlessBilling</th>\n",
       "      <th>PaymentMethod</th>\n",
       "      <th>MonthlyCharges</th>\n",
       "      <th>TotalCharges</th>\n",
       "      <th>Churn</th>\n",
       "    </tr>\n",
       "  </thead>\n",
       "  <tbody>\n",
       "    <tr>\n",
       "      <th>0</th>\n",
       "      <td>7590-VHVEG</td>\n",
       "      <td>Female</td>\n",
       "      <td>0</td>\n",
       "      <td>Yes</td>\n",
       "      <td>No</td>\n",
       "      <td>1.0</td>\n",
       "      <td>No</td>\n",
       "      <td>No phone service</td>\n",
       "      <td>DSL</td>\n",
       "      <td>No</td>\n",
       "      <td>Yes</td>\n",
       "      <td>No</td>\n",
       "      <td>No</td>\n",
       "      <td>No</td>\n",
       "      <td>No</td>\n",
       "      <td>Month-to-month</td>\n",
       "      <td>Yes</td>\n",
       "      <td>Electronic check</td>\n",
       "      <td>29.85</td>\n",
       "      <td>29.85</td>\n",
       "      <td>No</td>\n",
       "    </tr>\n",
       "    <tr>\n",
       "      <th>1</th>\n",
       "      <td>5575-GNVDE</td>\n",
       "      <td>Male</td>\n",
       "      <td>0</td>\n",
       "      <td>No</td>\n",
       "      <td>No</td>\n",
       "      <td>34.0</td>\n",
       "      <td>Yes</td>\n",
       "      <td>No</td>\n",
       "      <td>DSL</td>\n",
       "      <td>Yes</td>\n",
       "      <td>No</td>\n",
       "      <td>Yes</td>\n",
       "      <td>No</td>\n",
       "      <td>No</td>\n",
       "      <td>No</td>\n",
       "      <td>One year</td>\n",
       "      <td>No</td>\n",
       "      <td>Mailed check</td>\n",
       "      <td>56.95</td>\n",
       "      <td>1889.5</td>\n",
       "      <td>No</td>\n",
       "    </tr>\n",
       "    <tr>\n",
       "      <th>2</th>\n",
       "      <td>3668-QPYBK</td>\n",
       "      <td>Male</td>\n",
       "      <td>0</td>\n",
       "      <td>No</td>\n",
       "      <td>No</td>\n",
       "      <td>2.0</td>\n",
       "      <td>Yes</td>\n",
       "      <td>No</td>\n",
       "      <td>DSL</td>\n",
       "      <td>Yes</td>\n",
       "      <td>Yes</td>\n",
       "      <td>No</td>\n",
       "      <td>No</td>\n",
       "      <td>No</td>\n",
       "      <td>No</td>\n",
       "      <td>Month-to-month</td>\n",
       "      <td>Yes</td>\n",
       "      <td>Mailed check</td>\n",
       "      <td>53.85</td>\n",
       "      <td>108.15</td>\n",
       "      <td>Yes</td>\n",
       "    </tr>\n",
       "    <tr>\n",
       "      <th>3</th>\n",
       "      <td>7795-CFOCW</td>\n",
       "      <td>Male</td>\n",
       "      <td>0</td>\n",
       "      <td>No</td>\n",
       "      <td>No</td>\n",
       "      <td>45.0</td>\n",
       "      <td>No</td>\n",
       "      <td>No phone service</td>\n",
       "      <td>DSL</td>\n",
       "      <td>Yes</td>\n",
       "      <td>No</td>\n",
       "      <td>Yes</td>\n",
       "      <td>Yes</td>\n",
       "      <td>No</td>\n",
       "      <td>No</td>\n",
       "      <td>One year</td>\n",
       "      <td>No</td>\n",
       "      <td>Bank transfer (automatic)</td>\n",
       "      <td>42.30</td>\n",
       "      <td>1840.75</td>\n",
       "      <td>No</td>\n",
       "    </tr>\n",
       "    <tr>\n",
       "      <th>4</th>\n",
       "      <td>9237-HQITU</td>\n",
       "      <td>Female</td>\n",
       "      <td>0</td>\n",
       "      <td>No</td>\n",
       "      <td>No</td>\n",
       "      <td>2.0</td>\n",
       "      <td>Yes</td>\n",
       "      <td>No</td>\n",
       "      <td>Fiber optic</td>\n",
       "      <td>No</td>\n",
       "      <td>No</td>\n",
       "      <td>No</td>\n",
       "      <td>No</td>\n",
       "      <td>No</td>\n",
       "      <td>No</td>\n",
       "      <td>Month-to-month</td>\n",
       "      <td>Yes</td>\n",
       "      <td>Electronic check</td>\n",
       "      <td>70.70</td>\n",
       "      <td>151.65</td>\n",
       "      <td>Yes</td>\n",
       "    </tr>\n",
       "  </tbody>\n",
       "</table>\n",
       "</div>"
      ],
      "text/plain": [
       "   customerID  gender  SeniorCitizen Partner Dependents  tenure PhoneService  \\\n",
       "0  7590-VHVEG  Female              0     Yes         No     1.0           No   \n",
       "1  5575-GNVDE    Male              0      No         No    34.0          Yes   \n",
       "2  3668-QPYBK    Male              0      No         No     2.0          Yes   \n",
       "3  7795-CFOCW    Male              0      No         No    45.0           No   \n",
       "4  9237-HQITU  Female              0      No         No     2.0          Yes   \n",
       "\n",
       "      MultipleLines InternetService OnlineSecurity OnlineBackup  \\\n",
       "0  No phone service             DSL             No          Yes   \n",
       "1                No             DSL            Yes           No   \n",
       "2                No             DSL            Yes          Yes   \n",
       "3  No phone service             DSL            Yes           No   \n",
       "4                No     Fiber optic             No           No   \n",
       "\n",
       "  DeviceProtection TechSupport StreamingTV StreamingMovies        Contract  \\\n",
       "0               No          No          No              No  Month-to-month   \n",
       "1              Yes          No          No              No        One year   \n",
       "2               No          No          No              No  Month-to-month   \n",
       "3              Yes         Yes          No              No        One year   \n",
       "4               No          No          No              No  Month-to-month   \n",
       "\n",
       "  PaperlessBilling              PaymentMethod  MonthlyCharges TotalCharges  \\\n",
       "0              Yes           Electronic check           29.85        29.85   \n",
       "1               No               Mailed check           56.95       1889.5   \n",
       "2              Yes               Mailed check           53.85       108.15   \n",
       "3               No  Bank transfer (automatic)           42.30      1840.75   \n",
       "4              Yes           Electronic check           70.70       151.65   \n",
       "\n",
       "  Churn  \n",
       "0    No  \n",
       "1    No  \n",
       "2   Yes  \n",
       "3    No  \n",
       "4   Yes  "
      ]
     },
     "execution_count": 2,
     "metadata": {},
     "output_type": "execute_result"
    }
   ],
   "source": [
    "### reading the data from the csv file and loading into a dataframe \n",
    "telcom_df = pd.read_csv(\"Telecom_Customer_Churn_prediction.csv\")\n",
    "#Displaying the first 5 rows to get an idea on what type of feature are we dealing with\n",
    "telcom_df.head(5)"
   ]
  },
  {
   "cell_type": "code",
   "execution_count": 3,
   "metadata": {},
   "outputs": [
    {
     "data": {
      "text/plain": [
       "(7043, 21)"
      ]
     },
     "execution_count": 3,
     "metadata": {},
     "output_type": "execute_result"
    }
   ],
   "source": [
    "### No of rows: 7043 , No of Cols: 21\n",
    "telcom_df.shape"
   ]
  },
  {
   "cell_type": "code",
   "execution_count": 4,
   "metadata": {},
   "outputs": [
    {
     "data": {
      "text/html": [
       "<div>\n",
       "<style scoped>\n",
       "    .dataframe tbody tr th:only-of-type {\n",
       "        vertical-align: middle;\n",
       "    }\n",
       "\n",
       "    .dataframe tbody tr th {\n",
       "        vertical-align: top;\n",
       "    }\n",
       "\n",
       "    .dataframe thead th {\n",
       "        text-align: right;\n",
       "    }\n",
       "</style>\n",
       "<table border=\"1\" class=\"dataframe\">\n",
       "  <thead>\n",
       "    <tr style=\"text-align: right;\">\n",
       "      <th></th>\n",
       "      <th>SeniorCitizen</th>\n",
       "      <th>tenure</th>\n",
       "      <th>MonthlyCharges</th>\n",
       "    </tr>\n",
       "  </thead>\n",
       "  <tbody>\n",
       "    <tr>\n",
       "      <th>count</th>\n",
       "      <td>7043.000000</td>\n",
       "      <td>7022.000000</td>\n",
       "      <td>7043.000000</td>\n",
       "    </tr>\n",
       "    <tr>\n",
       "      <th>mean</th>\n",
       "      <td>0.162147</td>\n",
       "      <td>32.340644</td>\n",
       "      <td>64.761692</td>\n",
       "    </tr>\n",
       "    <tr>\n",
       "      <th>std</th>\n",
       "      <td>0.368612</td>\n",
       "      <td>24.565824</td>\n",
       "      <td>30.090047</td>\n",
       "    </tr>\n",
       "    <tr>\n",
       "      <th>min</th>\n",
       "      <td>0.000000</td>\n",
       "      <td>0.000000</td>\n",
       "      <td>18.250000</td>\n",
       "    </tr>\n",
       "    <tr>\n",
       "      <th>25%</th>\n",
       "      <td>0.000000</td>\n",
       "      <td>9.000000</td>\n",
       "      <td>35.500000</td>\n",
       "    </tr>\n",
       "    <tr>\n",
       "      <th>50%</th>\n",
       "      <td>0.000000</td>\n",
       "      <td>29.000000</td>\n",
       "      <td>70.350000</td>\n",
       "    </tr>\n",
       "    <tr>\n",
       "      <th>75%</th>\n",
       "      <td>0.000000</td>\n",
       "      <td>55.000000</td>\n",
       "      <td>89.850000</td>\n",
       "    </tr>\n",
       "    <tr>\n",
       "      <th>max</th>\n",
       "      <td>1.000000</td>\n",
       "      <td>72.000000</td>\n",
       "      <td>118.750000</td>\n",
       "    </tr>\n",
       "  </tbody>\n",
       "</table>\n",
       "</div>"
      ],
      "text/plain": [
       "       SeniorCitizen       tenure  MonthlyCharges\n",
       "count    7043.000000  7022.000000     7043.000000\n",
       "mean        0.162147    32.340644       64.761692\n",
       "std         0.368612    24.565824       30.090047\n",
       "min         0.000000     0.000000       18.250000\n",
       "25%         0.000000     9.000000       35.500000\n",
       "50%         0.000000    29.000000       70.350000\n",
       "75%         0.000000    55.000000       89.850000\n",
       "max         1.000000    72.000000      118.750000"
      ]
     },
     "execution_count": 4,
     "metadata": {},
     "output_type": "execute_result"
    }
   ],
   "source": [
    "## From the stats of the data it is clear that the dataset has only two numerical features(tenure,MonthlyCharges). \n",
    "## So we have to do data transformation such as one hot encoding,Mapping the values etc.\n",
    "telcom_df.describe()"
   ]
  },
  {
   "cell_type": "markdown",
   "metadata": {},
   "source": [
    "### From the info() we can clearly see that TotalCharges column is being marked as object type eventhough it contains numbers. We can start with changing them to float values to begin with the data manipualation"
   ]
  },
  {
   "cell_type": "code",
   "execution_count": 5,
   "metadata": {},
   "outputs": [
    {
     "name": "stdout",
     "output_type": "stream",
     "text": [
      "<class 'pandas.core.frame.DataFrame'>\n",
      "RangeIndex: 7043 entries, 0 to 7042\n",
      "Data columns (total 21 columns):\n",
      "customerID          7043 non-null object\n",
      "gender              7043 non-null object\n",
      "SeniorCitizen       7043 non-null int64\n",
      "Partner             7043 non-null object\n",
      "Dependents          7043 non-null object\n",
      "tenure              7022 non-null float64\n",
      "PhoneService        7043 non-null object\n",
      "MultipleLines       7043 non-null object\n",
      "InternetService     7043 non-null object\n",
      "OnlineSecurity      7043 non-null object\n",
      "OnlineBackup        7043 non-null object\n",
      "DeviceProtection    7038 non-null object\n",
      "TechSupport         7043 non-null object\n",
      "StreamingTV         7043 non-null object\n",
      "StreamingMovies     7043 non-null object\n",
      "Contract            7043 non-null object\n",
      "PaperlessBilling    7043 non-null object\n",
      "PaymentMethod       7043 non-null object\n",
      "MonthlyCharges      7043 non-null float64\n",
      "TotalCharges        7020 non-null object\n",
      "Churn               7043 non-null object\n",
      "dtypes: float64(2), int64(1), object(18)\n",
      "memory usage: 1.1+ MB\n"
     ]
    }
   ],
   "source": [
    "telcom_df.info()"
   ]
  },
  {
   "cell_type": "markdown",
   "metadata": {},
   "source": [
    "### Percentage of Missing values on each column"
   ]
  },
  {
   "cell_type": "code",
   "execution_count": 6,
   "metadata": {},
   "outputs": [
    {
     "data": {
      "text/plain": [
       "customerID           0\n",
       "gender               0\n",
       "SeniorCitizen        0\n",
       "Partner              0\n",
       "Dependents           0\n",
       "tenure              21\n",
       "PhoneService         0\n",
       "MultipleLines        0\n",
       "InternetService      0\n",
       "OnlineSecurity       0\n",
       "OnlineBackup         0\n",
       "DeviceProtection     5\n",
       "TechSupport          0\n",
       "StreamingTV          0\n",
       "StreamingMovies      0\n",
       "Contract             0\n",
       "PaperlessBilling     0\n",
       "PaymentMethod        0\n",
       "MonthlyCharges       0\n",
       "TotalCharges        23\n",
       "Churn                0\n",
       "dtype: int64"
      ]
     },
     "execution_count": 6,
     "metadata": {},
     "output_type": "execute_result"
    }
   ],
   "source": [
    "Missing_Values=(telcom_df.isna().sum(axis=0))\n",
    "Missing_Values"
   ]
  },
  {
   "cell_type": "code",
   "execution_count": 7,
   "metadata": {},
   "outputs": [
    {
     "data": {
      "text/plain": [
       "customerID          0.000000\n",
       "gender              0.000000\n",
       "SeniorCitizen       0.000000\n",
       "Partner             0.000000\n",
       "Dependents          0.000000\n",
       "tenure              0.298168\n",
       "PhoneService        0.000000\n",
       "MultipleLines       0.000000\n",
       "InternetService     0.000000\n",
       "OnlineSecurity      0.000000\n",
       "OnlineBackup        0.000000\n",
       "DeviceProtection    0.070992\n",
       "TechSupport         0.000000\n",
       "StreamingTV         0.000000\n",
       "StreamingMovies     0.000000\n",
       "Contract            0.000000\n",
       "PaperlessBilling    0.000000\n",
       "PaymentMethod       0.000000\n",
       "MonthlyCharges      0.000000\n",
       "TotalCharges        0.326565\n",
       "Churn               0.000000\n",
       "dtype: float64"
      ]
     },
     "execution_count": 7,
     "metadata": {},
     "output_type": "execute_result"
    }
   ],
   "source": [
    "Missing_values_percent=(telcom_df.isna().sum(axis=0)/len(telcom_df))*100\n",
    "Missing_values_percent"
   ]
  },
  {
   "cell_type": "markdown",
   "metadata": {},
   "source": [
    "### The following can be done to handle the missing values in the dataset.\n",
    "* It can be seen that % of data missing in the device protection column is only 7% (5 Values) so these values can be dropped. \n",
    "* The missing values in the Total charges and Tenure has to be handled using imputation since the missing value percentage is more than 10%"
   ]
  },
  {
   "cell_type": "markdown",
   "metadata": {},
   "source": [
    "# Data Transformation"
   ]
  },
  {
   "cell_type": "code",
   "execution_count": 8,
   "metadata": {},
   "outputs": [],
   "source": [
    "### Replacing the blank values of Total Charges Column with nan's and convert the type from str to float\n",
    "telcom_df['TotalCharges'] = telcom_df[\"TotalCharges\"].replace(\" \",np.nan)\n",
    "telcom_df[\"TotalCharges\"] = telcom_df[\"TotalCharges\"].astype(float)"
   ]
  },
  {
   "cell_type": "markdown",
   "metadata": {},
   "source": [
    "### From the data we can clearly see that product of Monthly charges and Tenure yield the values in the Total Charges column"
   ]
  },
  {
   "cell_type": "code",
   "execution_count": 9,
   "metadata": {},
   "outputs": [],
   "source": [
    "### iterrows helps us to loop through the dataframe row by row\n",
    "### Replacing the nan with the product of Monthly charges and tenure to arrive at the Total charges\n",
    "for idx, row in telcom_df.iterrows():\n",
    "    if(pd.isna(row['TotalCharges'])):\n",
    "        telcom_df['TotalCharges'][idx]= row['MonthlyCharges'] * row ['tenure']"
   ]
  },
  {
   "cell_type": "markdown",
   "metadata": {},
   "source": [
    "### To derive the value for Tenure, divide the Total charges by Monthly Charges"
   ]
  },
  {
   "cell_type": "code",
   "execution_count": 10,
   "metadata": {},
   "outputs": [],
   "source": [
    "telcom_df['tenure'] = telcom_df[\"tenure\"].replace(\" \",np.nan)\n",
    "for idx, row in telcom_df.iterrows():\n",
    "    if(pd.isna(row['tenure'])):\n",
    "        telcom_df['tenure'][idx]= row['TotalCharges']/row['MonthlyCharges']"
   ]
  },
  {
   "cell_type": "code",
   "execution_count": 11,
   "metadata": {},
   "outputs": [
    {
     "data": {
      "text/plain": [
       "customerID          0.000000\n",
       "gender              0.000000\n",
       "SeniorCitizen       0.000000\n",
       "Partner             0.000000\n",
       "Dependents          0.000000\n",
       "tenure              0.000000\n",
       "PhoneService        0.000000\n",
       "MultipleLines       0.000000\n",
       "InternetService     0.000000\n",
       "OnlineSecurity      0.000000\n",
       "OnlineBackup        0.000000\n",
       "DeviceProtection    0.070992\n",
       "TechSupport         0.000000\n",
       "StreamingTV         0.000000\n",
       "StreamingMovies     0.000000\n",
       "Contract            0.000000\n",
       "PaperlessBilling    0.000000\n",
       "PaymentMethod       0.000000\n",
       "MonthlyCharges      0.000000\n",
       "TotalCharges        0.000000\n",
       "Churn               0.000000\n",
       "dtype: float64"
      ]
     },
     "execution_count": 11,
     "metadata": {},
     "output_type": "execute_result"
    }
   ],
   "source": [
    "(telcom_df.isna().sum(axis=0)/len(telcom_df))*100"
   ]
  },
  {
   "cell_type": "markdown",
   "metadata": {},
   "source": [
    "### Removing the nan from the Device protection column"
   ]
  },
  {
   "cell_type": "code",
   "execution_count": 12,
   "metadata": {},
   "outputs": [
    {
     "data": {
      "text/plain": [
       "7043"
      ]
     },
     "execution_count": 12,
     "metadata": {},
     "output_type": "execute_result"
    }
   ],
   "source": [
    "### No of rows before dropping the 5 nan rows from the device protection\n",
    "telcom_df.shape[0]"
   ]
  },
  {
   "cell_type": "code",
   "execution_count": 13,
   "metadata": {},
   "outputs": [],
   "source": [
    "telcom_df.dropna(inplace=True)"
   ]
  },
  {
   "cell_type": "code",
   "execution_count": 14,
   "metadata": {},
   "outputs": [
    {
     "data": {
      "text/plain": [
       "7038"
      ]
     },
     "execution_count": 14,
     "metadata": {},
     "output_type": "execute_result"
    }
   ],
   "source": [
    "### No of rows after dropping the 5 nan rows from the device protection\n",
    "telcom_df.shape[0]"
   ]
  },
  {
   "cell_type": "code",
   "execution_count": 15,
   "metadata": {},
   "outputs": [
    {
     "name": "stdout",
     "output_type": "stream",
     "text": [
      "<class 'pandas.core.frame.DataFrame'>\n",
      "Int64Index: 7038 entries, 0 to 7042\n",
      "Data columns (total 21 columns):\n",
      "customerID          7038 non-null object\n",
      "gender              7038 non-null object\n",
      "SeniorCitizen       7038 non-null int64\n",
      "Partner             7038 non-null object\n",
      "Dependents          7038 non-null object\n",
      "tenure              7038 non-null float64\n",
      "PhoneService        7038 non-null object\n",
      "MultipleLines       7038 non-null object\n",
      "InternetService     7038 non-null object\n",
      "OnlineSecurity      7038 non-null object\n",
      "OnlineBackup        7038 non-null object\n",
      "DeviceProtection    7038 non-null object\n",
      "TechSupport         7038 non-null object\n",
      "StreamingTV         7038 non-null object\n",
      "StreamingMovies     7038 non-null object\n",
      "Contract            7038 non-null object\n",
      "PaperlessBilling    7038 non-null object\n",
      "PaymentMethod       7038 non-null object\n",
      "MonthlyCharges      7038 non-null float64\n",
      "TotalCharges        7038 non-null float64\n",
      "Churn               7038 non-null object\n",
      "dtypes: float64(3), int64(1), object(17)\n",
      "memory usage: 1.2+ MB\n"
     ]
    }
   ],
   "source": [
    "telcom_df.info()"
   ]
  },
  {
   "cell_type": "code",
   "execution_count": 16,
   "metadata": {},
   "outputs": [
    {
     "name": "stdout",
     "output_type": "stream",
     "text": [
      "The no of unique values in gender is:['Female' 'Male']\n",
      "The no of unique values in SeniorCitizen is:[0 1]\n",
      "The no of unique values in Partner is:['Yes' 'No']\n",
      "The no of unique values in Dependents is:['No' 'Yes']\n",
      "The no of unique values in PhoneService is:['No' 'Yes']\n",
      "The no of unique values in MultipleLines is:['No phone service' 'No' 'Yes']\n",
      "The no of unique values in InternetService is:['DSL' 'Fiber optic' 'No']\n",
      "The no of unique values in OnlineSecurity is:['No' 'Yes' 'No internet service']\n",
      "The no of unique values in OnlineBackup is:['Yes' 'No' 'No internet service']\n",
      "The no of unique values in DeviceProtection is:['No' 'Yes' 'No internet service']\n",
      "The no of unique values in TechSupport is:['No' 'Yes' 'No internet service']\n",
      "The no of unique values in StreamingTV is:['No' 'Yes' 'No internet service']\n",
      "The no of unique values in StreamingMovies is:['No' 'Yes' 'No internet service']\n",
      "The no of unique values in Contract is:['Month-to-month' 'One year' 'Two year']\n",
      "The no of unique values in PaperlessBilling is:['Yes' 'No']\n",
      "The no of unique values in PaymentMethod is:['Electronic check' 'Mailed check' 'Bank transfer (automatic)'\n",
      " 'Credit card (automatic)']\n",
      "The no of unique values in Churn is:['No' 'Yes']\n"
     ]
    }
   ],
   "source": [
    "### It is observed from the dataset there are many columns having 'No' and 'No Internet service'. \n",
    "### Replacing 'No Internet service' with 'No'. Since it means the same\n",
    "for col in telcom_df.columns:\n",
    "    if col not in ['tenure','customerID','MonthlyCharges','TotalCharges']:\n",
    "        print('The no of unique values in {} is:{}'.format(col,telcom_df[col].unique()))"
   ]
  },
  {
   "cell_type": "code",
   "execution_count": 17,
   "metadata": {},
   "outputs": [],
   "source": [
    "#replace No Internet Services to No for the following columns\n",
    "rep_cols = ['MultipleLines','OnlineSecurity', 'OnlineBackup', 'DeviceProtection',\n",
    "                'TechSupport','StreamingTV', 'StreamingMovies']\n",
    "for i in rep_cols : \n",
    "    telcom_df[i]  = telcom_df[i].replace({'No internet service' : 'No'})\n",
    "    \n",
    "\n",
    "telcom_df['MultipleLines']  = telcom_df['MultipleLines'].replace({'No phone service' : 'No'})\n",
    "    \n",
    "# #replace values yes and no as 1 and 0 in the senior citizen column\n",
    "# telcom_df[\"SeniorCitizen\"] = telcom_df[\"SeniorCitizen\"].replace({1:\"Yes\",0:\"No\"})\n",
    "\n",
    "#Grouping the Tenure and create a seperate column to analyse the impact of tenure towards the  customer churn\n",
    "def tenure_grouping(telcom_df) :\n",
    "    \n",
    "    if telcom_df[\"tenure\"] <= 12 :\n",
    "        return \"Tenure_0-12\"\n",
    "    elif (telcom_df[\"tenure\"] > 12) & (telcom_df[\"tenure\"] <= 24 ):\n",
    "        return \"Tenure_12-24\"\n",
    "    elif (telcom_df[\"tenure\"] > 24) & (telcom_df[\"tenure\"] <= 48) :\n",
    "        return \"Tenure_24-48\"\n",
    "    elif (telcom_df[\"tenure\"] > 48) & (telcom_df[\"tenure\"] <= 60) :\n",
    "        return \"Tenure_48-60\"\n",
    "    elif telcom_df[\"tenure\"] > 60 :\n",
    "        return \"Tenure_gt_60\"\n",
    "telcom_df[\"tenure_group\"] = telcom_df.apply(lambda telcom_df:tenure_grouping(telcom_df),axis = 1)\n",
    "\n",
    "\n",
    "#Separating churn and non churn customers\n",
    "churn     = telcom_df[telcom_df[\"Churn\"] == \"Yes\"]\n",
    "not_churn = telcom_df[telcom_df[\"Churn\"] == \"No\"]\n",
    "\n",
    "#Separating catagorical and numerical columns\n",
    "Id_col     = ['customerID']\n",
    "target_col = [\"Churn\"]\n",
    "catagorical_cols   = telcom_df.nunique()[telcom_df.nunique() < 6].keys().tolist()\n",
    "catagorical_cols   = [x for x in catagorical_cols if x not in target_col]\n",
    "numeric_col   = [x for x in telcom_df.columns if x not in catagorical_cols + target_col + Id_col]"
   ]
  },
  {
   "cell_type": "code",
   "execution_count": 18,
   "metadata": {},
   "outputs": [
    {
     "name": "stdout",
     "output_type": "stream",
     "text": [
      "The no of unique values in gender is:['Female' 'Male']\n",
      "The no of unique values in SeniorCitizen is:[0 1]\n",
      "The no of unique values in Partner is:['Yes' 'No']\n",
      "The no of unique values in Dependents is:['No' 'Yes']\n",
      "The no of unique values in PhoneService is:['No' 'Yes']\n",
      "The no of unique values in MultipleLines is:['No' 'Yes']\n",
      "The no of unique values in InternetService is:['DSL' 'Fiber optic' 'No']\n",
      "The no of unique values in OnlineSecurity is:['No' 'Yes']\n",
      "The no of unique values in OnlineBackup is:['Yes' 'No']\n",
      "The no of unique values in DeviceProtection is:['No' 'Yes']\n",
      "The no of unique values in TechSupport is:['No' 'Yes']\n",
      "The no of unique values in StreamingTV is:['No' 'Yes']\n",
      "The no of unique values in StreamingMovies is:['No' 'Yes']\n",
      "The no of unique values in Contract is:['Month-to-month' 'One year' 'Two year']\n",
      "The no of unique values in PaperlessBilling is:['Yes' 'No']\n",
      "The no of unique values in PaymentMethod is:['Electronic check' 'Mailed check' 'Bank transfer (automatic)'\n",
      " 'Credit card (automatic)']\n",
      "The no of unique values in Churn is:['No' 'Yes']\n",
      "The no of unique values in tenure_group is:['Tenure_0-12' 'Tenure_24-48' 'Tenure_12-24' 'Tenure_gt_60' 'Tenure_48-60']\n"
     ]
    }
   ],
   "source": [
    "### Coluumn values after replacement\n",
    "for col in telcom_df.columns:\n",
    "    if col not in ['tenure','customerID','MonthlyCharges','TotalCharges']:\n",
    "        print('The no of unique values in {} is:{}'.format(col,telcom_df[col].unique()))"
   ]
  },
  {
   "cell_type": "code",
   "execution_count": 19,
   "metadata": {},
   "outputs": [
    {
     "data": {
      "text/plain": [
       "['gender',\n",
       " 'SeniorCitizen',\n",
       " 'Partner',\n",
       " 'Dependents',\n",
       " 'PhoneService',\n",
       " 'MultipleLines',\n",
       " 'InternetService',\n",
       " 'OnlineSecurity',\n",
       " 'OnlineBackup',\n",
       " 'DeviceProtection',\n",
       " 'TechSupport',\n",
       " 'StreamingTV',\n",
       " 'StreamingMovies',\n",
       " 'Contract',\n",
       " 'PaperlessBilling',\n",
       " 'PaymentMethod',\n",
       " 'tenure_group']"
      ]
     },
     "execution_count": 19,
     "metadata": {},
     "output_type": "execute_result"
    }
   ],
   "source": [
    "### The Categorical columns present in the dataset\n",
    "catagorical_cols"
   ]
  },
  {
   "cell_type": "code",
   "execution_count": 20,
   "metadata": {},
   "outputs": [
    {
     "data": {
      "text/plain": [
       "['tenure', 'MonthlyCharges', 'TotalCharges']"
      ]
     },
     "execution_count": 20,
     "metadata": {},
     "output_type": "execute_result"
    }
   ],
   "source": [
    "### Numeric columns present in the dataset\n",
    "numeric_col"
   ]
  },
  {
   "cell_type": "code",
   "execution_count": 21,
   "metadata": {},
   "outputs": [
    {
     "name": "stdout",
     "output_type": "stream",
     "text": [
      "The No of unique values in the CustomerID columns is:7038\n"
     ]
    },
    {
     "data": {
      "text/html": [
       "<div>\n",
       "<style scoped>\n",
       "    .dataframe tbody tr th:only-of-type {\n",
       "        vertical-align: middle;\n",
       "    }\n",
       "\n",
       "    .dataframe tbody tr th {\n",
       "        vertical-align: top;\n",
       "    }\n",
       "\n",
       "    .dataframe thead th {\n",
       "        text-align: right;\n",
       "    }\n",
       "</style>\n",
       "<table border=\"1\" class=\"dataframe\">\n",
       "  <thead>\n",
       "    <tr style=\"text-align: right;\">\n",
       "      <th></th>\n",
       "      <th>gender</th>\n",
       "      <th>SeniorCitizen</th>\n",
       "      <th>Partner</th>\n",
       "      <th>Dependents</th>\n",
       "      <th>tenure</th>\n",
       "      <th>PhoneService</th>\n",
       "      <th>MultipleLines</th>\n",
       "      <th>InternetService</th>\n",
       "      <th>OnlineSecurity</th>\n",
       "      <th>OnlineBackup</th>\n",
       "      <th>DeviceProtection</th>\n",
       "      <th>TechSupport</th>\n",
       "      <th>StreamingTV</th>\n",
       "      <th>StreamingMovies</th>\n",
       "      <th>Contract</th>\n",
       "      <th>PaperlessBilling</th>\n",
       "      <th>PaymentMethod</th>\n",
       "      <th>MonthlyCharges</th>\n",
       "      <th>TotalCharges</th>\n",
       "      <th>Churn</th>\n",
       "      <th>tenure_group</th>\n",
       "    </tr>\n",
       "    <tr>\n",
       "      <th>customerID</th>\n",
       "      <th></th>\n",
       "      <th></th>\n",
       "      <th></th>\n",
       "      <th></th>\n",
       "      <th></th>\n",
       "      <th></th>\n",
       "      <th></th>\n",
       "      <th></th>\n",
       "      <th></th>\n",
       "      <th></th>\n",
       "      <th></th>\n",
       "      <th></th>\n",
       "      <th></th>\n",
       "      <th></th>\n",
       "      <th></th>\n",
       "      <th></th>\n",
       "      <th></th>\n",
       "      <th></th>\n",
       "      <th></th>\n",
       "      <th></th>\n",
       "      <th></th>\n",
       "    </tr>\n",
       "  </thead>\n",
       "  <tbody>\n",
       "    <tr>\n",
       "      <th>7590-VHVEG</th>\n",
       "      <td>Female</td>\n",
       "      <td>0</td>\n",
       "      <td>Yes</td>\n",
       "      <td>No</td>\n",
       "      <td>1.0</td>\n",
       "      <td>No</td>\n",
       "      <td>No</td>\n",
       "      <td>DSL</td>\n",
       "      <td>No</td>\n",
       "      <td>Yes</td>\n",
       "      <td>No</td>\n",
       "      <td>No</td>\n",
       "      <td>No</td>\n",
       "      <td>No</td>\n",
       "      <td>Month-to-month</td>\n",
       "      <td>Yes</td>\n",
       "      <td>Electronic check</td>\n",
       "      <td>29.85</td>\n",
       "      <td>29.85</td>\n",
       "      <td>No</td>\n",
       "      <td>Tenure_0-12</td>\n",
       "    </tr>\n",
       "    <tr>\n",
       "      <th>5575-GNVDE</th>\n",
       "      <td>Male</td>\n",
       "      <td>0</td>\n",
       "      <td>No</td>\n",
       "      <td>No</td>\n",
       "      <td>34.0</td>\n",
       "      <td>Yes</td>\n",
       "      <td>No</td>\n",
       "      <td>DSL</td>\n",
       "      <td>Yes</td>\n",
       "      <td>No</td>\n",
       "      <td>Yes</td>\n",
       "      <td>No</td>\n",
       "      <td>No</td>\n",
       "      <td>No</td>\n",
       "      <td>One year</td>\n",
       "      <td>No</td>\n",
       "      <td>Mailed check</td>\n",
       "      <td>56.95</td>\n",
       "      <td>1889.50</td>\n",
       "      <td>No</td>\n",
       "      <td>Tenure_24-48</td>\n",
       "    </tr>\n",
       "  </tbody>\n",
       "</table>\n",
       "</div>"
      ],
      "text/plain": [
       "            gender  SeniorCitizen Partner Dependents  tenure PhoneService  \\\n",
       "customerID                                                                  \n",
       "7590-VHVEG  Female              0     Yes         No     1.0           No   \n",
       "5575-GNVDE    Male              0      No         No    34.0          Yes   \n",
       "\n",
       "           MultipleLines InternetService OnlineSecurity OnlineBackup  \\\n",
       "customerID                                                             \n",
       "7590-VHVEG            No             DSL             No          Yes   \n",
       "5575-GNVDE            No             DSL            Yes           No   \n",
       "\n",
       "           DeviceProtection TechSupport StreamingTV StreamingMovies  \\\n",
       "customerID                                                            \n",
       "7590-VHVEG               No          No          No              No   \n",
       "5575-GNVDE              Yes          No          No              No   \n",
       "\n",
       "                  Contract PaperlessBilling     PaymentMethod  MonthlyCharges  \\\n",
       "customerID                                                                      \n",
       "7590-VHVEG  Month-to-month              Yes  Electronic check           29.85   \n",
       "5575-GNVDE        One year               No      Mailed check           56.95   \n",
       "\n",
       "            TotalCharges Churn  tenure_group  \n",
       "customerID                                    \n",
       "7590-VHVEG         29.85    No   Tenure_0-12  \n",
       "5575-GNVDE       1889.50    No  Tenure_24-48  "
      ]
     },
     "execution_count": 21,
     "metadata": {},
     "output_type": "execute_result"
    }
   ],
   "source": [
    "### All the values in the CustomerID column is unique so this columns can be set as an index for the dataframe\n",
    "print(f'The No of unique values in the CustomerID columns is:{len(telcom_df.customerID.unique())}')\n",
    "telcom_df=telcom_df.set_index('customerID')\n",
    "telcom_df.head(2)"
   ]
  },
  {
   "cell_type": "markdown",
   "metadata": {},
   "source": [
    "# Exploratory Data Analysis"
   ]
  },
  {
   "cell_type": "markdown",
   "metadata": {},
   "source": [
    "## Churn Distribution in Data"
   ]
  },
  {
   "cell_type": "code",
   "execution_count": 54,
   "metadata": {},
   "outputs": [
    {
     "data": {
      "image/png": "[encoded data removed]",
      "text/plain": [
       "<Figure size 720x576 with 1 Axes>"
      ]
     },
     "metadata": {},
     "output_type": "display_data"
    }
   ],
   "source": [
    "#labels\n",
    "labels = telcom_df[\"Churn\"].value_counts().keys().tolist()\n",
    "#values\n",
    "values = telcom_df[\"Churn\"].value_counts().values.tolist()\n",
    "\n",
    "plt.bar(labels,values)\n",
    "plt.title('Chrun vs Non Chrun Customers')\n",
    "plt.xticks([1,0],labels=['Chrun','No churn'])\n",
    "plt.xlabel('Chrun / No chrun')\n",
    "plt.ylabel('No of Customers')\n",
    "plt.tight_layout()\n",
    "plt.show()"
   ]
  },
  {
   "cell_type": "markdown",
   "metadata": {},
   "source": [
    "### The No of Non chrun customers is more than the chrun customers. This clearly indicates that there is a class imbalance in this dataset. Will handle class imbalance later in this notebook using SMOTE"
   ]
  },
  {
   "cell_type": "code",
   "execution_count": 55,
   "metadata": {},
   "outputs": [
    {
     "data": {
      "image/png": "[encoded data removed]",
      "text/plain": [
       "<Figure size 720x576 with 1 Axes>"
      ]
     },
     "metadata": {},
     "output_type": "display_data"
    }
   ],
   "source": [
    "# Customer Chrun by Tenure Groups\n",
    "\n",
    "tg_ch  =  churn[\"tenure_group\"].value_counts().reset_index()\n",
    "tg_ch.columns  = [\"tenure_group\",\"count\"]\n",
    "#tg_ch=tg_ch.sort_values(by='count')\n",
    "tg_nch =  not_churn[\"tenure_group\"].value_counts().reset_index()\n",
    "tg_nch.columns = [\"tenure_group\",\"count\"]\n",
    "\n",
    "###Re-ordering the non-Chrun dataframe\n",
    "tg_nch1=pd.DataFrame(columns=['tenure_group','count'],index=[0,1,2,3,4])\n",
    "tg_nch1.loc[0]=tg_nch.loc[2]\n",
    "tg_nch1.loc[1]=tg_nch.loc[1]\n",
    "tg_nch1.loc[2]=tg_nch.loc[3]\n",
    "tg_nch1.loc[3]=tg_nch.loc[4]\n",
    "tg_nch1.loc[4]=tg_nch.loc[0]\n",
    "tg_nch1\n",
    "\n",
    "# create plot\n",
    "n_groups=5\n",
    "fig, ax = plt.subplots()\n",
    "index = np.arange(n_groups)\n",
    "bar_width = 0.35\n",
    "opacity = 0.8\n",
    "\n",
    "rects1 = plt.bar(index, tg_ch['count'], bar_width,\n",
    "alpha=opacity,\n",
    "color='b',\n",
    "label='Chrun')\n",
    "\n",
    "rects2 = plt.bar(index + bar_width, tg_nch1['count'], bar_width,\n",
    "alpha=opacity,\n",
    "color='g',\n",
    "label='No Chrun')\n",
    "\n",
    "plt.xlabel('Tenure Groups')\n",
    "plt.ylabel('count')\n",
    "plt.title('Customer Chrun by Tenure Groups')\n",
    "plt.xticks(index + bar_width, ('Tenure_0-12', 'Tenure_24-48', 'Tenure_12-24', 'Tenure_48-60' , 'Tenure_gt_60'))\n",
    "plt.legend()\n",
    "plt.tight_layout()\n",
    "plt.show()"
   ]
  },
  {
   "cell_type": "markdown",
   "metadata": {},
   "source": [
    "### From the above graph it can be seen clearly that customers don't chrun if they are staying with the same vendor for a long time i.e. Tenure > 60 group has significantly less no of customer chrun than Tenure group 0-12"
   ]
  },
  {
   "cell_type": "code",
   "execution_count": 24,
   "metadata": {},
   "outputs": [
    {
     "data": {
      "text/plain": [
       "gender                 2\n",
       "SeniorCitizen          2\n",
       "Partner                2\n",
       "Dependents             2\n",
       "tenure                94\n",
       "PhoneService           2\n",
       "MultipleLines          2\n",
       "InternetService        3\n",
       "OnlineSecurity         2\n",
       "OnlineBackup           2\n",
       "DeviceProtection       2\n",
       "TechSupport            2\n",
       "StreamingTV            2\n",
       "StreamingMovies        2\n",
       "Contract               3\n",
       "PaperlessBilling       2\n",
       "PaymentMethod          4\n",
       "MonthlyCharges      1585\n",
       "TotalCharges        6524\n",
       "Churn                  2\n",
       "tenure_group           5\n",
       "dtype: int64"
      ]
     },
     "execution_count": 24,
     "metadata": {},
     "output_type": "execute_result"
    }
   ],
   "source": [
    "telcom_df.nunique()"
   ]
  },
  {
   "cell_type": "markdown",
   "metadata": {},
   "source": [
    "### MinMax Scaler: MinMax scaling is used to avoid any feature to dominate the model. MinMax scaling scales all the data in the columns between 0 to 1."
   ]
  },
  {
   "cell_type": "code",
   "execution_count": 25,
   "metadata": {},
   "outputs": [],
   "source": [
    "from sklearn.preprocessing import LabelEncoder\n",
    "from sklearn.preprocessing import MinMaxScaler\n",
    "\n",
    "#customer id col\n",
    "Id_col  = ['customerID']\n",
    "#Target columns\n",
    "target_col = [\"Churn\"]\n",
    "\n",
    "#categorical columns\n",
    "catagorical_cols   = telcom_df.nunique()[telcom_df.nunique() < 6].keys().tolist()\n",
    "catagorical_cols   = [x for x in catagorical_cols if x not in target_col]\n",
    "#numerical columns\n",
    "numeric_col   = [x for x in telcom_df.columns if x not in catagorical_cols + target_col + Id_col]\n",
    "#Binary columns with 2 values\n",
    "bin_cols   = telcom_df.nunique()[telcom_df.nunique() == 2].keys().tolist()\n",
    "#Columns more than 2 values\n",
    "multi_cols = [i for i in catagorical_cols if i not in bin_cols]\n",
    "\n",
    "\n",
    "#Label encoding Binary columns\n",
    "le = LabelEncoder()\n",
    "for i in bin_cols :\n",
    "    telcom_df[i] = le.fit_transform(telcom_df[i])\n",
    "\n",
    "#Duplicating columns for multi value columns\n",
    "telcom_df = pd.get_dummies(data = telcom_df,columns = multi_cols )\n",
    "\n",
    "\n",
    "#Scaling Numerical columns\n",
    "scaler = MinMaxScaler()\n",
    "scaled = scaler.fit_transform(telcom_df[numeric_col])\n",
    "scaled = pd.DataFrame(scaled,columns=numeric_col,index=telcom_df.index)\n",
    "\n",
    "#dropping original values merging scaled values for numerical columns\n",
    "df_telcom_og = telcom_df.copy()\n",
    "telcom_df = telcom_df.drop(columns = numeric_col,axis = 1)\n",
    "telcom_df = telcom_df.merge(scaled,left_index=True,right_index=True,how = \"left\")"
   ]
  },
  {
   "cell_type": "code",
   "execution_count": 26,
   "metadata": {},
   "outputs": [
    {
     "name": "stdout",
     "output_type": "stream",
     "text": [
      "The no of unique values in gender is:[0 1]\n",
      "The no of unique values in SeniorCitizen is:[0 1]\n",
      "The no of unique values in Partner is:[1 0]\n",
      "The no of unique values in Dependents is:[0 1]\n",
      "The no of unique values in PhoneService is:[0 1]\n",
      "The no of unique values in MultipleLines is:[0 1]\n",
      "The no of unique values in OnlineSecurity is:[0 1]\n",
      "The no of unique values in OnlineBackup is:[1 0]\n",
      "The no of unique values in DeviceProtection is:[0 1]\n",
      "The no of unique values in TechSupport is:[0 1]\n",
      "The no of unique values in StreamingTV is:[0 1]\n",
      "The no of unique values in StreamingMovies is:[0 1]\n",
      "The no of unique values in PaperlessBilling is:[1 0]\n",
      "The no of unique values in Churn is:[0 1]\n",
      "The no of unique values in InternetService_DSL is:[1 0]\n",
      "The no of unique values in InternetService_Fiber optic is:[0 1]\n",
      "The no of unique values in InternetService_No is:[0 1]\n",
      "The no of unique values in Contract_Month-to-month is:[1 0]\n",
      "The no of unique values in Contract_One year is:[0 1]\n",
      "The no of unique values in Contract_Two year is:[0 1]\n",
      "The no of unique values in PaymentMethod_Bank transfer (automatic) is:[0 1]\n",
      "The no of unique values in PaymentMethod_Credit card (automatic) is:[0 1]\n",
      "The no of unique values in PaymentMethod_Electronic check is:[1 0]\n",
      "The no of unique values in PaymentMethod_Mailed check is:[0 1]\n",
      "The no of unique values in tenure_group_Tenure_0-12 is:[1 0]\n",
      "The no of unique values in tenure_group_Tenure_12-24 is:[0 1]\n",
      "The no of unique values in tenure_group_Tenure_24-48 is:[0 1]\n",
      "The no of unique values in tenure_group_Tenure_48-60 is:[0 1]\n",
      "The no of unique values in tenure_group_Tenure_gt_60 is:[0 1]\n"
     ]
    }
   ],
   "source": [
    "for col in telcom_df.columns:\n",
    "    if col not in ['tenure','customerID','MonthlyCharges','TotalCharges']:\n",
    "        print('The no of unique values in {} is:{}'.format(col,telcom_df[col].unique()))"
   ]
  },
  {
   "cell_type": "markdown",
   "metadata": {},
   "source": [
    "### Heatmap"
   ]
  },
  {
   "cell_type": "code",
   "execution_count": 56,
   "metadata": {},
   "outputs": [
    {
     "data": {
      "text/plain": [
       "<matplotlib.axes._subplots.AxesSubplot at 0x22f9f4f8d68>"
      ]
     },
     "execution_count": 56,
     "metadata": {},
     "output_type": "execute_result"
    },
    {
     "data": {
      "image/png": "[encoded data removed]",
      "text/plain": [
       "<Figure size 720x576 with 2 Axes>"
      ]
     },
     "metadata": {},
     "output_type": "display_data"
    }
   ],
   "source": [
    "correlation = telcom_df.corr()\n",
    "sns.heatmap(correlation, cmap=\"YlGnBu\",annot=False)"
   ]
  },
  {
   "cell_type": "markdown",
   "metadata": {},
   "source": [
    "### Monthly charges,Tenure Group 0-12,Contract Month to month have a good correlation with the target variable"
   ]
  },
  {
   "cell_type": "code",
   "execution_count": 28,
   "metadata": {},
   "outputs": [
    {
     "data": {
      "text/html": [
       "<div>\n",
       "<style scoped>\n",
       "    .dataframe tbody tr th:only-of-type {\n",
       "        vertical-align: middle;\n",
       "    }\n",
       "\n",
       "    .dataframe tbody tr th {\n",
       "        vertical-align: top;\n",
       "    }\n",
       "\n",
       "    .dataframe thead th {\n",
       "        text-align: right;\n",
       "    }\n",
       "</style>\n",
       "<table border=\"1\" class=\"dataframe\">\n",
       "  <thead>\n",
       "    <tr style=\"text-align: right;\">\n",
       "      <th></th>\n",
       "      <th>gender</th>\n",
       "      <th>SeniorCitizen</th>\n",
       "      <th>Partner</th>\n",
       "      <th>Dependents</th>\n",
       "      <th>PhoneService</th>\n",
       "      <th>MultipleLines</th>\n",
       "      <th>OnlineSecurity</th>\n",
       "      <th>OnlineBackup</th>\n",
       "      <th>DeviceProtection</th>\n",
       "      <th>TechSupport</th>\n",
       "      <th>StreamingTV</th>\n",
       "      <th>StreamingMovies</th>\n",
       "      <th>PaperlessBilling</th>\n",
       "      <th>Churn</th>\n",
       "      <th>InternetService_DSL</th>\n",
       "      <th>InternetService_Fiber optic</th>\n",
       "      <th>InternetService_No</th>\n",
       "      <th>Contract_Month-to-month</th>\n",
       "      <th>Contract_One year</th>\n",
       "      <th>Contract_Two year</th>\n",
       "      <th>PaymentMethod_Bank transfer (automatic)</th>\n",
       "      <th>PaymentMethod_Credit card (automatic)</th>\n",
       "      <th>PaymentMethod_Electronic check</th>\n",
       "      <th>PaymentMethod_Mailed check</th>\n",
       "      <th>tenure_group_Tenure_0-12</th>\n",
       "      <th>tenure_group_Tenure_12-24</th>\n",
       "      <th>tenure_group_Tenure_24-48</th>\n",
       "      <th>tenure_group_Tenure_48-60</th>\n",
       "      <th>tenure_group_Tenure_gt_60</th>\n",
       "      <th>tenure</th>\n",
       "      <th>MonthlyCharges</th>\n",
       "      <th>TotalCharges</th>\n",
       "    </tr>\n",
       "    <tr>\n",
       "      <th>customerID</th>\n",
       "      <th></th>\n",
       "      <th></th>\n",
       "      <th></th>\n",
       "      <th></th>\n",
       "      <th></th>\n",
       "      <th></th>\n",
       "      <th></th>\n",
       "      <th></th>\n",
       "      <th></th>\n",
       "      <th></th>\n",
       "      <th></th>\n",
       "      <th></th>\n",
       "      <th></th>\n",
       "      <th></th>\n",
       "      <th></th>\n",
       "      <th></th>\n",
       "      <th></th>\n",
       "      <th></th>\n",
       "      <th></th>\n",
       "      <th></th>\n",
       "      <th></th>\n",
       "      <th></th>\n",
       "      <th></th>\n",
       "      <th></th>\n",
       "      <th></th>\n",
       "      <th></th>\n",
       "      <th></th>\n",
       "      <th></th>\n",
       "      <th></th>\n",
       "      <th></th>\n",
       "      <th></th>\n",
       "      <th></th>\n",
       "    </tr>\n",
       "  </thead>\n",
       "  <tbody>\n",
       "    <tr>\n",
       "      <th>7590-VHVEG</th>\n",
       "      <td>0</td>\n",
       "      <td>0</td>\n",
       "      <td>1</td>\n",
       "      <td>0</td>\n",
       "      <td>0</td>\n",
       "      <td>0</td>\n",
       "      <td>0</td>\n",
       "      <td>1</td>\n",
       "      <td>0</td>\n",
       "      <td>0</td>\n",
       "      <td>0</td>\n",
       "      <td>0</td>\n",
       "      <td>1</td>\n",
       "      <td>0</td>\n",
       "      <td>1</td>\n",
       "      <td>0</td>\n",
       "      <td>0</td>\n",
       "      <td>1</td>\n",
       "      <td>0</td>\n",
       "      <td>0</td>\n",
       "      <td>0</td>\n",
       "      <td>0</td>\n",
       "      <td>1</td>\n",
       "      <td>0</td>\n",
       "      <td>1</td>\n",
       "      <td>0</td>\n",
       "      <td>0</td>\n",
       "      <td>0</td>\n",
       "      <td>0</td>\n",
       "      <td>0.013889</td>\n",
       "      <td>0.115423</td>\n",
       "      <td>0.003437</td>\n",
       "    </tr>\n",
       "    <tr>\n",
       "      <th>5575-GNVDE</th>\n",
       "      <td>1</td>\n",
       "      <td>0</td>\n",
       "      <td>0</td>\n",
       "      <td>0</td>\n",
       "      <td>1</td>\n",
       "      <td>0</td>\n",
       "      <td>1</td>\n",
       "      <td>0</td>\n",
       "      <td>1</td>\n",
       "      <td>0</td>\n",
       "      <td>0</td>\n",
       "      <td>0</td>\n",
       "      <td>0</td>\n",
       "      <td>0</td>\n",
       "      <td>1</td>\n",
       "      <td>0</td>\n",
       "      <td>0</td>\n",
       "      <td>0</td>\n",
       "      <td>1</td>\n",
       "      <td>0</td>\n",
       "      <td>0</td>\n",
       "      <td>0</td>\n",
       "      <td>0</td>\n",
       "      <td>1</td>\n",
       "      <td>0</td>\n",
       "      <td>0</td>\n",
       "      <td>1</td>\n",
       "      <td>0</td>\n",
       "      <td>0</td>\n",
       "      <td>0.472222</td>\n",
       "      <td>0.385075</td>\n",
       "      <td>0.217564</td>\n",
       "    </tr>\n",
       "  </tbody>\n",
       "</table>\n",
       "</div>"
      ],
      "text/plain": [
       "            gender  SeniorCitizen  Partner  Dependents  PhoneService  \\\n",
       "customerID                                                             \n",
       "7590-VHVEG       0              0        1           0             0   \n",
       "5575-GNVDE       1              0        0           0             1   \n",
       "\n",
       "            MultipleLines  OnlineSecurity  OnlineBackup  DeviceProtection  \\\n",
       "customerID                                                                  \n",
       "7590-VHVEG              0               0             1                 0   \n",
       "5575-GNVDE              0               1             0                 1   \n",
       "\n",
       "            TechSupport  StreamingTV  StreamingMovies  PaperlessBilling  \\\n",
       "customerID                                                                \n",
       "7590-VHVEG            0            0                0                 1   \n",
       "5575-GNVDE            0            0                0                 0   \n",
       "\n",
       "            Churn  InternetService_DSL  InternetService_Fiber optic  \\\n",
       "customerID                                                            \n",
       "7590-VHVEG      0                    1                            0   \n",
       "5575-GNVDE      0                    1                            0   \n",
       "\n",
       "            InternetService_No  Contract_Month-to-month  Contract_One year  \\\n",
       "customerID                                                                   \n",
       "7590-VHVEG                   0                        1                  0   \n",
       "5575-GNVDE                   0                        0                  1   \n",
       "\n",
       "            Contract_Two year  PaymentMethod_Bank transfer (automatic)  \\\n",
       "customerID                                                               \n",
       "7590-VHVEG                  0                                        0   \n",
       "5575-GNVDE                  0                                        0   \n",
       "\n",
       "            PaymentMethod_Credit card (automatic)  \\\n",
       "customerID                                          \n",
       "7590-VHVEG                                      0   \n",
       "5575-GNVDE                                      0   \n",
       "\n",
       "            PaymentMethod_Electronic check  PaymentMethod_Mailed check  \\\n",
       "customerID                                                               \n",
       "7590-VHVEG                               1                           0   \n",
       "5575-GNVDE                               0                           1   \n",
       "\n",
       "            tenure_group_Tenure_0-12  tenure_group_Tenure_12-24  \\\n",
       "customerID                                                        \n",
       "7590-VHVEG                         1                          0   \n",
       "5575-GNVDE                         0                          0   \n",
       "\n",
       "            tenure_group_Tenure_24-48  tenure_group_Tenure_48-60  \\\n",
       "customerID                                                         \n",
       "7590-VHVEG                          0                          0   \n",
       "5575-GNVDE                          1                          0   \n",
       "\n",
       "            tenure_group_Tenure_gt_60    tenure  MonthlyCharges  TotalCharges  \n",
       "customerID                                                                     \n",
       "7590-VHVEG                          0  0.013889        0.115423      0.003437  \n",
       "5575-GNVDE                          0  0.472222        0.385075      0.217564  "
      ]
     },
     "execution_count": 28,
     "metadata": {},
     "output_type": "execute_result"
    }
   ],
   "source": [
    "telcom_df.head(2)"
   ]
  },
  {
   "cell_type": "markdown",
   "metadata": {},
   "source": [
    "### Train Test split"
   ]
  },
  {
   "cell_type": "code",
   "execution_count": 29,
   "metadata": {},
   "outputs": [],
   "source": [
    "from sklearn.model_selection import train_test_split\n",
    "\n",
    "X = telcom_df.drop('Churn',axis=1)\n",
    "Y = telcom_df['Churn']\n",
    "X_train,X_test,y_train,y_test = train_test_split(X,Y,test_size = .25,random_state = 0)"
   ]
  },
  {
   "cell_type": "markdown",
   "metadata": {},
   "source": [
    "### Balancing the Training data"
   ]
  },
  {
   "cell_type": "markdown",
   "metadata": {},
   "source": [
    "### Since there is a class imbalance issue in this dataset as identified early during the EDA phase. We have used SMOTE to the Training data to balance the no of churn and non churn customers by synthesing more minority samples from the existing training data."
   ]
  },
  {
   "cell_type": "code",
   "execution_count": 30,
   "metadata": {},
   "outputs": [
    {
     "data": {
      "text/plain": [
       "0    3876\n",
       "1    1402\n",
       "Name: Churn, dtype: int64"
      ]
     },
     "execution_count": 30,
     "metadata": {},
     "output_type": "execute_result"
    }
   ],
   "source": [
    "## No of chrun and non chrun customres before applying smote\n",
    "y_train.value_counts()"
   ]
  },
  {
   "cell_type": "code",
   "execution_count": 31,
   "metadata": {},
   "outputs": [
    {
     "name": "stderr",
     "output_type": "stream",
     "text": [
      "Using TensorFlow backend.\n"
     ]
    }
   ],
   "source": [
    "from imblearn.over_sampling import SMOTE\n",
    "\n",
    "#oversampling minority class using smote\n",
    "os = SMOTE(random_state = 0)\n",
    "X_train_smote,y_train_smote = os.fit_sample(X_train,y_train)\n",
    "X_train_smote = pd.DataFrame(data = X_train_smote,columns=X_train.columns)\n",
    "y_train_smote = pd.DataFrame(data = y_train_smote,columns=['Chrun'])\n",
    "###"
   ]
  },
  {
   "cell_type": "code",
   "execution_count": 32,
   "metadata": {},
   "outputs": [
    {
     "data": {
      "text/plain": [
       "1    3876\n",
       "0    3876\n",
       "Name: Chrun, dtype: int64"
      ]
     },
     "execution_count": 32,
     "metadata": {},
     "output_type": "execute_result"
    }
   ],
   "source": [
    "### No of chrun and non chrun customers after applying SMOTE\n",
    "y_train_smote['Chrun'].value_counts()"
   ]
  },
  {
   "cell_type": "markdown",
   "metadata": {},
   "source": [
    "### Now we have have equal no of churn and non churn customers in the training data. With this training data we can train on various models and arrive at the best model based on the evaluation metric chosen and performance of the models on the unseen data(test set)"
   ]
  },
  {
   "cell_type": "markdown",
   "metadata": {},
   "source": [
    "## Classification Models"
   ]
  },
  {
   "cell_type": "markdown",
   "metadata": {},
   "source": [
    "## Voting Classifiers"
   ]
  },
  {
   "cell_type": "markdown",
   "metadata": {},
   "source": [
    "## Hard Voting Classifier:"
   ]
  },
  {
   "cell_type": "code",
   "execution_count": 64,
   "metadata": {},
   "outputs": [
    {
     "data": {
      "text/plain": [
       "VotingClassifier(estimators=[('lr',\n",
       "                              LogisticRegression(C=1.0, class_weight=None,\n",
       "                                                 dual=False, fit_intercept=True,\n",
       "                                                 intercept_scaling=1,\n",
       "                                                 l1_ratio=None, max_iter=100,\n",
       "                                                 multi_class='warn',\n",
       "                                                 n_jobs=None, penalty='l2',\n",
       "                                                 random_state=None,\n",
       "                                                 solver='warn', tol=0.0001,\n",
       "                                                 verbose=0, warm_start=False)),\n",
       "                             ('knn',\n",
       "                              KNeighborsClassifier(algorithm='auto',\n",
       "                                                   leaf_size=30,\n",
       "                                                   metric='minkowski',\n",
       "                                                   metric_params=None,\n",
       "                                                   n_jobs=None, n_neighbors=7,\n",
       "                                                   p=2, weights='uniform')),\n",
       "                             ('svc',\n",
       "                              SVC(C=10, cache_size=200, class_weight=None,\n",
       "                                  coef0=0.0, decision_function_shape='ovr',\n",
       "                                  degree=3, gamma='auto_deprecated',\n",
       "                                  kernel='rbf', max_iter=-1, probability=True,\n",
       "                                  random_state=None, shrinking=True, tol=0.001,\n",
       "                                  verbose=False))],\n",
       "                 flatten_transform=True, n_jobs=None, voting='hard',\n",
       "                 weights=None)"
      ]
     },
     "execution_count": 64,
     "metadata": {},
     "output_type": "execute_result"
    }
   ],
   "source": [
    "from sklearn.neighbors import KNeighborsClassifier\n",
    "from sklearn.ensemble import VotingClassifier\n",
    "from sklearn.linear_model import LogisticRegression\n",
    "from sklearn.svm import SVC\n",
    "from sklearn.tree import DecisionTreeClassifier\n",
    "\n",
    "lr_hard = LogisticRegression()\n",
    "lr_hard.fit(X_train_smote, y_train_smote)\n",
    "knn_hard = KNeighborsClassifier(7)\n",
    "knn_hard.fit(X_train_smote, y_train_smote)\n",
    "svc_hard = SVC(C = 10, probability = True)\n",
    "svc_hard.fit(X_train_smote, y_train_smote)\n",
    "\n",
    "voting_clf_hard = VotingClassifier(estimators=[('lr', lr_hard), ('knn', knn_hard), ('svc', svc_hard)], voting='hard')\n",
    "voting_clf_hard.fit(X_train_smote, y_train_smote)"
   ]
  },
  {
   "cell_type": "code",
   "execution_count": 108,
   "metadata": {},
   "outputs": [
    {
     "name": "stdout",
     "output_type": "stream",
     "text": [
      "LogisticRegression 0.7704545454545455\n",
      "KNeighborsClassifier 0.7147727272727272\n",
      "SVC 0.78125\n",
      "VotingClassifier 0.7681818181818182\n"
     ]
    }
   ],
   "source": [
    "from sklearn.metrics import accuracy_score\n",
    "for clf in (lr_hard, knn_hard, svc_hard, voting_clf_hard):\n",
    "    clf.fit(X_train_smote, y_train_smote)\n",
    "    y_test_pred = clf.predict(X_test)\n",
    "    y_train_pred = clf.predict(X_train_smote)\n",
    "    print(clf.__class__.__name__, accuracy_score(y_test, y_test_pred))"
   ]
  },
  {
   "cell_type": "code",
   "execution_count": 109,
   "metadata": {},
   "outputs": [],
   "source": [
    "report_table_1 = ['Hard Voting Classifier 1', '',accuracy_score(y_train_smote, y_train_pred), accuracy_score(y_test, y_test_pred)]"
   ]
  },
  {
   "cell_type": "markdown",
   "metadata": {},
   "source": [
    "## Soft Voting Classifier:"
   ]
  },
  {
   "cell_type": "code",
   "execution_count": 67,
   "metadata": {},
   "outputs": [
    {
     "data": {
      "text/plain": [
       "VotingClassifier(estimators=[('knn',\n",
       "                              KNeighborsClassifier(algorithm='auto',\n",
       "                                                   leaf_size=30,\n",
       "                                                   metric='minkowski',\n",
       "                                                   metric_params=None,\n",
       "                                                   n_jobs=None, n_neighbors=5,\n",
       "                                                   p=2, weights='uniform')),\n",
       "                             ('svc',\n",
       "                              SVC(C=1.0, cache_size=200, class_weight=None,\n",
       "                                  coef0=0.0, decision_function_shape='ovr',\n",
       "                                  degree=3, gamma='auto_deprecated',\n",
       "                                  kernel='rbf', max_iter=-1, probability=True,\n",
       "                                  random_sta...\n",
       "                                  verbose=False)),\n",
       "                             ('dt',\n",
       "                              DecisionTreeClassifier(class_weight=None,\n",
       "                                                     criterion='gini',\n",
       "                                                     max_depth=7,\n",
       "                                                     max_features=None,\n",
       "                                                     max_leaf_nodes=None,\n",
       "                                                     min_impurity_decrease=0.0,\n",
       "                                                     min_impurity_split=None,\n",
       "                                                     min_samples_leaf=1,\n",
       "                                                     min_samples_split=2,\n",
       "                                                     min_weight_fraction_leaf=0.0,\n",
       "                                                     presort=False,\n",
       "                                                     random_state=0,\n",
       "                                                     splitter='best'))],\n",
       "                 flatten_transform=True, n_jobs=None, voting='soft',\n",
       "                 weights=None)"
      ]
     },
     "execution_count": 67,
     "metadata": {},
     "output_type": "execute_result"
    }
   ],
   "source": [
    "knn_soft = KNeighborsClassifier(5)\n",
    "knn_soft.fit(X_train_smote, y_train_smote)\n",
    "svc_soft = SVC(kernel='rbf', random_state= 0, probability= True)\n",
    "svc_soft.fit(X_train_smote, y_train_smote)\n",
    "dt_soft = DecisionTreeClassifier(max_depth = 7, random_state= 0)\n",
    "dt_soft.fit(X_train_smote, y_train_smote)\n",
    "\n",
    "voting_clf_soft = VotingClassifier(estimators=[('knn', knn_soft), ('svc', svc_soft), ('dt', dt_soft)], voting='soft')\n",
    "voting_clf_soft.fit(X_train_smote, y_train_smote)"
   ]
  },
  {
   "cell_type": "code",
   "execution_count": 110,
   "metadata": {},
   "outputs": [
    {
     "name": "stdout",
     "output_type": "stream",
     "text": [
      "KNeighborsClassifier 0.7102272727272727\n",
      "SVC 0.772159090909091\n",
      "DecisionTreeClassifier 0.759090909090909\n",
      "VotingClassifier 0.7573863636363637\n"
     ]
    }
   ],
   "source": [
    "for clf in (knn_soft, svc_soft, dt_soft, voting_clf_soft):\n",
    "    clf.fit(X_train_smote, y_train_smote)\n",
    "    y_test_pred = clf.predict(X_test)\n",
    "    y_train_pred = clf.predict(X_train_smote)\n",
    "    print(clf.__class__.__name__, accuracy_score(y_test, y_test_pred))"
   ]
  },
  {
   "cell_type": "code",
   "execution_count": 111,
   "metadata": {},
   "outputs": [],
   "source": [
    "report_table_2 = ['Soft Voting Classifier 2', '',accuracy_score(y_train_smote, y_train_pred), accuracy_score(y_test, y_test_pred)]"
   ]
  },
  {
   "cell_type": "markdown",
   "metadata": {},
   "source": [
    "## Bagging"
   ]
  },
  {
   "cell_type": "markdown",
   "metadata": {},
   "source": [
    "## KNN with Bagging"
   ]
  },
  {
   "cell_type": "code",
   "execution_count": 42,
   "metadata": {},
   "outputs": [
    {
     "data": {
      "text/plain": [
       "GridSearchCV(cv=5, error_score='raise-deprecating',\n",
       "             estimator=KNeighborsClassifier(algorithm='auto', leaf_size=30,\n",
       "                                            metric='minkowski',\n",
       "                                            metric_params=None, n_jobs=None,\n",
       "                                            n_neighbors=5, p=2,\n",
       "                                            weights='uniform'),\n",
       "             iid='warn', n_jobs=-1,\n",
       "             param_grid={'n_neighbors': [3, 5, 7, 11, 15]},\n",
       "             pre_dispatch='2*n_jobs', refit=True, return_train_score=False,\n",
       "             scoring=None, verbose=0)"
      ]
     },
     "execution_count": 42,
     "metadata": {},
     "output_type": "execute_result"
    }
   ],
   "source": [
    "from sklearn.ensemble import BaggingClassifier\n",
    "from sklearn.neighbors import KNeighborsClassifier\n",
    "from sklearn.model_selection import GridSearchCV\n",
    "knn = KNeighborsClassifier()\n",
    "\n",
    "knn_param ={'n_neighbors': [3,5,7,11,15]}\n",
    "knn_grid = GridSearchCV(knn, knn_param,cv = 5, n_jobs= -1)\n",
    "knn_grid.fit(X_train_smote, y_train_smote)"
   ]
  },
  {
   "cell_type": "code",
   "execution_count": 43,
   "metadata": {},
   "outputs": [
    {
     "name": "stdout",
     "output_type": "stream",
     "text": [
      "Best Parameters for KNN Classifier:  {'n_neighbors': 3}\n"
     ]
    }
   ],
   "source": [
    "print(\"Best Parameters for KNN Classifier: \", knn_grid.best_params_)"
   ]
  },
  {
   "cell_type": "code",
   "execution_count": 44,
   "metadata": {},
   "outputs": [
    {
     "data": {
      "text/plain": [
       "GridSearchCV(cv=5, error_score='raise-deprecating',\n",
       "             estimator=BaggingClassifier(base_estimator=KNeighborsClassifier(algorithm='auto',\n",
       "                                                                             leaf_size=30,\n",
       "                                                                             metric='minkowski',\n",
       "                                                                             metric_params=None,\n",
       "                                                                             n_jobs=None,\n",
       "                                                                             n_neighbors=3,\n",
       "                                                                             p=2,\n",
       "                                                                             weights='uniform'),\n",
       "                                         bootstrap=True,\n",
       "                                         bootstrap_features=False,\n",
       "                                         max_features=1.0, max_samples=1.0,\n",
       "                                         n_estimators=10, n_jobs=None,\n",
       "                                         oob_score=False, random_state=0,\n",
       "                                         verbose=0, warm_start=False),\n",
       "             iid='warn', n_jobs=-1,\n",
       "             param_grid={'max_samples': [0.1, 0.5, 1.0],\n",
       "                         'n_estimators': [100, 500, 1000]},\n",
       "             pre_dispatch='2*n_jobs', refit=True, return_train_score=True,\n",
       "             scoring=None, verbose=0)"
      ]
     },
     "execution_count": 44,
     "metadata": {},
     "output_type": "execute_result"
    }
   ],
   "source": [
    "knn = KNeighborsClassifier(n_neighbors=3)\n",
    "bag = BaggingClassifier(knn, bootstrap=True, random_state = 0)\n",
    "#model param\n",
    "grid_param = {'n_estimators': [100, 500, 1000],\n",
    "              'max_samples': [0.1, 0.5, 1.0]}\n",
    "\n",
    "#grid model\n",
    "bag_knn_grid = GridSearchCV(bag, grid_param, cv = 5, n_jobs = -1, return_train_score= True)\n",
    "\n",
    "#train grid model\n",
    "bag_knn_grid.fit(X_train_smote, y_train_smote)"
   ]
  },
  {
   "cell_type": "code",
   "execution_count": 45,
   "metadata": {},
   "outputs": [
    {
     "name": "stdout",
     "output_type": "stream",
     "text": [
      "Best Parameters for Bagging Classifier:  {'max_samples': 1.0, 'n_estimators': 1000}\n"
     ]
    }
   ],
   "source": [
    "print(\"Best Parameters for Bagging Classifier: \", bag_knn_grid.best_params_)"
   ]
  },
  {
   "cell_type": "code",
   "execution_count": 46,
   "metadata": {},
   "outputs": [
    {
     "data": {
      "text/plain": [
       "BaggingClassifier(base_estimator=KNeighborsClassifier(algorithm='auto',\n",
       "                                                      leaf_size=30,\n",
       "                                                      metric='minkowski',\n",
       "                                                      metric_params=None,\n",
       "                                                      n_jobs=None,\n",
       "                                                      n_neighbors=3, p=2,\n",
       "                                                      weights='uniform'),\n",
       "                  bootstrap=True, bootstrap_features=False, max_features=1.0,\n",
       "                  max_samples=1.0, n_estimators=1000, n_jobs=-1,\n",
       "                  oob_score=False, random_state=0, verbose=0, warm_start=False)"
      ]
     },
     "execution_count": 46,
     "metadata": {},
     "output_type": "execute_result"
    }
   ],
   "source": [
    "bag = BaggingClassifier(knn, n_estimators=1000, max_samples=1.0, n_jobs = -1, bootstrap=True, random_state=0)\n",
    "bag.fit(X_train_smote, y_train_smote)"
   ]
  },
  {
   "cell_type": "code",
   "execution_count": 47,
   "metadata": {},
   "outputs": [
    {
     "name": "stdout",
     "output_type": "stream",
     "text": [
      "KNN with Bagging Training Score:  0.9068627450980392\n",
      "KNN with Bagging Testing Score:  0.7227272727272728\n"
     ]
    }
   ],
   "source": [
    "print(\"KNN with Bagging Training Score: \", bag.score(X_train_smote, y_train_smote))\n",
    "print(\"KNN with Bagging Testing Score: \", bag.score(X_test, y_test))"
   ]
  },
  {
   "cell_type": "code",
   "execution_count": 49,
   "metadata": {},
   "outputs": [],
   "source": [
    "report_table_5 = ['KNN with Bagging', 'n_neighbors: 3, max_samples: 1.0, n_estimators: 1000',bag.score(X_train_smote, y_train_smote), bag.score(X_test, y_test)]"
   ]
  },
  {
   "cell_type": "markdown",
   "metadata": {},
   "source": [
    "## Logistic Regression with Bagging"
   ]
  },
  {
   "cell_type": "code",
   "execution_count": 50,
   "metadata": {},
   "outputs": [
    {
     "data": {
      "text/plain": [
       "GridSearchCV(cv=5, error_score='raise-deprecating',\n",
       "             estimator=BaggingClassifier(base_estimator=LogisticRegression(C=1.0,\n",
       "                                                                           class_weight=None,\n",
       "                                                                           dual=False,\n",
       "                                                                           fit_intercept=True,\n",
       "                                                                           intercept_scaling=1,\n",
       "                                                                           l1_ratio=None,\n",
       "                                                                           max_iter=100,\n",
       "                                                                           multi_class='warn',\n",
       "                                                                           n_jobs=None,\n",
       "                                                                           penalty='l2',\n",
       "                                                                           random_state=None,\n",
       "                                                                           solver='warn',\n",
       "                                                                           tol=0.0001,\n",
       "                                                                           verbose=0,\n",
       "                                                                           warm_start=False),\n",
       "                                         bootstrap=True,\n",
       "                                         bootstrap_features=False,\n",
       "                                         max_features=1.0, max_samples=1.0,\n",
       "                                         n_estimators=10, n_jobs=None,\n",
       "                                         oob_score=False, random_state=0,\n",
       "                                         verbose=0, warm_start=False),\n",
       "             iid='warn', n_jobs=-1,\n",
       "             param_grid={'max_samples': [0.1, 0.5, 1.0],\n",
       "                         'n_estimators': [100, 500, 1000]},\n",
       "             pre_dispatch='2*n_jobs', refit=True, return_train_score=True,\n",
       "             scoring=None, verbose=0)"
      ]
     },
     "execution_count": 50,
     "metadata": {},
     "output_type": "execute_result"
    }
   ],
   "source": [
    "from sklearn.linear_model import LogisticRegression\n",
    "\n",
    "lr = LogisticRegression()\n",
    "bag = BaggingClassifier(lr, bootstrap=True, random_state = 0)\n",
    "grid_param = {'n_estimators': [100, 500, 1000],\n",
    "              'max_samples': [0.1, 0.5, 1.0]}\n",
    "\n",
    "#grid model\n",
    "bag_lr_grid = GridSearchCV(bag, grid_param, cv = 5, n_jobs = -1, return_train_score= True)\n",
    "\n",
    "#train grid model\n",
    "bag_lr_grid.fit(X_train_smote, y_train_smote)"
   ]
  },
  {
   "cell_type": "code",
   "execution_count": 51,
   "metadata": {},
   "outputs": [
    {
     "name": "stdout",
     "output_type": "stream",
     "text": [
      "Best Parameters for Bagging Classifier:  {'max_samples': 1.0, 'n_estimators': 500}\n"
     ]
    }
   ],
   "source": [
    "print(\"Best Parameters for Bagging Classifier: \", bag_lr_grid.best_params_)"
   ]
  },
  {
   "cell_type": "code",
   "execution_count": 56,
   "metadata": {},
   "outputs": [
    {
     "data": {
      "text/plain": [
       "BaggingClassifier(base_estimator=LogisticRegression(C=1.0, class_weight=None,\n",
       "                                                    dual=False,\n",
       "                                                    fit_intercept=True,\n",
       "                                                    intercept_scaling=1,\n",
       "                                                    l1_ratio=None, max_iter=100,\n",
       "                                                    multi_class='warn',\n",
       "                                                    n_jobs=None, penalty='l2',\n",
       "                                                    random_state=None,\n",
       "                                                    solver='warn', tol=0.0001,\n",
       "                                                    verbose=0,\n",
       "                                                    warm_start=False),\n",
       "                  bootstrap=True, bootstrap_features=False, max_features=1.0,\n",
       "                  max_samples=1.0, n_estimators=500, n_jobs=-1, oob_score=False,\n",
       "                  random_state=0, verbose=0, warm_start=False)"
      ]
     },
     "execution_count": 56,
     "metadata": {},
     "output_type": "execute_result"
    }
   ],
   "source": [
    "bag = BaggingClassifier(lr, n_estimators=500, max_samples=1.0, bootstrap=True, n_jobs=-1, random_state=0)\n",
    "bag.fit(X_train_smote, y_train_smote)"
   ]
  },
  {
   "cell_type": "code",
   "execution_count": 60,
   "metadata": {},
   "outputs": [
    {
     "name": "stdout",
     "output_type": "stream",
     "text": [
      "Logistic Regression with Bagging Training Score:  0.7692208462332302\n",
      "Logistic Regression with Bagging Testing Score:  0.7693181818181818\n"
     ]
    }
   ],
   "source": [
    "print(\"Logistic Regression with Bagging Training Score: \", bag.score(X_train_smote, y_train_smote))\n",
    "print(\"Logistic Regression with Bagging Testing Score: \", bag.score(X_test, y_test))"
   ]
  },
  {
   "cell_type": "code",
   "execution_count": 61,
   "metadata": {},
   "outputs": [],
   "source": [
    "report_table_6 = ['Logistic Regression with Bagging', 'max_samples: 1.0, n_estimators: 500',bag.score(X_train_smote, y_train_smote), bag.score(X_test, y_test)]"
   ]
  },
  {
   "cell_type": "markdown",
   "metadata": {},
   "source": [
    "## Pasting"
   ]
  },
  {
   "cell_type": "markdown",
   "metadata": {},
   "source": [
    "## Decision Tree with Pasting"
   ]
  },
  {
   "cell_type": "code",
   "execution_count": 62,
   "metadata": {},
   "outputs": [
    {
     "data": {
      "text/plain": [
       "GridSearchCV(cv=5, error_score='raise-deprecating',\n",
       "             estimator=DecisionTreeClassifier(class_weight=None,\n",
       "                                              criterion='gini', max_depth=None,\n",
       "                                              max_features=None,\n",
       "                                              max_leaf_nodes=None,\n",
       "                                              min_impurity_decrease=0.0,\n",
       "                                              min_impurity_split=None,\n",
       "                                              min_samples_leaf=1,\n",
       "                                              min_samples_split=2,\n",
       "                                              min_weight_fraction_leaf=0.0,\n",
       "                                              presort=False, random_state=0,\n",
       "                                              splitter='best'),\n",
       "             iid='warn', n_jobs=-1,\n",
       "             param_grid={'max_depth': [3, 5, 7, 9, 11, 15]},\n",
       "             pre_dispatch='2*n_jobs', refit=True, return_train_score=False,\n",
       "             scoring=None, verbose=0)"
      ]
     },
     "execution_count": 62,
     "metadata": {},
     "output_type": "execute_result"
    }
   ],
   "source": [
    "from sklearn.tree import DecisionTreeClassifier\n",
    "\n",
    "dt = DecisionTreeClassifier(random_state = 0)\n",
    "grid_param = {'max_depth': [3, 5, 7, 9, 11, 15]}\n",
    "dt_grid = GridSearchCV(dt, grid_param, cv = 5, n_jobs = -1)\n",
    "dt_grid.fit(X_train_smote, y_train_smote)"
   ]
  },
  {
   "cell_type": "code",
   "execution_count": 70,
   "metadata": {},
   "outputs": [
    {
     "name": "stdout",
     "output_type": "stream",
     "text": [
      "Best Parameters for Decision Tree Classifier:  {'max_depth': 11}\n"
     ]
    }
   ],
   "source": [
    "print(\"Best Parameters for Decision Tree Classifier: \", dt_grid.best_params_)"
   ]
  },
  {
   "cell_type": "code",
   "execution_count": 71,
   "metadata": {},
   "outputs": [
    {
     "data": {
      "text/plain": [
       "GridSearchCV(cv=5, error_score='raise-deprecating',\n",
       "             estimator=BaggingClassifier(base_estimator=DecisionTreeClassifier(class_weight=None,\n",
       "                                                                               criterion='gini',\n",
       "                                                                               max_depth=11,\n",
       "                                                                               max_features=None,\n",
       "                                                                               max_leaf_nodes=None,\n",
       "                                                                               min_impurity_decrease=0.0,\n",
       "                                                                               min_impurity_split=None,\n",
       "                                                                               min_samples_leaf=1,\n",
       "                                                                               min_samples_split=2,\n",
       "                                                                               min_weight_fraction_leaf=0.0,\n",
       "                                                                               presort=False,\n",
       "                                                                               random_state=0,\n",
       "                                                                               splitter='best'),\n",
       "                                         bootstrap=True,\n",
       "                                         bootstrap_features=False,\n",
       "                                         max_features=1.0, max_samples=1.0,\n",
       "                                         n_estimators=10, n_jobs=None,\n",
       "                                         oob_score=False, random_state=0,\n",
       "                                         verbose=0, warm_start=False),\n",
       "             iid='warn', n_jobs=-1,\n",
       "             param_grid={'max_samples': [0.1, 0.5, 1.0],\n",
       "                         'n_estimators': [100, 500, 1000]},\n",
       "             pre_dispatch='2*n_jobs', refit=True, return_train_score=True,\n",
       "             scoring=None, verbose=0)"
      ]
     },
     "execution_count": 71,
     "metadata": {},
     "output_type": "execute_result"
    }
   ],
   "source": [
    "#base model\n",
    "dt = DecisionTreeClassifier(max_depth = 11, random_state=0)\n",
    "bag = BaggingClassifier(dt, random_state = 0)\n",
    "#model param\n",
    "grid_param = {'n_estimators': [100, 500, 1000],\n",
    "              'max_samples': [0.1, 0.5, 1.0]}\n",
    "\n",
    "#grid model\n",
    "bag_dt_grid = GridSearchCV(bag, grid_param, cv = 5, n_jobs = -1, return_train_score= True)\n",
    "\n",
    "#train grid model\n",
    "bag_dt_grid.fit(X_train_smote, y_train_smote)"
   ]
  },
  {
   "cell_type": "code",
   "execution_count": 73,
   "metadata": {},
   "outputs": [
    {
     "name": "stdout",
     "output_type": "stream",
     "text": [
      "Best Parameters for Bagging Classifier with Pasting:  {'max_samples': 1.0, 'n_estimators': 1000}\n"
     ]
    }
   ],
   "source": [
    "print(\"Best Parameters for Bagging Classifier with Pasting: \", bag_dt_grid.best_params_)"
   ]
  },
  {
   "cell_type": "code",
   "execution_count": 74,
   "metadata": {},
   "outputs": [
    {
     "data": {
      "text/plain": [
       "BaggingClassifier(base_estimator=DecisionTreeClassifier(class_weight=None,\n",
       "                                                        criterion='gini',\n",
       "                                                        max_depth=11,\n",
       "                                                        max_features=None,\n",
       "                                                        max_leaf_nodes=None,\n",
       "                                                        min_impurity_decrease=0.0,\n",
       "                                                        min_impurity_split=None,\n",
       "                                                        min_samples_leaf=1,\n",
       "                                                        min_samples_split=2,\n",
       "                                                        min_weight_fraction_leaf=0.0,\n",
       "                                                        presort=False,\n",
       "                                                        random_state=0,\n",
       "                                                        splitter='best'),\n",
       "                  bootstrap=False, bootstrap_features=False, max_features=1.0,\n",
       "                  max_samples=1.0, n_estimators=1000, n_jobs=-1,\n",
       "                  oob_score=False, random_state=0, verbose=0, warm_start=False)"
      ]
     },
     "execution_count": 74,
     "metadata": {},
     "output_type": "execute_result"
    }
   ],
   "source": [
    "bag = BaggingClassifier(dt, n_estimators=1000, max_samples=1.0, n_jobs = -1, bootstrap=False, random_state=0)\n",
    "bag.fit(X_train_smote, y_train_smote)"
   ]
  },
  {
   "cell_type": "code",
   "execution_count": 75,
   "metadata": {},
   "outputs": [
    {
     "name": "stdout",
     "output_type": "stream",
     "text": [
      "Decision Tree Classifier with Pasting Training Score:  0.9076367389060888\n",
      "Decision Tree Classifier with Pasting Testing Score:  0.740909090909091\n"
     ]
    }
   ],
   "source": [
    "print(\"Decision Tree Classifier with Pasting Training Score: \", bag.score(X_train_smote, y_train_smote))\n",
    "print(\"Decision Tree Classifier with Pasting Testing Score: \", bag.score(X_test, y_test))"
   ]
  },
  {
   "cell_type": "code",
   "execution_count": 77,
   "metadata": {},
   "outputs": [],
   "source": [
    "report_table_7 = ['Decision Tree Classifier with Pasting', 'max_depth: 11, max_samples: 1.0, n_estimators: 1000',bag.score(X_train_smote, y_train_smote), bag.score(X_test, y_test)]"
   ]
  },
  {
   "cell_type": "markdown",
   "metadata": {},
   "source": [
    "## Linear SVC with Pasting"
   ]
  },
  {
   "cell_type": "code",
   "execution_count": 78,
   "metadata": {},
   "outputs": [
    {
     "data": {
      "text/plain": [
       "GridSearchCV(cv=5, error_score='raise-deprecating',\n",
       "             estimator=LinearSVC(C=1.0, class_weight=None, dual=True,\n",
       "                                 fit_intercept=True, intercept_scaling=1,\n",
       "                                 loss='squared_hinge', max_iter=1000,\n",
       "                                 multi_class='ovr', penalty='l2',\n",
       "                                 random_state=0, tol=0.0001, verbose=0),\n",
       "             iid='warn', n_jobs=None, param_grid={'C': [1, 10, 100, 1000]},\n",
       "             pre_dispatch='2*n_jobs', refit=True, return_train_score=False,\n",
       "             scoring=None, verbose=0)"
      ]
     },
     "execution_count": 78,
     "metadata": {},
     "output_type": "execute_result"
    }
   ],
   "source": [
    "from sklearn.svm import LinearSVC\n",
    "svc = LinearSVC(penalty = 'l2', random_state=0)\n",
    "grid_param = {'C':[1, 10, 100, 1000]}\n",
    "svc_grid = GridSearchCV(svc, grid_param, cv = 5)\n",
    "svc_grid.fit(X_train_smote, y_train_smote)"
   ]
  },
  {
   "cell_type": "code",
   "execution_count": 79,
   "metadata": {},
   "outputs": [
    {
     "name": "stdout",
     "output_type": "stream",
     "text": [
      "Best Parameters for Linear SVC:  {'C': 1}\n"
     ]
    }
   ],
   "source": [
    "print(\"Best Parameters for Linear SVC: \", svc_grid.best_params_)"
   ]
  },
  {
   "cell_type": "code",
   "execution_count": 80,
   "metadata": {},
   "outputs": [
    {
     "data": {
      "text/plain": [
       "GridSearchCV(cv=5, error_score='raise-deprecating',\n",
       "             estimator=BaggingClassifier(base_estimator=LinearSVC(C=1,\n",
       "                                                                  class_weight=None,\n",
       "                                                                  dual=True,\n",
       "                                                                  fit_intercept=True,\n",
       "                                                                  intercept_scaling=1,\n",
       "                                                                  loss='squared_hinge',\n",
       "                                                                  max_iter=1000,\n",
       "                                                                  multi_class='ovr',\n",
       "                                                                  penalty='l2',\n",
       "                                                                  random_state=0,\n",
       "                                                                  tol=0.0001,\n",
       "                                                                  verbose=0),\n",
       "                                         bootstrap=True,\n",
       "                                         bootstrap_features=False,\n",
       "                                         max_features=1.0, max_samples=1.0,\n",
       "                                         n_estimators=10, n_jobs=None,\n",
       "                                         oob_score=False, random_state=0,\n",
       "                                         verbose=0, warm_start=False),\n",
       "             iid='warn', n_jobs=-1,\n",
       "             param_grid={'max_samples': [0.1, 0.5, 1.0],\n",
       "                         'n_estimators': [100, 500, 1000]},\n",
       "             pre_dispatch='2*n_jobs', refit=True, return_train_score=True,\n",
       "             scoring=None, verbose=0)"
      ]
     },
     "execution_count": 80,
     "metadata": {},
     "output_type": "execute_result"
    }
   ],
   "source": [
    "#base model\n",
    "svc = LinearSVC(C = 1, penalty = 'l2', random_state=0)\n",
    "bag = BaggingClassifier(svc, random_state = 0)\n",
    "#model param\n",
    "grid_param = {'n_estimators': [100, 500, 1000],\n",
    "              'max_samples': [0.1, 0.5, 1.0]}\n",
    "\n",
    "#grid model\n",
    "bag_svc_grid = GridSearchCV(bag, grid_param, cv = 5, n_jobs = -1, return_train_score= True)\n",
    "\n",
    "#train grid model\n",
    "bag_svc_grid.fit(X_train_smote, y_train_smote)"
   ]
  },
  {
   "cell_type": "code",
   "execution_count": 82,
   "metadata": {},
   "outputs": [
    {
     "name": "stdout",
     "output_type": "stream",
     "text": [
      "Best Parameters for Bagging Classifier with Pasting:  {'max_samples': 0.1, 'n_estimators': 100}\n"
     ]
    }
   ],
   "source": [
    "print(\"Best Parameters for Bagging Classifier with Pasting: \", bag_svc_grid.best_params_)"
   ]
  },
  {
   "cell_type": "code",
   "execution_count": 83,
   "metadata": {},
   "outputs": [
    {
     "data": {
      "text/plain": [
       "BaggingClassifier(base_estimator=LinearSVC(C=1, class_weight=None, dual=True,\n",
       "                                           fit_intercept=True,\n",
       "                                           intercept_scaling=1,\n",
       "                                           loss='squared_hinge', max_iter=1000,\n",
       "                                           multi_class='ovr', penalty='l2',\n",
       "                                           random_state=0, tol=0.0001,\n",
       "                                           verbose=0),\n",
       "                  bootstrap=False, bootstrap_features=False, max_features=1.0,\n",
       "                  max_samples=0.1, n_estimators=100, n_jobs=-1, oob_score=False,\n",
       "                  random_state=0, verbose=0, warm_start=False)"
      ]
     },
     "execution_count": 83,
     "metadata": {},
     "output_type": "execute_result"
    }
   ],
   "source": [
    "bag = BaggingClassifier(svc, n_estimators= 100, max_samples= 0.1, bootstrap=False, n_jobs=-1, random_state=0)\n",
    "bag.fit(X_train_smote, y_train_smote)"
   ]
  },
  {
   "cell_type": "code",
   "execution_count": 84,
   "metadata": {},
   "outputs": [
    {
     "name": "stdout",
     "output_type": "stream",
     "text": [
      "Linear SVC with Pasting Training Score:  0.7688338493292054\n",
      "Linear SVC with Pasting Testing Score:  0.7681818181818182\n"
     ]
    }
   ],
   "source": [
    "print(\"Linear SVC with Pasting Training Score: \", bag.score(X_train_smote, y_train_smote))\n",
    "print(\"Linear SVC with Pasting Testing Score: \", bag.score(X_test, y_test))"
   ]
  },
  {
   "cell_type": "code",
   "execution_count": 85,
   "metadata": {},
   "outputs": [],
   "source": [
    "report_table_8 = ['Linear SVC with Pasting', 'C: 1, max_samples: 0.1, n_estimators: 100',bag.score(X_train_smote, y_train_smote), bag.score(X_test, y_test)]"
   ]
  },
  {
   "cell_type": "markdown",
   "metadata": {},
   "source": [
    "## Adaboost "
   ]
  },
  {
   "cell_type": "markdown",
   "metadata": {},
   "source": [
    "## Decision Tree with Adaboost"
   ]
  },
  {
   "cell_type": "markdown",
   "metadata": {},
   "source": [
    "Here, ``max_depth = 11`` is taken as the best parameter for Decision Tree as it is seen in the above Decision Tree section."
   ]
  },
  {
   "cell_type": "code",
   "execution_count": 87,
   "metadata": {},
   "outputs": [
    {
     "data": {
      "text/plain": [
       "GridSearchCV(cv=5, error_score='raise-deprecating',\n",
       "             estimator=AdaBoostClassifier(algorithm='SAMME.R',\n",
       "                                          base_estimator=DecisionTreeClassifier(class_weight=None,\n",
       "                                                                                criterion='gini',\n",
       "                                                                                max_depth=11,\n",
       "                                                                                max_features=None,\n",
       "                                                                                max_leaf_nodes=None,\n",
       "                                                                                min_impurity_decrease=0.0,\n",
       "                                                                                min_impurity_split=None,\n",
       "                                                                                min_samples_leaf=1,\n",
       "                                                                                min_samples_split=2,\n",
       "                                                                                min_weight_fraction_leaf=0.0,\n",
       "                                                                                presort=False,\n",
       "                                                                                random_state=0,\n",
       "                                                                                splitter='best'),\n",
       "                                          learning_rate=1.0, n_estimators=50,\n",
       "                                          random_state=None),\n",
       "             iid='warn', n_jobs=-1,\n",
       "             param_grid={'learning_rate': [0.1, 0.5, 1, 10],\n",
       "                         'n_estimators': [100, 500, 1000]},\n",
       "             pre_dispatch='2*n_jobs', refit=True, return_train_score=False,\n",
       "             scoring=None, verbose=0)"
      ]
     },
     "execution_count": 87,
     "metadata": {},
     "output_type": "execute_result"
    }
   ],
   "source": [
    "from sklearn.ensemble import AdaBoostClassifier\n",
    "\n",
    "dt = DecisionTreeClassifier(max_depth = 11, random_state=0)\n",
    "ada = AdaBoostClassifier(dt)\n",
    "\n",
    "param = {'n_estimators' : [100,500,1000],\n",
    "        'learning_rate': [0.1, 0.5, 1, 10]}\n",
    "\n",
    "ada_grid = GridSearchCV(ada, param, cv=5, n_jobs= -1)\n",
    "\n",
    "ada_grid.fit(X_train_smote, y_train_smote)"
   ]
  },
  {
   "cell_type": "code",
   "execution_count": 88,
   "metadata": {},
   "outputs": [
    {
     "name": "stdout",
     "output_type": "stream",
     "text": [
      "Best Parameters for Adaboost Classifier:  {'learning_rate': 0.5, 'n_estimators': 1000}\n"
     ]
    }
   ],
   "source": [
    "print(\"Best Parameters for Adaboost Classifier: \", ada_grid.best_params_)"
   ]
  },
  {
   "cell_type": "code",
   "execution_count": 89,
   "metadata": {},
   "outputs": [
    {
     "data": {
      "text/plain": [
       "AdaBoostClassifier(algorithm='SAMME.R',\n",
       "                   base_estimator=DecisionTreeClassifier(class_weight=None,\n",
       "                                                         criterion='gini',\n",
       "                                                         max_depth=11,\n",
       "                                                         max_features=None,\n",
       "                                                         max_leaf_nodes=None,\n",
       "                                                         min_impurity_decrease=0.0,\n",
       "                                                         min_impurity_split=None,\n",
       "                                                         min_samples_leaf=1,\n",
       "                                                         min_samples_split=2,\n",
       "                                                         min_weight_fraction_leaf=0.0,\n",
       "                                                         presort=False,\n",
       "                                                         random_state=0,\n",
       "                                                         splitter='best'),\n",
       "                   learning_rate=0.5, n_estimators=1000, random_state=0)"
      ]
     },
     "execution_count": 89,
     "metadata": {},
     "output_type": "execute_result"
    }
   ],
   "source": [
    "ada = AdaBoostClassifier(dt, n_estimators= 1000, learning_rate= 0.5, algorithm=\"SAMME.R\", random_state=0)\n",
    "ada.fit(X_train_smote, y_train_smote)"
   ]
  },
  {
   "cell_type": "code",
   "execution_count": 90,
   "metadata": {},
   "outputs": [
    {
     "name": "stdout",
     "output_type": "stream",
     "text": [
      "Decision Tree Classifier with Adaboost Training Score:  0.9987100103199175\n",
      "Decision Tree Classifier with Adaboost Testing Score:  0.7806818181818181\n"
     ]
    }
   ],
   "source": [
    "print(\"Decision Tree Classifier with Adaboost Training Score: \", ada.score(X_train_smote, y_train_smote))\n",
    "print(\"Decision Tree Classifier with Adaboost Testing Score: \", ada.score(X_test, y_test))"
   ]
  },
  {
   "cell_type": "code",
   "execution_count": 91,
   "metadata": {},
   "outputs": [],
   "source": [
    "report_table_9 = ['Decision Tree Classifier with Adaboost', 'max_depth = 11, learning_rate = 0.5, n_estimators = 1000',\n",
    "                  ada.score(X_train_smote, y_train_smote), ada.score(X_test, y_test)]"
   ]
  },
  {
   "cell_type": "markdown",
   "metadata": {},
   "source": [
    "## Logistic Regression with Adaboost"
   ]
  },
  {
   "cell_type": "code",
   "execution_count": 92,
   "metadata": {},
   "outputs": [
    {
     "data": {
      "text/plain": [
       "GridSearchCV(cv=5, error_score='raise-deprecating',\n",
       "             estimator=AdaBoostClassifier(algorithm='SAMME.R',\n",
       "                                          base_estimator=LogisticRegression(C=1.0,\n",
       "                                                                            class_weight=None,\n",
       "                                                                            dual=False,\n",
       "                                                                            fit_intercept=True,\n",
       "                                                                            intercept_scaling=1,\n",
       "                                                                            l1_ratio=None,\n",
       "                                                                            max_iter=100,\n",
       "                                                                            multi_class='warn',\n",
       "                                                                            n_jobs=None,\n",
       "                                                                            penalty='l2',\n",
       "                                                                            random_state=None,\n",
       "                                                                            solver='warn',\n",
       "                                                                            tol=0.0001,\n",
       "                                                                            verbose=0,\n",
       "                                                                            warm_start=False),\n",
       "                                          learning_rate=1.0, n_estimators=50,\n",
       "                                          random_state=None),\n",
       "             iid='warn', n_jobs=-1,\n",
       "             param_grid={'learning_rate': [0.1, 0.5, 1],\n",
       "                         'n_estimators': [100, 500, 1000]},\n",
       "             pre_dispatch='2*n_jobs', refit=True, return_train_score=False,\n",
       "             scoring=None, verbose=0)"
      ]
     },
     "execution_count": 92,
     "metadata": {},
     "output_type": "execute_result"
    }
   ],
   "source": [
    "lr = LogisticRegression()\n",
    "ada = AdaBoostClassifier(lr)\n",
    "\n",
    "param = {'n_estimators' : [100,500,1000],\n",
    "        'learning_rate': [0.1, 0.5, 1]}\n",
    "\n",
    "ada_grid = GridSearchCV(ada, param, cv=5, n_jobs= -1)\n",
    "\n",
    "ada_grid.fit(X_train_smote, y_train_smote)"
   ]
  },
  {
   "cell_type": "code",
   "execution_count": 93,
   "metadata": {},
   "outputs": [
    {
     "name": "stdout",
     "output_type": "stream",
     "text": [
      "Best Parameters for Adaboost Classifier:  {'learning_rate': 0.1, 'n_estimators': 1000}\n"
     ]
    }
   ],
   "source": [
    "print(\"Best Parameters for Adaboost Classifier: \", ada_grid.best_params_)"
   ]
  },
  {
   "cell_type": "code",
   "execution_count": 94,
   "metadata": {},
   "outputs": [
    {
     "data": {
      "text/plain": [
       "AdaBoostClassifier(algorithm='SAMME.R',\n",
       "                   base_estimator=DecisionTreeClassifier(class_weight=None,\n",
       "                                                         criterion='gini',\n",
       "                                                         max_depth=11,\n",
       "                                                         max_features=None,\n",
       "                                                         max_leaf_nodes=None,\n",
       "                                                         min_impurity_decrease=0.0,\n",
       "                                                         min_impurity_split=None,\n",
       "                                                         min_samples_leaf=1,\n",
       "                                                         min_samples_split=2,\n",
       "                                                         min_weight_fraction_leaf=0.0,\n",
       "                                                         presort=False,\n",
       "                                                         random_state=0,\n",
       "                                                         splitter='best'),\n",
       "                   learning_rate=0.1, n_estimators=1000, random_state=0)"
      ]
     },
     "execution_count": 94,
     "metadata": {},
     "output_type": "execute_result"
    }
   ],
   "source": [
    "ada = AdaBoostClassifier(dt, n_estimators= 1000, learning_rate= 0.1, algorithm=\"SAMME.R\", random_state=0)\n",
    "ada.fit(X_train_smote, y_train_smote)"
   ]
  },
  {
   "cell_type": "code",
   "execution_count": 95,
   "metadata": {},
   "outputs": [
    {
     "name": "stdout",
     "output_type": "stream",
     "text": [
      "Logistic Regression with Adaboost Training Score:  0.9987100103199175\n",
      "Logistic Regression with Adaboost Testing Score:  0.7744318181818182\n"
     ]
    }
   ],
   "source": [
    "print(\"Logistic Regression with Adaboost Training Score: \", ada.score(X_train_smote, y_train_smote))\n",
    "print(\"Logistic Regression with Adaboost Testing Score: \", ada.score(X_test, y_test))"
   ]
  },
  {
   "cell_type": "code",
   "execution_count": 97,
   "metadata": {},
   "outputs": [],
   "source": [
    "report_table_10 = ['Logistic Regression with Adaboost', 'learning_rate = 0.1, n_estimators = 1000',\n",
    "                  ada.score(X_train_smote, y_train_smote), ada.score(X_test, y_test)]"
   ]
  },
  {
   "cell_type": "markdown",
   "metadata": {},
   "source": [
    "## Gradient Boosting Classifier"
   ]
  },
  {
   "cell_type": "code",
   "execution_count": 99,
   "metadata": {},
   "outputs": [
    {
     "data": {
      "text/plain": [
       "GridSearchCV(cv=5, error_score='raise-deprecating',\n",
       "             estimator=GradientBoostingClassifier(criterion='friedman_mse',\n",
       "                                                  init=None, learning_rate=0.1,\n",
       "                                                  loss='deviance', max_depth=3,\n",
       "                                                  max_features=None,\n",
       "                                                  max_leaf_nodes=None,\n",
       "                                                  min_impurity_decrease=0.0,\n",
       "                                                  min_impurity_split=None,\n",
       "                                                  min_samples_leaf=1,\n",
       "                                                  min_samples_split=2,\n",
       "                                                  min_weight_fraction_leaf=0.0,\n",
       "                                                  n_estimators=100,\n",
       "                                                  n_iter_no_change=None,\n",
       "                                                  presort='auto',\n",
       "                                                  random_state=0, subsample=1.0,\n",
       "                                                  tol=0.0001,\n",
       "                                                  validation_fraction=0.1,\n",
       "                                                  verbose=0, warm_start=False),\n",
       "             iid='warn', n_jobs=None,\n",
       "             param_grid={'learning_rate': [0.01, 0.1, 1.0],\n",
       "                         'max_depth': [5, 10, 15],\n",
       "                         'n_estimators': [100, 500, 1000]},\n",
       "             pre_dispatch='2*n_jobs', refit=True, return_train_score=True,\n",
       "             scoring=None, verbose=0)"
      ]
     },
     "execution_count": 99,
     "metadata": {},
     "output_type": "execute_result"
    }
   ],
   "source": [
    "from  sklearn.ensemble import GradientBoostingClassifier\n",
    "\n",
    "gb = GradientBoostingClassifier(random_state=0)\n",
    "\n",
    "param = {'max_depth': [5,10,15],\n",
    "           'n_estimators': [100, 500, 1000],\n",
    "           'learning_rate': [0.01,0.1,1.0]}\n",
    "gb_grid = GridSearchCV(gb, param, cv = 5, return_train_score= True)\n",
    "gb_grid.fit(X_train_smote, y_train_smote)"
   ]
  },
  {
   "cell_type": "code",
   "execution_count": 102,
   "metadata": {},
   "outputs": [
    {
     "name": "stdout",
     "output_type": "stream",
     "text": [
      "Best Parameters for Gradient Boosting Classifier:  {'learning_rate': 0.1, 'max_depth': 10, 'n_estimators': 100}\n"
     ]
    }
   ],
   "source": [
    "print(\"Best Parameters for Gradient Boosting Classifier: \", gb_grid.best_params_)"
   ]
  },
  {
   "cell_type": "code",
   "execution_count": 103,
   "metadata": {},
   "outputs": [
    {
     "data": {
      "text/plain": [
       "GradientBoostingClassifier(criterion='friedman_mse', init=None,\n",
       "                           learning_rate=0.1, loss='deviance', max_depth=10,\n",
       "                           max_features=None, max_leaf_nodes=None,\n",
       "                           min_impurity_decrease=0.0, min_impurity_split=None,\n",
       "                           min_samples_leaf=1, min_samples_split=2,\n",
       "                           min_weight_fraction_leaf=0.0, n_estimators=100,\n",
       "                           n_iter_no_change=None, presort='auto',\n",
       "                           random_state=0, subsample=1.0, tol=0.0001,\n",
       "                           validation_fraction=0.1, verbose=0,\n",
       "                           warm_start=False)"
      ]
     },
     "execution_count": 103,
     "metadata": {},
     "output_type": "execute_result"
    }
   ],
   "source": [
    "gb = GradientBoostingClassifier(max_depth=10, n_estimators=100,learning_rate=0.1, random_state=0)\n",
    "gb.fit(X_train_smote, y_train_smote)"
   ]
  },
  {
   "cell_type": "code",
   "execution_count": 104,
   "metadata": {},
   "outputs": [
    {
     "name": "stdout",
     "output_type": "stream",
     "text": [
      "Gradient Boosting Classifier Training Score:  0.9970330237358102\n",
      "Gradient Boosting Classifier Testing Score:  0.7846590909090909\n"
     ]
    }
   ],
   "source": [
    "print(\"Gradient Boosting Classifier Training Score: \", gb.score(X_train_smote, y_train_smote))\n",
    "print(\"Gradient Boosting Classifier Testing Score: \", gb.score(X_test, y_test))"
   ]
  },
  {
   "cell_type": "code",
   "execution_count": 105,
   "metadata": {},
   "outputs": [],
   "source": [
    "report_table_11 = ['Gradient Boosting Classifier', 'learning_rate = 0.1, max_depth = 10, n_estimators = 100',\n",
    "                  gb.score(X_train_smote, y_train_smote), gb.score(X_test, y_test)]"
   ]
  },
  {
   "cell_type": "markdown",
   "metadata": {},
   "source": [
    "## Voting, Boosting, Pasting and Bagging: Generating a Report table\n",
    "For comparing all the models, we will create a table and a plot."
   ]
  },
  {
   "cell_type": "code",
   "execution_count": 113,
   "metadata": {},
   "outputs": [],
   "source": [
    "report_table = pd.DataFrame(list(zip(report_table_1,\n",
    "             report_table_2,\n",
    "             report_table_4,\n",
    "             report_table_5,\n",
    "             report_table_6,\n",
    "             report_table_7,\n",
    "             report_table_8,\n",
    "             report_table_9,\n",
    "             report_table_10,\n",
    "             report_table_11))).transpose()"
   ]
  },
  {
   "cell_type": "code",
   "execution_count": 114,
   "metadata": {},
   "outputs": [
    {
     "data": {
      "text/html": [
       "<div>\n",
       "<style scoped>\n",
       "    .dataframe tbody tr th:only-of-type {\n",
       "        vertical-align: middle;\n",
       "    }\n",
       "\n",
       "    .dataframe tbody tr th {\n",
       "        vertical-align: top;\n",
       "    }\n",
       "\n",
       "    .dataframe thead th {\n",
       "        text-align: right;\n",
       "    }\n",
       "</style>\n",
       "<table border=\"1\" class=\"dataframe\">\n",
       "  <thead>\n",
       "    <tr style=\"text-align: right;\">\n",
       "      <th></th>\n",
       "      <th>Model Name</th>\n",
       "      <th>Model Parameter</th>\n",
       "      <th>Training Score</th>\n",
       "      <th>Testing Score</th>\n",
       "    </tr>\n",
       "    <tr>\n",
       "      <th>Model Name</th>\n",
       "      <th></th>\n",
       "      <th></th>\n",
       "      <th></th>\n",
       "      <th></th>\n",
       "    </tr>\n",
       "  </thead>\n",
       "  <tbody>\n",
       "    <tr>\n",
       "      <th>Hard Voting Classifier 1</th>\n",
       "      <td>Hard Voting Classifier 1</td>\n",
       "      <td></td>\n",
       "      <td>0.826625</td>\n",
       "      <td>0.768182</td>\n",
       "    </tr>\n",
       "    <tr>\n",
       "      <th>Soft Voting Classifier 2</th>\n",
       "      <td>Soft Voting Classifier 2</td>\n",
       "      <td></td>\n",
       "      <td>0.856682</td>\n",
       "      <td>0.757386</td>\n",
       "    </tr>\n",
       "    <tr>\n",
       "      <th>Soft Voting Classifier 2</th>\n",
       "      <td>Soft Voting Classifier 2</td>\n",
       "      <td></td>\n",
       "      <td>0.856682</td>\n",
       "      <td>0.757386</td>\n",
       "    </tr>\n",
       "    <tr>\n",
       "      <th>KNN with Bagging</th>\n",
       "      <td>KNN with Bagging</td>\n",
       "      <td>n_neighbors: 3, max_samples: 1.0, n_estimators...</td>\n",
       "      <td>0.906863</td>\n",
       "      <td>0.722727</td>\n",
       "    </tr>\n",
       "    <tr>\n",
       "      <th>Logistic Regression with Bagging</th>\n",
       "      <td>Logistic Regression with Bagging</td>\n",
       "      <td>max_samples: 1.0, n_estimators: 500</td>\n",
       "      <td>0.769221</td>\n",
       "      <td>0.769318</td>\n",
       "    </tr>\n",
       "    <tr>\n",
       "      <th>Decision Tree Classifier with Pasting</th>\n",
       "      <td>Decision Tree Classifier with Pasting</td>\n",
       "      <td>max_depth: 11, max_samples: 1.0, n_estimators:...</td>\n",
       "      <td>0.907637</td>\n",
       "      <td>0.740909</td>\n",
       "    </tr>\n",
       "    <tr>\n",
       "      <th>Linear SVC with Pasting</th>\n",
       "      <td>Linear SVC with Pasting</td>\n",
       "      <td>C: 1, max_samples: 0.1, n_estimators: 100</td>\n",
       "      <td>0.768834</td>\n",
       "      <td>0.768182</td>\n",
       "    </tr>\n",
       "    <tr>\n",
       "      <th>Decision Tree Classifier with Adaboost</th>\n",
       "      <td>Decision Tree Classifier with Adaboost</td>\n",
       "      <td>max_depth = 11, learning_rate = 0.5, n_estimat...</td>\n",
       "      <td>0.99871</td>\n",
       "      <td>0.780682</td>\n",
       "    </tr>\n",
       "    <tr>\n",
       "      <th>Logistic Regression with Adaboost</th>\n",
       "      <td>Logistic Regression with Adaboost</td>\n",
       "      <td>learning_rate = 0.1, n_estimators = 1000</td>\n",
       "      <td>0.99871</td>\n",
       "      <td>0.774432</td>\n",
       "    </tr>\n",
       "    <tr>\n",
       "      <th>Gradient Boosting Classifier</th>\n",
       "      <td>Gradient Boosting Classifier</td>\n",
       "      <td>learning_rate = 0.1, max_depth = 10, n_estimat...</td>\n",
       "      <td>0.997033</td>\n",
       "      <td>0.784659</td>\n",
       "    </tr>\n",
       "  </tbody>\n",
       "</table>\n",
       "</div>"
      ],
      "text/plain": [
       "                                                                    Model Name  \\\n",
       "Model Name                                                                       \n",
       "Hard Voting Classifier 1                              Hard Voting Classifier 1   \n",
       "Soft Voting Classifier 2                              Soft Voting Classifier 2   \n",
       "Soft Voting Classifier 2                              Soft Voting Classifier 2   \n",
       "KNN with Bagging                                              KNN with Bagging   \n",
       "Logistic Regression with Bagging              Logistic Regression with Bagging   \n",
       "Decision Tree Classifier with Pasting    Decision Tree Classifier with Pasting   \n",
       "Linear SVC with Pasting                                Linear SVC with Pasting   \n",
       "Decision Tree Classifier with Adaboost  Decision Tree Classifier with Adaboost   \n",
       "Logistic Regression with Adaboost            Logistic Regression with Adaboost   \n",
       "Gradient Boosting Classifier                      Gradient Boosting Classifier   \n",
       "\n",
       "                                                                          Model Parameter  \\\n",
       "Model Name                                                                                  \n",
       "Hard Voting Classifier 1                                                                    \n",
       "Soft Voting Classifier 2                                                                    \n",
       "Soft Voting Classifier 2                                                                    \n",
       "KNN with Bagging                        n_neighbors: 3, max_samples: 1.0, n_estimators...   \n",
       "Logistic Regression with Bagging                      max_samples: 1.0, n_estimators: 500   \n",
       "Decision Tree Classifier with Pasting   max_depth: 11, max_samples: 1.0, n_estimators:...   \n",
       "Linear SVC with Pasting                         C: 1, max_samples: 0.1, n_estimators: 100   \n",
       "Decision Tree Classifier with Adaboost  max_depth = 11, learning_rate = 0.5, n_estimat...   \n",
       "Logistic Regression with Adaboost                learning_rate = 0.1, n_estimators = 1000   \n",
       "Gradient Boosting Classifier            learning_rate = 0.1, max_depth = 10, n_estimat...   \n",
       "\n",
       "                                       Training Score Testing Score  \n",
       "Model Name                                                           \n",
       "Hard Voting Classifier 1                     0.826625      0.768182  \n",
       "Soft Voting Classifier 2                     0.856682      0.757386  \n",
       "Soft Voting Classifier 2                     0.856682      0.757386  \n",
       "KNN with Bagging                             0.906863      0.722727  \n",
       "Logistic Regression with Bagging             0.769221      0.769318  \n",
       "Decision Tree Classifier with Pasting        0.907637      0.740909  \n",
       "Linear SVC with Pasting                      0.768834      0.768182  \n",
       "Decision Tree Classifier with Adaboost        0.99871      0.780682  \n",
       "Logistic Regression with Adaboost             0.99871      0.774432  \n",
       "Gradient Boosting Classifier                 0.997033      0.784659  "
      ]
     },
     "execution_count": 114,
     "metadata": {},
     "output_type": "execute_result"
    }
   ],
   "source": [
    "report_table.columns = ['Model Name', 'Model Parameter', 'Training Score', 'Testing Score']\n",
    "report_table.index = report_table['Model Name']\n",
    "report_table.head(10)"
   ]
  },
  {
   "cell_type": "markdown",
   "metadata": {},
   "source": [
    "# Principal Component Analysis"
   ]
  },
  {
   "cell_type": "code",
   "execution_count": 33,
   "metadata": {},
   "outputs": [],
   "source": [
    "from sklearn.decomposition import PCA\n",
    "\n",
    "pca = PCA(n_components=0.95)\n",
    "\n",
    "X_train_reduced = pca.fit_transform(X_train_smote)\n",
    "X_test_reduced = pca.transform(X_test)"
   ]
  },
  {
   "cell_type": "code",
   "execution_count": 34,
   "metadata": {},
   "outputs": [
    {
     "name": "stdout",
     "output_type": "stream",
     "text": [
      "Number of PCA components:  21\n"
     ]
    }
   ],
   "source": [
    "print(\"Number of PCA components: \", pca.n_components_)"
   ]
  },
  {
   "cell_type": "markdown",
   "metadata": {},
   "source": [
    "# The following classifiers are being used with PCA:\n",
    "* K Nearest Neighbor\n",
    "* Logistic Regression\n",
    "* Linear SVC\n",
    "* Kernalized SVC - Linear\n",
    "* Kernalized SVC - rbf\n",
    "* Kernalized SVC - poly\n",
    "* Decision Tree    \n"
   ]
  },
  {
   "cell_type": "markdown",
   "metadata": {},
   "source": [
    "## KNN classifier with PCA"
   ]
  },
  {
   "cell_type": "markdown",
   "metadata": {},
   "source": [
    "## Generating a Report table: PCA\n",
    "For comparing all the models, we will create a table and a plot."
   ]
  },
  {
   "cell_type": "code",
   "execution_count": 35,
   "metadata": {},
   "outputs": [],
   "source": [
    "### Importing necessary Libraries\n",
    "from sklearn.neighbors import KNeighborsClassifier\n",
    "from sklearn.model_selection import GridSearchCV\n",
    "from sklearn.model_selection import cross_val_score\n",
    "from sklearn.metrics import confusion_matrix,accuracy_score,classification_report"
   ]
  },
  {
   "cell_type": "code",
   "execution_count": 36,
   "metadata": {},
   "outputs": [
    {
     "data": {
      "text/plain": [
       "GridSearchCV(cv=5, error_score='raise-deprecating',\n",
       "             estimator=KNeighborsClassifier(algorithm='auto', leaf_size=30,\n",
       "                                            metric='minkowski',\n",
       "                                            metric_params=None, n_jobs=None,\n",
       "                                            n_neighbors=5, p=2,\n",
       "                                            weights='uniform'),\n",
       "             iid='warn', n_jobs=None,\n",
       "             param_grid={'n_neighbors': array([5, 6, 7, 8, 9])},\n",
       "             pre_dispatch='2*n_jobs', refit=True, return_train_score=False,\n",
       "             scoring=None, verbose=0)"
      ]
     },
     "execution_count": 36,
     "metadata": {},
     "output_type": "execute_result"
    }
   ],
   "source": [
    "knn = KNeighborsClassifier()\n",
    "param_grid = {'n_neighbors': np.arange(5, 10)}\n",
    "grid_knn = GridSearchCV(knn, param_grid=param_grid, cv = 5)\n",
    "grid_knn.fit(X_train_reduced, y_train_smote)"
   ]
  },
  {
   "cell_type": "code",
   "execution_count": 37,
   "metadata": {},
   "outputs": [
    {
     "name": "stdout",
     "output_type": "stream",
     "text": [
      "Best Parameters for KNN classifier from grid search:  {'n_neighbors': 6}\n"
     ]
    }
   ],
   "source": [
    "print(\"Best Parameters for KNN classifier from grid search: \", grid_knn.best_params_)"
   ]
  },
  {
   "cell_type": "code",
   "execution_count": 38,
   "metadata": {},
   "outputs": [
    {
     "data": {
      "text/plain": [
       "KNeighborsClassifier(algorithm='auto', leaf_size=30, metric='minkowski',\n",
       "                     metric_params=None, n_jobs=None, n_neighbors=6, p=2,\n",
       "                     weights='uniform')"
      ]
     },
     "execution_count": 38,
     "metadata": {},
     "output_type": "execute_result"
    }
   ],
   "source": [
    "knneg = KNeighborsClassifier(n_neighbors=6)\n",
    "knneg.fit(X_train_reduced, y_train_smote)"
   ]
  },
  {
   "cell_type": "code",
   "execution_count": 39,
   "metadata": {},
   "outputs": [],
   "source": [
    "cross_val_scores_knn = cross_val_score(knneg,X_train_reduced, y_train_smote,cv=5)"
   ]
  },
  {
   "cell_type": "code",
   "execution_count": 40,
   "metadata": {},
   "outputs": [
    {
     "name": "stdout",
     "output_type": "stream",
     "text": [
      "The Cross validation scores for the training set is:[0.77770619 0.77612903 0.81612903 0.81935484 0.83806452]\n",
      "The Mean Cross val score for training set is:0.8054767209843698\n"
     ]
    }
   ],
   "source": [
    "print('The Cross validation scores for the training set is:{}'.format(cross_val_scores_knn))\n",
    "print('The Mean Cross val score for training set is:{}'.format(np.mean(cross_val_scores_knn)))"
   ]
  },
  {
   "cell_type": "code",
   "execution_count": 41,
   "metadata": {},
   "outputs": [
    {
     "name": "stdout",
     "output_type": "stream",
     "text": [
      "              precision    recall  f1-score   support\n",
      "\n",
      "           0       0.87      0.77      0.82      1295\n",
      "           1       0.51      0.67      0.58       465\n",
      "\n",
      "    accuracy                           0.74      1760\n",
      "   macro avg       0.69      0.72      0.70      1760\n",
      "weighted avg       0.77      0.74      0.75      1760\n",
      "\n",
      "The Train score is:0.8608101135190919\n",
      "The Test score is:0.7431818181818182\n"
     ]
    }
   ],
   "source": [
    "knneg_predict = knneg.predict(X_test_reduced)\n",
    "knneg_train_predict=knneg.predict(X_train_reduced)\n",
    "print(classification_report(y_test,knneg_predict))\n",
    "print('The Train score is:{}'.format(accuracy_score(y_train_smote,knneg_train_predict)))\n",
    "print('The Test score is:{}'.format(accuracy_score(y_test,knneg_predict)))"
   ]
  },
  {
   "cell_type": "code",
   "execution_count": 58,
   "metadata": {},
   "outputs": [],
   "source": [
    "train_score_list = []\n",
    "test_score_list = []\n",
    "k_val = [5,6,7,8,9,10]\n",
    "\n",
    "for k in k_val: \n",
    "    knn_model = KNeighborsClassifier(n_neighbors=k)\n",
    "    knn_model.fit(X_train_reduced, y_train_smote)\n",
    "    train_score_list.append(knn_model.score(X_train_reduced, y_train_smote))\n",
    "    test_score_list.append(knn_model.score(X_test_reduced, y_test))"
   ]
  },
  {
   "cell_type": "code",
   "execution_count": 59,
   "metadata": {},
   "outputs": [
    {
     "data": {
      "text/plain": [
       "Text(0.5, 0, 'K')"
      ]
     },
     "execution_count": 59,
     "metadata": {},
     "output_type": "execute_result"
    },
    {
     "data": {
      "image/png": "[encoded data removed]",
      "text/plain": [
       "<Figure size 720x576 with 1 Axes>"
      ]
     },
     "metadata": {},
     "output_type": "display_data"
    }
   ],
   "source": [
    "plt.plot(k_val, train_score_list, c = 'g', label = 'Train Score')\n",
    "plt.plot(k_val, test_score_list, c = 'b', label = 'Test Score')\n",
    "plt.xscale('log')\n",
    "plt.legend(loc = 3)\n",
    "plt.xlabel('K')"
   ]
  },
  {
   "cell_type": "markdown",
   "metadata": {},
   "source": [
    "### The KNN model with K=6 Clearly overfits the data"
   ]
  },
  {
   "cell_type": "markdown",
   "metadata": {},
   "source": [
    "## Logistic regression with PCA:"
   ]
  },
  {
   "cell_type": "code",
   "execution_count": 44,
   "metadata": {},
   "outputs": [],
   "source": [
    "###Importing Necessary package\n",
    "from sklearn.linear_model import LogisticRegression"
   ]
  },
  {
   "cell_type": "code",
   "execution_count": 45,
   "metadata": {},
   "outputs": [
    {
     "data": {
      "text/plain": [
       "GridSearchCV(cv=5, error_score='raise-deprecating',\n",
       "             estimator=LogisticRegression(C=1.0, class_weight=None, dual=False,\n",
       "                                          fit_intercept=True,\n",
       "                                          intercept_scaling=1, l1_ratio=None,\n",
       "                                          max_iter=100, multi_class='warn',\n",
       "                                          n_jobs=None, penalty='l2',\n",
       "                                          random_state=0, solver='warn',\n",
       "                                          tol=0.0001, verbose=0,\n",
       "                                          warm_start=False),\n",
       "             iid='warn', n_jobs=None,\n",
       "             param_grid={'C': [0.001, 0.01, 0.1, 1, 10, 100]},\n",
       "             pre_dispatch='2*n_jobs', refit=True, return_train_score=False,\n",
       "             scoring=None, verbose=0)"
      ]
     },
     "execution_count": 45,
     "metadata": {},
     "output_type": "execute_result"
    }
   ],
   "source": [
    "logreg = LogisticRegression(penalty='l2',random_state=0)\n",
    "param_grid = {'C': [0.001, 0.01, 0.1, 1, 10, 100] }\n",
    "grid_log_reg = GridSearchCV(logreg,param_grid,cv=5)\n",
    "grid_log_reg.fit(X_train_reduced, y_train_smote)"
   ]
  },
  {
   "cell_type": "code",
   "execution_count": 46,
   "metadata": {},
   "outputs": [
    {
     "name": "stdout",
     "output_type": "stream",
     "text": [
      "Best Parameters for Logistic Regression from grid search:  {'C': 0.1}\n"
     ]
    }
   ],
   "source": [
    "print(\"Best Parameters for Logistic Regression from grid search: \", grid_log_reg.best_params_)"
   ]
  },
  {
   "cell_type": "code",
   "execution_count": 47,
   "metadata": {},
   "outputs": [
    {
     "data": {
      "text/plain": [
       "LogisticRegression(C=0.1, class_weight=None, dual=False, fit_intercept=True,\n",
       "                   intercept_scaling=1, l1_ratio=None, max_iter=100,\n",
       "                   multi_class='warn', n_jobs=None, penalty='l2',\n",
       "                   random_state=0, solver='warn', tol=0.0001, verbose=0,\n",
       "                   warm_start=False)"
      ]
     },
     "execution_count": 47,
     "metadata": {},
     "output_type": "execute_result"
    }
   ],
   "source": [
    "logit = LogisticRegression(penalty = 'l2', C = 0.1, random_state=0)\n",
    "logit.fit(X_train_reduced, y_train_smote)"
   ]
  },
  {
   "cell_type": "code",
   "execution_count": 48,
   "metadata": {},
   "outputs": [],
   "source": [
    "cross_val_scores_log_reg = cross_val_score(logit,X_train_reduced, y_train_smote,cv=5)"
   ]
  },
  {
   "cell_type": "code",
   "execution_count": 49,
   "metadata": {},
   "outputs": [
    {
     "name": "stdout",
     "output_type": "stream",
     "text": [
      "The Cross validation scores for the training set is:[0.77384021 0.74322581 0.78387097 0.74451613 0.78387097]\n",
      "The Mean Cross val score for training set is:0.7658648154306618\n"
     ]
    }
   ],
   "source": [
    "print('The Cross validation scores for the training set is:{}'.format(cross_val_scores_log_reg))\n",
    "print('The Mean Cross val score for training set is:{}'.format(np.mean(cross_val_scores_log_reg)))"
   ]
  },
  {
   "cell_type": "code",
   "execution_count": 50,
   "metadata": {},
   "outputs": [
    {
     "name": "stdout",
     "output_type": "stream",
     "text": [
      "              precision    recall  f1-score   support\n",
      "\n",
      "           0       0.91      0.76      0.83      1295\n",
      "           1       0.54      0.80      0.65       465\n",
      "\n",
      "    accuracy                           0.77      1760\n",
      "   macro avg       0.73      0.78      0.74      1760\n",
      "weighted avg       0.82      0.77      0.78      1760\n",
      "\n",
      "The Train score is:0.7662538699690402\n",
      "The Test score is:0.7681818181818182\n"
     ]
    }
   ],
   "source": [
    "logit_predict = logit.predict(X_test_reduced)\n",
    "logit_train_predict=logit.predict(X_train_reduced)\n",
    "print(classification_report(y_test,logit_predict))\n",
    "print('The Train score is:{}'.format(accuracy_score(y_train_smote,logit_train_predict)))\n",
    "print('The Test score is:{}'.format(accuracy_score(y_test,logit_predict)))"
   ]
  },
  {
   "cell_type": "code",
   "execution_count": 60,
   "metadata": {},
   "outputs": [],
   "source": [
    "train_score_list = []\n",
    "test_score_list = []\n",
    "x_range = [0.001, 0.01, 0.1, 1, 10, 100]\n",
    "\n",
    "for alpha in x_range: \n",
    "    model = LogisticRegression(C=alpha, random_state=0)\n",
    "    model.fit(X_train_reduced, y_train_smote)\n",
    "    train_score_list.append(model.score(X_train_reduced, y_train_smote))\n",
    "    test_score_list.append(model.score(X_test_reduced, y_test))"
   ]
  },
  {
   "cell_type": "code",
   "execution_count": 61,
   "metadata": {},
   "outputs": [
    {
     "data": {
      "text/plain": [
       "Text(0.5, 0, 'C')"
      ]
     },
     "execution_count": 61,
     "metadata": {},
     "output_type": "execute_result"
    },
    {
     "data": {
      "image/png": "[encoded data removed]",
      "text/plain": [
       "<Figure size 720x576 with 1 Axes>"
      ]
     },
     "metadata": {},
     "output_type": "display_data"
    }
   ],
   "source": [
    "plt.plot(x_range, train_score_list, c = 'g', label = 'Train Score')\n",
    "plt.plot(x_range, test_score_list, c = 'b', label = 'Test Score')\n",
    "plt.xscale('log')\n",
    "plt.legend(loc = 3)\n",
    "plt.xlabel('C')"
   ]
  },
  {
   "cell_type": "markdown",
   "metadata": {},
   "source": [
    "## Linear SVC with PCA:"
   ]
  },
  {
   "cell_type": "code",
   "execution_count": 62,
   "metadata": {},
   "outputs": [
    {
     "data": {
      "text/plain": [
       "GridSearchCV(cv=5, error_score='raise-deprecating',\n",
       "             estimator=LinearSVC(C=1.0, class_weight=None, dual=True,\n",
       "                                 fit_intercept=True, intercept_scaling=1,\n",
       "                                 loss='squared_hinge', max_iter=1000,\n",
       "                                 multi_class='ovr', penalty='l2',\n",
       "                                 random_state=None, tol=0.0001, verbose=0),\n",
       "             iid='warn', n_jobs=None,\n",
       "             param_grid={'C': [0.001, 0.01, 0.1, 1, 10, 100]},\n",
       "             pre_dispatch='2*n_jobs', refit=True, return_train_score=False,\n",
       "             scoring=None, verbose=0)"
      ]
     },
     "execution_count": 62,
     "metadata": {},
     "output_type": "execute_result"
    }
   ],
   "source": [
    "from sklearn.svm import LinearSVC\n",
    "\n",
    "svc_lin = LinearSVC()\n",
    "param_grid = {'C':[0.001, 0.01, 0.1, 1, 10, 100]}\n",
    "\n",
    "grid_svc_lin = GridSearchCV(svc_lin, param_grid, cv = 5)\n",
    "grid_svc_lin.fit(X_train_reduced, y_train_smote)"
   ]
  },
  {
   "cell_type": "code",
   "execution_count": 63,
   "metadata": {},
   "outputs": [
    {
     "name": "stdout",
     "output_type": "stream",
     "text": [
      "Best Parameters for Linear SVC from grid search:  {'C': 1}\n"
     ]
    }
   ],
   "source": [
    "print(\"Best Parameters for Linear SVC from grid search: \", grid_svc_lin.best_params_)"
   ]
  },
  {
   "cell_type": "code",
   "execution_count": 64,
   "metadata": {},
   "outputs": [
    {
     "data": {
      "text/plain": [
       "LinearSVC(C=1, class_weight=None, dual=True, fit_intercept=True,\n",
       "          intercept_scaling=1, loss='squared_hinge', max_iter=1000,\n",
       "          multi_class='ovr', penalty='l2', random_state=None, tol=0.0001,\n",
       "          verbose=0)"
      ]
     },
     "execution_count": 64,
     "metadata": {},
     "output_type": "execute_result"
    }
   ],
   "source": [
    "svc_lin_mod = LinearSVC(C=1)\n",
    "svc_lin_mod.fit(X_train_reduced, y_train_smote)"
   ]
  },
  {
   "cell_type": "code",
   "execution_count": 65,
   "metadata": {},
   "outputs": [],
   "source": [
    "cross_val_scores_svc_lin= cross_val_score(svc_lin_mod,X_train_reduced, y_train_smote,cv=5)"
   ]
  },
  {
   "cell_type": "code",
   "execution_count": 66,
   "metadata": {},
   "outputs": [
    {
     "name": "stdout",
     "output_type": "stream",
     "text": [
      "The Cross validation scores for the training set is:[0.77319588 0.74580645 0.77806452 0.73870968 0.78645161]\n",
      "The Mean Cross val score for training set is:0.7644456268706353\n"
     ]
    }
   ],
   "source": [
    "print('The Cross validation scores for the training set is:{}'.format(cross_val_scores_svc_lin))\n",
    "print('The Mean Cross val score for training set is:{}'.format(np.mean(cross_val_scores_svc_lin)))"
   ]
  },
  {
   "cell_type": "code",
   "execution_count": 67,
   "metadata": {},
   "outputs": [
    {
     "name": "stdout",
     "output_type": "stream",
     "text": [
      "              precision    recall  f1-score   support\n",
      "\n",
      "           0       0.91      0.75      0.82      1295\n",
      "           1       0.54      0.80      0.64       465\n",
      "\n",
      "    accuracy                           0.76      1760\n",
      "   macro avg       0.72      0.78      0.73      1760\n",
      "weighted avg       0.81      0.76      0.78      1760\n",
      "\n",
      "The Train score is:0.765608875128999\n",
      "The Test score is:0.7636363636363637\n"
     ]
    }
   ],
   "source": [
    "svc_lin_predict = svc_lin_mod.predict(X_test_reduced)\n",
    "svc_lin_train_predict=svc_lin_mod.predict(X_train_reduced)\n",
    "print(classification_report(y_test,svc_lin_predict))\n",
    "print('The Train score is:{}'.format(accuracy_score(y_train_smote,svc_lin_train_predict)))\n",
    "print('The Test score is:{}'.format(accuracy_score(y_test,svc_lin_predict)))"
   ]
  },
  {
   "cell_type": "code",
   "execution_count": 68,
   "metadata": {},
   "outputs": [],
   "source": [
    "train_score_list = []\n",
    "test_score_list = []\n",
    "x_range = [0.001, 0.01, 0.1, 1, 10, 100]\n",
    "\n",
    "for alpha in x_range: \n",
    "    model_lin_svc = LinearSVC(C=alpha, random_state=0)\n",
    "    model_lin_svc.fit(X_train_reduced, y_train_smote)\n",
    "    train_score_list.append(model_lin_svc.score(X_train_reduced, y_train_smote))\n",
    "    test_score_list.append(model_lin_svc.score(X_test_reduced, y_test))"
   ]
  },
  {
   "cell_type": "code",
   "execution_count": 69,
   "metadata": {},
   "outputs": [
    {
     "data": {
      "text/plain": [
       "Text(0.5, 0, 'C')"
      ]
     },
     "execution_count": 69,
     "metadata": {},
     "output_type": "execute_result"
    },
    {
     "data": {
      "image/png": "[encoded data removed]",
      "text/plain": [
       "<Figure size 720x576 with 1 Axes>"
      ]
     },
     "metadata": {},
     "output_type": "display_data"
    }
   ],
   "source": [
    "plt.plot(x_range, train_score_list, c = 'g', label = 'Train Score')\n",
    "plt.plot(x_range, test_score_list, c = 'b', label = 'Test Score')\n",
    "plt.xscale('log')\n",
    "plt.legend(loc = 3)\n",
    "plt.xlabel('C')"
   ]
  },
  {
   "cell_type": "markdown",
   "metadata": {},
   "source": [
    "## Kernalized SVC - Linear with PCA:"
   ]
  },
  {
   "cell_type": "code",
   "execution_count": 70,
   "metadata": {},
   "outputs": [
    {
     "data": {
      "text/plain": [
       "GridSearchCV(cv=5, error_score='raise-deprecating',\n",
       "             estimator=SVC(C=1.0, cache_size=200, class_weight=None, coef0=0.0,\n",
       "                           decision_function_shape='ovr', degree=3,\n",
       "                           gamma='auto_deprecated', kernel='linear',\n",
       "                           max_iter=-1, probability=False, random_state=None,\n",
       "                           shrinking=True, tol=0.001, verbose=False),\n",
       "             iid='warn', n_jobs=None,\n",
       "             param_grid={'C': [0.001, 0.01, 0.1, 1, 10, 100]},\n",
       "             pre_dispatch='2*n_jobs', refit=True, return_train_score=False,\n",
       "             scoring=None, verbose=0)"
      ]
     },
     "execution_count": 70,
     "metadata": {},
     "output_type": "execute_result"
    }
   ],
   "source": [
    "from sklearn.svm import SVC\n",
    "lin_svc = SVC(kernel='linear')\n",
    "param_grid = {'C':[0.001, 0.01, 0.1, 1, 10, 100]}\n",
    "\n",
    "grid_linsvc = GridSearchCV(lin_svc, param_grid, cv = 5)\n",
    "grid_linsvc.fit(X_train_reduced, y_train_smote)"
   ]
  },
  {
   "cell_type": "code",
   "execution_count": 71,
   "metadata": {},
   "outputs": [
    {
     "name": "stdout",
     "output_type": "stream",
     "text": [
      "Best Parameters for Kernalized Linear SVC from grid search:  {'C': 1}\n"
     ]
    }
   ],
   "source": [
    "print(\"Best Parameters for Kernalized Linear SVC from grid search: \", grid_linsvc.best_params_)"
   ]
  },
  {
   "cell_type": "code",
   "execution_count": 72,
   "metadata": {},
   "outputs": [
    {
     "data": {
      "text/plain": [
       "SVC(C=1, cache_size=200, class_weight=None, coef0=0.0,\n",
       "    decision_function_shape='ovr', degree=3, gamma='auto_deprecated',\n",
       "    kernel='linear', max_iter=-1, probability=False, random_state=None,\n",
       "    shrinking=True, tol=0.001, verbose=False)"
      ]
     },
     "execution_count": 72,
     "metadata": {},
     "output_type": "execute_result"
    }
   ],
   "source": [
    "linsvc_mod = SVC(kernel='linear',C=1)\n",
    "linsvc_mod.fit(X_train_reduced, y_train_smote)"
   ]
  },
  {
   "cell_type": "code",
   "execution_count": 73,
   "metadata": {},
   "outputs": [],
   "source": [
    "cross_val_scores_linsvc= cross_val_score(linsvc_mod,X_train_reduced, y_train_smote,cv=5)"
   ]
  },
  {
   "cell_type": "code",
   "execution_count": 74,
   "metadata": {},
   "outputs": [
    {
     "name": "stdout",
     "output_type": "stream",
     "text": [
      "The Cross validation scores for the training set is:[0.76353093 0.73870968 0.77096774 0.74064516 0.77096774]\n",
      "The Mean Cross val score for training set is:0.7569642500831394\n"
     ]
    }
   ],
   "source": [
    "print('The Cross validation scores for the training set is:{}'.format(cross_val_scores_linsvc))\n",
    "print('The Mean Cross val score for training set is:{}'.format(np.mean(cross_val_scores_linsvc)))"
   ]
  },
  {
   "cell_type": "code",
   "execution_count": 76,
   "metadata": {},
   "outputs": [
    {
     "name": "stdout",
     "output_type": "stream",
     "text": [
      "              precision    recall  f1-score   support\n",
      "\n",
      "           0       0.92      0.72      0.81      1295\n",
      "           1       0.51      0.82      0.63       465\n",
      "\n",
      "    accuracy                           0.75      1760\n",
      "   macro avg       0.72      0.77      0.72      1760\n",
      "weighted avg       0.81      0.75      0.76      1760\n",
      "\n",
      "The Train score is:0.759545923632611\n",
      "The Test score is:0.7482954545454545\n"
     ]
    }
   ],
   "source": [
    "linsvc_predict = linsvc_mod.predict(X_test_reduced)\n",
    "linsvc_train_predict = linsvc_mod.predict(X_train_reduced)\n",
    "print(classification_report(y_test,linsvc_predict))\n",
    "print('The Train score is:{}'.format(accuracy_score(y_train_smote,linsvc_train_predict)))\n",
    "print('The Test score is:{}'.format(accuracy_score(y_test,linsvc_predict)))"
   ]
  },
  {
   "cell_type": "code",
   "execution_count": 77,
   "metadata": {},
   "outputs": [],
   "source": [
    "train_score_list = []\n",
    "test_score_list = []\n",
    "x_range = [0.001, 0.01, 0.1, 1, 10, 100]\n",
    "\n",
    "for alpha in x_range: \n",
    "    linsvc_mod_range = SVC(kernel='linear',C=alpha)\n",
    "    linsvc_mod_range.fit(X_train_reduced, y_train_smote)\n",
    "    train_score_list.append(linsvc_mod_range.score(X_train_reduced, y_train_smote))\n",
    "    test_score_list.append(linsvc_mod_range.score(X_test_reduced, y_test))"
   ]
  },
  {
   "cell_type": "code",
   "execution_count": 78,
   "metadata": {},
   "outputs": [
    {
     "data": {
      "text/plain": [
       "Text(0.5, 0, 'C')"
      ]
     },
     "execution_count": 78,
     "metadata": {},
     "output_type": "execute_result"
    },
    {
     "data": {
      "image/png": "[encoded data removed]",
      "text/plain": [
       "<Figure size 720x576 with 1 Axes>"
      ]
     },
     "metadata": {},
     "output_type": "display_data"
    }
   ],
   "source": [
    "plt.plot(x_range, train_score_list, c = 'g', label = 'Train Score')\n",
    "plt.plot(x_range, test_score_list, c = 'b', label = 'Test Score')\n",
    "plt.xscale('log')\n",
    "plt.legend(loc = 3)\n",
    "plt.xlabel('C')"
   ]
  },
  {
   "cell_type": "markdown",
   "metadata": {},
   "source": [
    "## Kernalized SVC - rbf with PCA:"
   ]
  },
  {
   "cell_type": "code",
   "execution_count": 79,
   "metadata": {},
   "outputs": [
    {
     "data": {
      "text/plain": [
       "GridSearchCV(cv=5, error_score='raise-deprecating',\n",
       "             estimator=SVC(C=1.0, cache_size=200, class_weight=None, coef0=0.0,\n",
       "                           decision_function_shape='ovr', degree=3,\n",
       "                           gamma='auto_deprecated', kernel='rbf', max_iter=-1,\n",
       "                           probability=False, random_state=None, shrinking=True,\n",
       "                           tol=0.001, verbose=False),\n",
       "             iid='warn', n_jobs=None,\n",
       "             param_grid={'C': [0.001, 0.01, 0.1, 1, 10, 100],\n",
       "                         'gamma': [0.001, 0.01, 0.1, 1]},\n",
       "             pre_dispatch='2*n_jobs', refit=True, return_train_score=False,\n",
       "             scoring=None, verbose=0)"
      ]
     },
     "execution_count": 79,
     "metadata": {},
     "output_type": "execute_result"
    }
   ],
   "source": [
    "svc_rbf = SVC(kernel='rbf')\n",
    "param_grid = {'C':[0.001, 0.01, 0.1, 1, 10, 100],'gamma':[0.001, 0.01, 0.1, 1]}\n",
    "\n",
    "grid_svc_rbf = GridSearchCV(svc_rbf, param_grid, cv = 5)\n",
    "grid_svc_rbf.fit(X_train_reduced, y_train_smote)"
   ]
  },
  {
   "cell_type": "code",
   "execution_count": 80,
   "metadata": {},
   "outputs": [
    {
     "name": "stdout",
     "output_type": "stream",
     "text": [
      "Best Parameters for Kernalized rbf SVC from grid search:  {'C': 1, 'gamma': 1}\n"
     ]
    }
   ],
   "source": [
    "print(\"Best Parameters for Kernalized rbf SVC from grid search: \", grid_svc_rbf.best_params_)"
   ]
  },
  {
   "cell_type": "code",
   "execution_count": 81,
   "metadata": {},
   "outputs": [
    {
     "data": {
      "text/plain": [
       "SVC(C=1, cache_size=200, class_weight=None, coef0=0.0,\n",
       "    decision_function_shape='ovr', degree=3, gamma=1, kernel='rbf', max_iter=-1,\n",
       "    probability=False, random_state=None, shrinking=True, tol=0.001,\n",
       "    verbose=False)"
      ]
     },
     "execution_count": 81,
     "metadata": {},
     "output_type": "execute_result"
    }
   ],
   "source": [
    "svc_rbf_mod = SVC(kernel='rbf',C=1,gamma=1)\n",
    "svc_rbf_mod.fit(X_train_reduced, y_train_smote)"
   ]
  },
  {
   "cell_type": "code",
   "execution_count": 82,
   "metadata": {},
   "outputs": [],
   "source": [
    "cross_val_scores_svc_rbf= cross_val_score(svc_rbf_mod,X_train_reduced, y_train_smote,cv=5)"
   ]
  },
  {
   "cell_type": "code",
   "execution_count": 83,
   "metadata": {},
   "outputs": [
    {
     "name": "stdout",
     "output_type": "stream",
     "text": [
      "The Cross validation scores for the training set is:[0.85889175 0.84193548 0.90258065 0.88322581 0.90967742]\n",
      "The Mean Cross val score for training set is:0.8792622214832058\n"
     ]
    }
   ],
   "source": [
    "print('The Cross validation scores for the training set is:{}'.format(cross_val_scores_svc_rbf))\n",
    "print('The Mean Cross val score for training set is:{}'.format(np.mean(cross_val_scores_svc_rbf)))"
   ]
  },
  {
   "cell_type": "code",
   "execution_count": 85,
   "metadata": {},
   "outputs": [
    {
     "name": "stdout",
     "output_type": "stream",
     "text": [
      "              precision    recall  f1-score   support\n",
      "\n",
      "           0       0.84      0.86      0.85      1295\n",
      "           1       0.58      0.53      0.55       465\n",
      "\n",
      "    accuracy                           0.77      1760\n",
      "   macro avg       0.71      0.70      0.70      1760\n",
      "weighted avg       0.77      0.77      0.77      1760\n",
      "\n",
      "The Train score is:0.9449174406604747\n",
      "The Test score is:0.7727272727272727\n"
     ]
    }
   ],
   "source": [
    "svc_rbf_predict = svc_rbf_mod.predict(X_test_reduced)\n",
    "svc_rbf_predict_train=svc_rbf_mod.predict(X_train_reduced)\n",
    "print(classification_report(y_test,svc_rbf_predict))\n",
    "print('The Train score is:{}'.format(accuracy_score(y_train_smote,svc_rbf_predict_train)))\n",
    "print('The Test score is:{}'.format(accuracy_score(y_test,svc_rbf_predict)))"
   ]
  },
  {
   "cell_type": "code",
   "execution_count": 86,
   "metadata": {},
   "outputs": [],
   "source": [
    "train_score_list = []\n",
    "test_score_list = []\n",
    "x_range = [0.001, 0.01, 0.1, 1, 10, 100]\n",
    "\n",
    "for alpha in x_range: \n",
    "    svc_rbf_mod_range = SVC(kernel='rbf',C=alpha,gamma=1)\n",
    "    svc_rbf_mod_range.fit(X_train_reduced, y_train_smote)\n",
    "    train_score_list.append(svc_rbf_mod_range.score(X_train_reduced, y_train_smote))\n",
    "    test_score_list.append(svc_rbf_mod_range.score(X_test_reduced, y_test))"
   ]
  },
  {
   "cell_type": "code",
   "execution_count": 87,
   "metadata": {},
   "outputs": [
    {
     "data": {
      "text/plain": [
       "Text(0.5, 0, 'C')"
      ]
     },
     "execution_count": 87,
     "metadata": {},
     "output_type": "execute_result"
    },
    {
     "data": {
      "image/png": "[encoded data removed]",
      "text/plain": [
       "<Figure size 720x576 with 1 Axes>"
      ]
     },
     "metadata": {},
     "output_type": "display_data"
    }
   ],
   "source": [
    "plt.plot(x_range, train_score_list, c = 'g', label = 'Train Score')\n",
    "plt.plot(x_range, test_score_list, c = 'b', label = 'Test Score')\n",
    "plt.xscale('log')\n",
    "plt.legend(loc = 3)\n",
    "plt.xlabel('C')"
   ]
  },
  {
   "cell_type": "markdown",
   "metadata": {},
   "source": [
    "## Kernalized SVC - Poly with PCA:"
   ]
  },
  {
   "cell_type": "code",
   "execution_count": 89,
   "metadata": {},
   "outputs": [
    {
     "data": {
      "text/plain": [
       "GridSearchCV(cv=5, error_score='raise-deprecating',\n",
       "             estimator=SVC(C=1.0, cache_size=200, class_weight=None, coef0=0.0,\n",
       "                           decision_function_shape='ovr', degree=3,\n",
       "                           gamma='auto_deprecated', kernel='poly', max_iter=-1,\n",
       "                           probability=False, random_state=None, shrinking=True,\n",
       "                           tol=0.001, verbose=False),\n",
       "             iid='warn', n_jobs=None,\n",
       "             param_grid={'C': [0.001, 0.01, 0.1, 1, 10, 100],\n",
       "                         'degree': [1, 2, 3, 4, 5]},\n",
       "             pre_dispatch='2*n_jobs', refit=True, return_train_score=False,\n",
       "             scoring=None, verbose=0)"
      ]
     },
     "execution_count": 89,
     "metadata": {},
     "output_type": "execute_result"
    }
   ],
   "source": [
    "svc_poly = SVC(kernel='poly')\n",
    "param_grid = {'C':[0.001, 0.01, 0.1, 1, 10, 100],'degree':[1,2,3,4,5]}\n",
    "\n",
    "grid_svc_poly = GridSearchCV(svc_poly, param_grid, cv = 5)\n",
    "grid_svc_poly.fit(X_train_reduced, y_train_smote)"
   ]
  },
  {
   "cell_type": "code",
   "execution_count": 90,
   "metadata": {},
   "outputs": [
    {
     "name": "stdout",
     "output_type": "stream",
     "text": [
      "Best Parameters for Kernalized Poly SVC from grid search:  {'C': 100, 'degree': 3}\n"
     ]
    }
   ],
   "source": [
    "print(\"Best Parameters for Kernalized Poly SVC from grid search: \", grid_svc_poly.best_params_)"
   ]
  },
  {
   "cell_type": "code",
   "execution_count": 91,
   "metadata": {},
   "outputs": [
    {
     "data": {
      "text/plain": [
       "SVC(C=100, cache_size=200, class_weight=None, coef0=0.0,\n",
       "    decision_function_shape='ovr', degree=3, gamma='auto_deprecated',\n",
       "    kernel='poly', max_iter=-1, probability=False, random_state=None,\n",
       "    shrinking=True, tol=0.001, verbose=False)"
      ]
     },
     "execution_count": 91,
     "metadata": {},
     "output_type": "execute_result"
    }
   ],
   "source": [
    "svc_poly_mod = SVC(kernel='poly',C=100,degree=3)\n",
    "svc_poly_mod.fit(X_train_reduced, y_train_smote)"
   ]
  },
  {
   "cell_type": "code",
   "execution_count": 92,
   "metadata": {},
   "outputs": [],
   "source": [
    "cross_val_scores_svc_poly= cross_val_score(svc_poly_mod,X_train_reduced, y_train_smote,cv=5)"
   ]
  },
  {
   "cell_type": "code",
   "execution_count": 93,
   "metadata": {},
   "outputs": [
    {
     "name": "stdout",
     "output_type": "stream",
     "text": [
      "The Cross validation scores for the training set is:[0.77706186 0.77290323 0.8083871  0.80516129 0.81419355]\n",
      "The Mean Cross val score for training set is:0.7955414033920851\n"
     ]
    }
   ],
   "source": [
    "print('The Cross validation scores for the training set is:{}'.format(cross_val_scores_svc_poly))\n",
    "print('The Mean Cross val score for training set is:{}'.format(np.mean(cross_val_scores_svc_poly)))"
   ]
  },
  {
   "cell_type": "code",
   "execution_count": 94,
   "metadata": {},
   "outputs": [
    {
     "name": "stdout",
     "output_type": "stream",
     "text": [
      "              precision    recall  f1-score   support\n",
      "\n",
      "           0       0.90      0.73      0.80      1295\n",
      "           1       0.50      0.77      0.61       465\n",
      "\n",
      "    accuracy                           0.74      1760\n",
      "   macro avg       0.70      0.75      0.70      1760\n",
      "weighted avg       0.79      0.74      0.75      1760\n",
      "\n",
      "The Train score is:0.8503611971104231\n",
      "The Test score is:0.7363636363636363\n"
     ]
    }
   ],
   "source": [
    "svc_poly_predict = svc_poly_mod.predict(X_test_reduced)\n",
    "svc_poly_predict_train=svc_poly_mod.predict(X_train_reduced)\n",
    "print(classification_report(y_test,svc_poly_predict))\n",
    "print('The Train score is:{}'.format(accuracy_score(y_train_smote,svc_poly_predict_train)))\n",
    "print('The Test score is:{}'.format(accuracy_score(y_test,svc_poly_predict)))"
   ]
  },
  {
   "cell_type": "code",
   "execution_count": 97,
   "metadata": {},
   "outputs": [],
   "source": [
    "train_score_list = []\n",
    "test_score_list = []\n",
    "x_range = [0.001, 0.01, 0.1, 1, 10, 100]\n",
    "\n",
    "for alpha in x_range: \n",
    "    svc_poly_mod_range = SVC(kernel='poly',C=alpha,degree=3)\n",
    "    svc_poly_mod_range.fit(X_train_reduced, y_train_smote)\n",
    "    train_score_list.append(svc_poly_mod_range.score(X_train_reduced, y_train_smote))\n",
    "    test_score_list.append(svc_poly_mod_range.score(X_test_reduced, y_test))"
   ]
  },
  {
   "cell_type": "code",
   "execution_count": 98,
   "metadata": {},
   "outputs": [
    {
     "data": {
      "text/plain": [
       "Text(0.5, 0, 'C')"
      ]
     },
     "execution_count": 98,
     "metadata": {},
     "output_type": "execute_result"
    },
    {
     "data": {
      "image/png": "[encoded data removed]",
      "text/plain": [
       "<Figure size 720x576 with 1 Axes>"
      ]
     },
     "metadata": {},
     "output_type": "display_data"
    }
   ],
   "source": [
    "plt.plot(x_range, train_score_list, c = 'g', label = 'Train Score')\n",
    "plt.plot(x_range, test_score_list, c = 'b', label = 'Test Score')\n",
    "plt.xscale('log')\n",
    "plt.legend(loc = 3)\n",
    "plt.xlabel('C')"
   ]
  },
  {
   "cell_type": "markdown",
   "metadata": {},
   "source": [
    "# Decision Tree with PCA:"
   ]
  },
  {
   "cell_type": "code",
   "execution_count": 100,
   "metadata": {},
   "outputs": [
    {
     "data": {
      "text/plain": [
       "GridSearchCV(cv=5, error_score='raise-deprecating',\n",
       "             estimator=DecisionTreeClassifier(class_weight=None,\n",
       "                                              criterion='gini', max_depth=None,\n",
       "                                              max_features=None,\n",
       "                                              max_leaf_nodes=None,\n",
       "                                              min_impurity_decrease=0.0,\n",
       "                                              min_impurity_split=None,\n",
       "                                              min_samples_leaf=1,\n",
       "                                              min_samples_split=2,\n",
       "                                              min_weight_fraction_leaf=0.0,\n",
       "                                              presort=False, random_state=None,\n",
       "                                              splitter='best'),\n",
       "             iid='warn', n_jobs=None,\n",
       "             param_grid={'max_depth': array([ 1,  2,  3,  4,  5,  6,  7,  8,  9, 10, 11, 12, 13, 14, 15, 16, 17,\n",
       "       18, 19])},\n",
       "             pre_dispatch='2*n_jobs', refit=True, return_train_score=False,\n",
       "             scoring=None, verbose=0)"
      ]
     },
     "execution_count": 100,
     "metadata": {},
     "output_type": "execute_result"
    }
   ],
   "source": [
    "%matplotlib notebook\n",
    "from sklearn.tree import DecisionTreeClassifier\n",
    "\n",
    "param_grid = {'max_depth': np.arange(1, 20)}\n",
    "\n",
    "grid_tree = GridSearchCV(DecisionTreeClassifier(), param_grid,cv = 5)\n",
    "grid_tree.fit(X_train_reduced, y_train_smote)"
   ]
  },
  {
   "cell_type": "code",
   "execution_count": 101,
   "metadata": {},
   "outputs": [
    {
     "name": "stdout",
     "output_type": "stream",
     "text": [
      "Best Parameters for decision tree from grid search:  {'max_depth': 15}\n"
     ]
    }
   ],
   "source": [
    "print(\"Best Parameters for decision tree from grid search: \", grid_tree.best_params_)"
   ]
  },
  {
   "cell_type": "code",
   "execution_count": 105,
   "metadata": {},
   "outputs": [
    {
     "data": {
      "text/plain": [
       "DecisionTreeClassifier(class_weight=None, criterion='gini', max_depth=15,\n",
       "                       max_features=None, max_leaf_nodes=None,\n",
       "                       min_impurity_decrease=0.0, min_impurity_split=None,\n",
       "                       min_samples_leaf=1, min_samples_split=2,\n",
       "                       min_weight_fraction_leaf=0.0, presort=False,\n",
       "                       random_state=0, splitter='best')"
      ]
     },
     "execution_count": 105,
     "metadata": {},
     "output_type": "execute_result"
    }
   ],
   "source": [
    "dtree = DecisionTreeClassifier(max_depth=15, random_state=0)\n",
    "dtree.fit(X_train_reduced, y_train_smote)"
   ]
  },
  {
   "cell_type": "code",
   "execution_count": 106,
   "metadata": {},
   "outputs": [],
   "source": [
    "cross_val_scores_dtree= cross_val_score(dtree,X_train_reduced, y_train_smote,cv=5)"
   ]
  },
  {
   "cell_type": "code",
   "execution_count": 107,
   "metadata": {},
   "outputs": [
    {
     "name": "stdout",
     "output_type": "stream",
     "text": [
      "The Cross validation scores for the training set is:[0.75708763 0.74516129 0.80129032 0.78580645 0.82      ]\n",
      "The Mean Cross val score for training set is:0.7818691386764216\n"
     ]
    }
   ],
   "source": [
    "print('The Cross validation scores for the training set is:{}'.format(cross_val_scores_dtree))\n",
    "print('The Mean Cross val score for training set is:{}'.format(np.mean(cross_val_scores_dtree)))"
   ]
  },
  {
   "cell_type": "code",
   "execution_count": 108,
   "metadata": {},
   "outputs": [
    {
     "name": "stdout",
     "output_type": "stream",
     "text": [
      "              precision    recall  f1-score   support\n",
      "\n",
      "           0       0.85      0.77      0.81      1295\n",
      "           1       0.50      0.63      0.55       465\n",
      "\n",
      "    accuracy                           0.73      1760\n",
      "   macro avg       0.67      0.70      0.68      1760\n",
      "weighted avg       0.76      0.73      0.74      1760\n",
      "\n",
      "The Train score is:0.9592363261093911\n",
      "The Test score is:0.7329545454545454\n"
     ]
    }
   ],
   "source": [
    "dtree_predict = dtree.predict(X_test_reduced)\n",
    "dtree_predict_train=dtree.predict(X_train_reduced)\n",
    "print(classification_report(y_test,dtree_predict))\n",
    "print('The Train score is:{}'.format(accuracy_score(y_train_smote,dtree_predict_train)))\n",
    "print('The Test score is:{}'.format(accuracy_score(y_test,dtree_predict)))"
   ]
  },
  {
   "cell_type": "code",
   "execution_count": 109,
   "metadata": {},
   "outputs": [
    {
     "data": {
      "text/plain": [
       "array([0.10205633, 0.33258285, 0.04912352, 0.02567679, 0.03542638,\n",
       "       0.03842667, 0.02056358, 0.02716891, 0.03308847, 0.03355369,\n",
       "       0.01850226, 0.01580256, 0.02634677, 0.02455096, 0.02736291,\n",
       "       0.02730635, 0.02559153, 0.02601198, 0.03553632, 0.03171818,\n",
       "       0.04360299])"
      ]
     },
     "execution_count": 109,
     "metadata": {},
     "output_type": "execute_result"
    }
   ],
   "source": [
    "dtree.feature_importances_"
   ]
  },
  {
   "cell_type": "code",
   "execution_count": 120,
   "metadata": {},
   "outputs": [],
   "source": [
    "train_score_list = []\n",
    "test_score_list = []\n",
    "max_dep = np.arange(5, 20)\n",
    "\n",
    "for depth in max_dep: \n",
    "    model_dtree = DecisionTreeClassifier(max_depth=depth)\n",
    "    model_dtree.fit(X_train_reduced,y_train_smote)\n",
    "    train_score_list.append(model_dtree.score(X_train_reduced,y_train_smote))\n",
    "    test_score_list.append(model_dtree.score(X_test_reduced, y_test))"
   ]
  },
  {
   "cell_type": "code",
   "execution_count": 124,
   "metadata": {},
   "outputs": [
    {
     "data": {
      "text/plain": [
       "Text(0.5, 0, 'Max_Depth')"
      ]
     },
     "execution_count": 124,
     "metadata": {},
     "output_type": "execute_result"
    },
    {
     "data": {
      "image/png": "[encoded data removed]",
      "text/plain": [
       "<Figure size 864x720 with 1 Axes>"
      ]
     },
     "metadata": {},
     "output_type": "display_data"
    }
   ],
   "source": [
    "plt.plot(max_dep, train_score_list, c = 'g', label = 'Train Score')\n",
    "plt.plot(max_dep, test_score_list, c = 'b', label = 'Test Score')\n",
    "plt.legend(loc = 3)\n",
    "plt.xlabel('Max_Depth')"
   ]
  },
  {
   "cell_type": "markdown",
   "metadata": {},
   "source": [
    "### The decision tree with Max_depth as 15 clearly overfits the dataset."
   ]
  },
  {
   "cell_type": "markdown",
   "metadata": {},
   "source": [
    "## Neural Networks"
   ]
  },
  {
   "cell_type": "code",
   "execution_count": 176,
   "metadata": {},
   "outputs": [],
   "source": [
    "from keras.models import Sequential\n",
    "from keras.layers import Dense,Dropout\n",
    "np.random.seed(0)"
   ]
  },
  {
   "cell_type": "code",
   "execution_count": 177,
   "metadata": {},
   "outputs": [
    {
     "name": "stdout",
     "output_type": "stream",
     "text": [
      "Epoch 1/20\n",
      "7752/7752 [==============================] - 2s 247us/step - loss: 0.6835 - acc: 0.5971\n",
      "Epoch 2/20\n",
      "7752/7752 [==============================] - 1s 74us/step - loss: 0.5654 - acc: 0.7101\n",
      "Epoch 3/20\n",
      "7752/7752 [==============================] - 1s 79us/step - loss: 0.5337 - acc: 0.7419\n",
      "Epoch 4/20\n",
      "7752/7752 [==============================] - 1s 76us/step - loss: 0.5196 - acc: 0.7474\n",
      "Epoch 5/20\n",
      "7752/7752 [==============================] - 1s 67us/step - loss: 0.5098 - acc: 0.7567\n",
      "Epoch 6/20\n",
      "7752/7752 [==============================] - 1s 65us/step - loss: 0.5123 - acc: 0.7532\n",
      "Epoch 7/20\n",
      "7752/7752 [==============================] - 0s 63us/step - loss: 0.5071 - acc: 0.7606\n",
      "Epoch 8/20\n",
      "7752/7752 [==============================] - 0s 62us/step - loss: 0.4981 - acc: 0.7564\n",
      "Epoch 9/20\n",
      "7752/7752 [==============================] - 0s 60us/step - loss: 0.4945 - acc: 0.7608\n",
      "Epoch 10/20\n",
      "7752/7752 [==============================] - 0s 63us/step - loss: 0.4951 - acc: 0.7634\n",
      "Epoch 11/20\n",
      "7752/7752 [==============================] - 0s 62us/step - loss: 0.4973 - acc: 0.7655\n",
      "Epoch 12/20\n",
      "7752/7752 [==============================] - 0s 60us/step - loss: 0.4931 - acc: 0.7666\n",
      "Epoch 13/20\n",
      "7752/7752 [==============================] - 0s 60us/step - loss: 0.4888 - acc: 0.7656\n",
      "Epoch 14/20\n",
      "7752/7752 [==============================] - 0s 62us/step - loss: 0.4869 - acc: 0.7712\n",
      "Epoch 15/20\n",
      "7752/7752 [==============================] - 1s 65us/step - loss: 0.4865 - acc: 0.7696\n",
      "Epoch 16/20\n",
      "7752/7752 [==============================] - 0s 63us/step - loss: 0.4851 - acc: 0.7691\n",
      "Epoch 17/20\n",
      "7752/7752 [==============================] - 0s 63us/step - loss: 0.4836 - acc: 0.7740\n",
      "Epoch 18/20\n",
      "7752/7752 [==============================] - 1s 66us/step - loss: 0.4804 - acc: 0.7713\n",
      "Epoch 19/20\n",
      "7752/7752 [==============================] - 0s 62us/step - loss: 0.4797 - acc: 0.7737\n",
      "Epoch 20/20\n",
      "7752/7752 [==============================] - 0s 62us/step - loss: 0.4789 - acc: 0.7750\n"
     ]
    },
    {
     "data": {
      "text/plain": [
       "<keras.callbacks.History at 0x22fb30617f0>"
      ]
     },
     "execution_count": 177,
     "metadata": {},
     "output_type": "execute_result"
    }
   ],
   "source": [
    "## Definining the model \n",
    "model = Sequential()\n",
    "model.add(Dense(31, input_dim = 31, activation = 'relu'))\n",
    "## Dropout layer is used to prevent overfitting\n",
    "model.add(Dropout(0.50))\n",
    "model.add(Dense(10,activation='relu'))\n",
    "model.add(Dropout(0.30))\n",
    "### since we are doing a binary classification we are using a sigmoid activation function \n",
    "model.add(Dense(1,activation='sigmoid'))\n",
    "\n",
    "model.compile(loss = 'binary_crossentropy', optimizer = 'adam', metrics = ['accuracy'])\n",
    "\n",
    "model.fit(X_train_smote, y_train_smote, epochs = 20, batch_size = 50)"
   ]
  },
  {
   "cell_type": "code",
   "execution_count": 178,
   "metadata": {},
   "outputs": [
    {
     "name": "stdout",
     "output_type": "stream",
     "text": [
      "NN Train Score:  0.7892156862745098\n",
      "NN Test Score:  0.7659090909090909\n"
     ]
    }
   ],
   "source": [
    "from sklearn.metrics import accuracy_score\n",
    "y_train_pred = model.predict(X_train_smote)\n",
    "y_train_pred = np.where(y_train_pred >= 0.5 , 1, 0)\n",
    "y_test_pred = model.predict(X_test)\n",
    "y_test_pred = np.where(y_test_pred >= 0.5 , 1, 0)\n",
    "print(\"NN Train Score: \",accuracy_score(y_train_smote, y_train_pred))\n",
    "print(\"NN Test Score: \", accuracy_score(y_test, y_test_pred))"
   ]
  },
  {
   "cell_type": "markdown",
   "metadata": {},
   "source": [
    "### The neural network performs decently and it is not overfitting"
   ]
  },
  {
   "cell_type": "markdown",
   "metadata": {},
   "source": [
    "## Comparision between model with PCA and Without PCA"
   ]
  },
  {
   "cell_type": "code",
   "execution_count": 153,
   "metadata": {},
   "outputs": [],
   "source": [
    "import pandas as pd\n",
    "df_index=['KNN','Logistic','Linear SVC','SVC Linear Kernel','SVC rbf Kernel','SVC Poly Kernel','Decision Tree']\n",
    "Classification_Result_PCA=pd.DataFrame(columns=['Model_Name','Best_Parameter','Training_score','CV_Score','Testing_score','F1_score','Recall'],index=df_index)\n",
    "Classification_Result_PCA['Model_Name']=Classification_Result_PCA.index"
   ]
  },
  {
   "cell_type": "code",
   "execution_count": 163,
   "metadata": {},
   "outputs": [],
   "source": [
    "### Results for KNN\n",
    "Classification_Result_PCA.loc['KNN']['Best_Parameter']='K=6'\n",
    "Classification_Result_PCA.loc['KNN']['Training_score']=0.8608\n",
    "Classification_Result_PCA.loc['KNN']['CV_Score']=0.8054\n",
    "Classification_Result_PCA.loc['KNN']['Testing_score']=0.7431\n",
    "Classification_Result_PCA.loc['KNN']['F1_score']=0.51\n",
    "Classification_Result_PCA.loc['KNN']['Recall']=0.67"
   ]
  },
  {
   "cell_type": "code",
   "execution_count": 164,
   "metadata": {},
   "outputs": [],
   "source": [
    "### Results for Logistic Regression\n",
    "Classification_Result_PCA.loc['Logistic']['Best_Parameter']='C=0.1'\n",
    "Classification_Result_PCA.loc['Logistic']['Training_score']=0.7662\n",
    "Classification_Result_PCA.loc['Logistic']['CV_Score']=0.7658\n",
    "Classification_Result_PCA.loc['Logistic']['Testing_score']=0.7681\n",
    "Classification_Result_PCA.loc['Logistic']['F1_score']=0.54\n",
    "Classification_Result_PCA.loc['Logistic']['Recall']=0.80"
   ]
  },
  {
   "cell_type": "code",
   "execution_count": 165,
   "metadata": {},
   "outputs": [],
   "source": [
    "### Results for Linear SVC\n",
    "Classification_Result_PCA.loc['Linear SVC']['Best_Parameter']='C=1'\n",
    "Classification_Result_PCA.loc['Linear SVC']['Training_score']=0.7656\n",
    "Classification_Result_PCA.loc['Linear SVC']['CV_Score']=0.7644\n",
    "Classification_Result_PCA.loc['Linear SVC']['Testing_score']=0.7636\n",
    "Classification_Result_PCA.loc['Linear SVC']['F1_score']=0.54\n",
    "Classification_Result_PCA.loc['Linear SVC']['Recall']=0.80"
   ]
  },
  {
   "cell_type": "code",
   "execution_count": 166,
   "metadata": {},
   "outputs": [],
   "source": [
    "### Results for SVC Linear Kernel\n",
    "Classification_Result_PCA.loc['SVC Linear Kernel']['Best_Parameter']='C=1'\n",
    "Classification_Result_PCA.loc['SVC Linear Kernel']['Training_score']=0.7595\n",
    "Classification_Result_PCA.loc['SVC Linear Kernel']['CV_Score']=0.7569\n",
    "Classification_Result_PCA.loc['SVC Linear Kernel']['Testing_score']=0.7482\n",
    "Classification_Result_PCA.loc['SVC Linear Kernel']['F1_score']=0.51\n",
    "Classification_Result_PCA.loc['SVC Linear Kernel']['Recall']=0.82"
   ]
  },
  {
   "cell_type": "code",
   "execution_count": 167,
   "metadata": {},
   "outputs": [],
   "source": [
    "### Results for SVC rbf Kernel\n",
    "Classification_Result_PCA.loc['SVC rbf Kernel']['Best_Parameter']='c= 1, gamma =1'\n",
    "Classification_Result_PCA.loc['SVC rbf Kernel']['Training_score']=0.9449\n",
    "Classification_Result_PCA.loc['SVC rbf Kernel']['CV_Score']=0.8792\n",
    "Classification_Result_PCA.loc['SVC rbf Kernel']['Testing_score']=0.7727\n",
    "Classification_Result_PCA.loc['SVC rbf Kernel']['F1_score']=0.58 \n",
    "Classification_Result_PCA.loc['SVC rbf Kernel']['Recall']=0.53"
   ]
  },
  {
   "cell_type": "code",
   "execution_count": 168,
   "metadata": {},
   "outputs": [],
   "source": [
    "### Results for SVC Poly Kernel\n",
    "Classification_Result_PCA.loc['SVC Poly Kernel']['Best_Parameter']='C= 100 ,degree =3'\n",
    "Classification_Result_PCA.loc['SVC Poly Kernel']['Training_score']=0.8503\n",
    "Classification_Result_PCA.loc['SVC Poly Kernel']['CV_Score']=0.7955\n",
    "Classification_Result_PCA.loc['SVC Poly Kernel']['Testing_score']=0.7363\n",
    "Classification_Result_PCA.loc['SVC Poly Kernel']['F1_score']=0.50\n",
    "Classification_Result_PCA.loc['SVC Poly Kernel']['Recall']=0.77"
   ]
  },
  {
   "cell_type": "code",
   "execution_count": 169,
   "metadata": {},
   "outputs": [],
   "source": [
    "### Results for Decision Tree\n",
    "Classification_Result_PCA.loc['Decision Tree']['Best_Parameter']='Max_depth =15'\n",
    "Classification_Result_PCA.loc['Decision Tree']['Training_score']=0.9592\n",
    "Classification_Result_PCA.loc['Decision Tree']['CV_Score']=0.7818\n",
    "Classification_Result_PCA.loc['Decision Tree']['Testing_score']=0.7329\n",
    "Classification_Result_PCA.loc['Decision Tree']['F1_score']=0.50\n",
    "Classification_Result_PCA.loc['Decision Tree']['Recall']=0.63"
   ]
  },
  {
   "cell_type": "markdown",
   "metadata": {},
   "source": [
    "## classification result with PCA"
   ]
  },
  {
   "cell_type": "code",
   "execution_count": 170,
   "metadata": {},
   "outputs": [
    {
     "data": {
      "text/html": [
       "<div>\n",
       "<style scoped>\n",
       "    .dataframe tbody tr th:only-of-type {\n",
       "        vertical-align: middle;\n",
       "    }\n",
       "\n",
       "    .dataframe tbody tr th {\n",
       "        vertical-align: top;\n",
       "    }\n",
       "\n",
       "    .dataframe thead th {\n",
       "        text-align: right;\n",
       "    }\n",
       "</style>\n",
       "<table border=\"1\" class=\"dataframe\">\n",
       "  <thead>\n",
       "    <tr style=\"text-align: right;\">\n",
       "      <th></th>\n",
       "      <th>Model_Name</th>\n",
       "      <th>Best_Parameter</th>\n",
       "      <th>Training_score</th>\n",
       "      <th>CV_Score</th>\n",
       "      <th>Testing_score</th>\n",
       "      <th>F1_score</th>\n",
       "      <th>Recall</th>\n",
       "    </tr>\n",
       "  </thead>\n",
       "  <tbody>\n",
       "    <tr>\n",
       "      <th>KNN</th>\n",
       "      <td>KNN</td>\n",
       "      <td>K=6</td>\n",
       "      <td>0.8608</td>\n",
       "      <td>0.8054</td>\n",
       "      <td>0.7431</td>\n",
       "      <td>0.51</td>\n",
       "      <td>0.67</td>\n",
       "    </tr>\n",
       "    <tr>\n",
       "      <th>Logistic</th>\n",
       "      <td>Logistic</td>\n",
       "      <td>C=0.1</td>\n",
       "      <td>0.7662</td>\n",
       "      <td>0.7658</td>\n",
       "      <td>0.7681</td>\n",
       "      <td>0.54</td>\n",
       "      <td>0.8</td>\n",
       "    </tr>\n",
       "    <tr>\n",
       "      <th>Linear SVC</th>\n",
       "      <td>Linear SVC</td>\n",
       "      <td>C=1</td>\n",
       "      <td>0.7656</td>\n",
       "      <td>0.7644</td>\n",
       "      <td>0.7636</td>\n",
       "      <td>0.54</td>\n",
       "      <td>0.8</td>\n",
       "    </tr>\n",
       "    <tr>\n",
       "      <th>SVC Linear Kernel</th>\n",
       "      <td>SVC Linear Kernel</td>\n",
       "      <td>C=1</td>\n",
       "      <td>0.7595</td>\n",
       "      <td>0.7569</td>\n",
       "      <td>0.7482</td>\n",
       "      <td>0.51</td>\n",
       "      <td>0.82</td>\n",
       "    </tr>\n",
       "    <tr>\n",
       "      <th>SVC rbf Kernel</th>\n",
       "      <td>SVC rbf Kernel</td>\n",
       "      <td>c= 1, gamma =1</td>\n",
       "      <td>0.9449</td>\n",
       "      <td>0.8792</td>\n",
       "      <td>0.7727</td>\n",
       "      <td>0.58</td>\n",
       "      <td>0.53</td>\n",
       "    </tr>\n",
       "    <tr>\n",
       "      <th>SVC Poly Kernel</th>\n",
       "      <td>SVC Poly Kernel</td>\n",
       "      <td>C= 100 ,degree =3</td>\n",
       "      <td>0.8503</td>\n",
       "      <td>0.7955</td>\n",
       "      <td>0.7363</td>\n",
       "      <td>0.5</td>\n",
       "      <td>0.77</td>\n",
       "    </tr>\n",
       "    <tr>\n",
       "      <th>Decision Tree</th>\n",
       "      <td>Decision Tree</td>\n",
       "      <td>Max_depth =15</td>\n",
       "      <td>0.9592</td>\n",
       "      <td>0.7818</td>\n",
       "      <td>0.7329</td>\n",
       "      <td>0.5</td>\n",
       "      <td>0.63</td>\n",
       "    </tr>\n",
       "  </tbody>\n",
       "</table>\n",
       "</div>"
      ],
      "text/plain": [
       "                          Model_Name     Best_Parameter Training_score  \\\n",
       "KNN                              KNN                K=6         0.8608   \n",
       "Logistic                    Logistic              C=0.1         0.7662   \n",
       "Linear SVC                Linear SVC                C=1         0.7656   \n",
       "SVC Linear Kernel  SVC Linear Kernel                C=1         0.7595   \n",
       "SVC rbf Kernel        SVC rbf Kernel     c= 1, gamma =1         0.9449   \n",
       "SVC Poly Kernel      SVC Poly Kernel  C= 100 ,degree =3         0.8503   \n",
       "Decision Tree          Decision Tree      Max_depth =15         0.9592   \n",
       "\n",
       "                  CV_Score Testing_score F1_score Recall  \n",
       "KNN                 0.8054        0.7431     0.51   0.67  \n",
       "Logistic            0.7658        0.7681     0.54    0.8  \n",
       "Linear SVC          0.7644        0.7636     0.54    0.8  \n",
       "SVC Linear Kernel   0.7569        0.7482     0.51   0.82  \n",
       "SVC rbf Kernel      0.8792        0.7727     0.58   0.53  \n",
       "SVC Poly Kernel     0.7955        0.7363      0.5   0.77  \n",
       "Decision Tree       0.7818        0.7329      0.5   0.63  "
      ]
     },
     "execution_count": 170,
     "metadata": {},
     "output_type": "execute_result"
    }
   ],
   "source": [
    "Classification_Result_PCA"
   ]
  },
  {
   "cell_type": "markdown",
   "metadata": {},
   "source": [
    "## Classification_Result without PCA"
   ]
  },
  {
   "cell_type": "code",
   "execution_count": 127,
   "metadata": {},
   "outputs": [],
   "source": [
    "Model_without_PCA=pd.read_excel('C:\\\\Users\\\\santh\\\\Box Sync\\\\Fall 2018 (sxl175430@utdallas.edu)\\\\Fall 19\\\\AML\\\\Project\\\\Project2\\\\Project1_Results.xlsx',index_col='Unnamed: 0')"
   ]
  },
  {
   "cell_type": "code",
   "execution_count": 128,
   "metadata": {},
   "outputs": [
    {
     "data": {
      "text/html": [
       "<div>\n",
       "<style scoped>\n",
       "    .dataframe tbody tr th:only-of-type {\n",
       "        vertical-align: middle;\n",
       "    }\n",
       "\n",
       "    .dataframe tbody tr th {\n",
       "        vertical-align: top;\n",
       "    }\n",
       "\n",
       "    .dataframe thead th {\n",
       "        text-align: right;\n",
       "    }\n",
       "</style>\n",
       "<table border=\"1\" class=\"dataframe\">\n",
       "  <thead>\n",
       "    <tr style=\"text-align: right;\">\n",
       "      <th></th>\n",
       "      <th>Model_Name</th>\n",
       "      <th>Best_Parameter</th>\n",
       "      <th>Training_score</th>\n",
       "      <th>CV_Score</th>\n",
       "      <th>Testing_score</th>\n",
       "      <th>F1_score</th>\n",
       "      <th>Recall</th>\n",
       "    </tr>\n",
       "  </thead>\n",
       "  <tbody>\n",
       "    <tr>\n",
       "      <th>KNN</th>\n",
       "      <td>KNN</td>\n",
       "      <td>K=6</td>\n",
       "      <td>0.8637</td>\n",
       "      <td>0.8052</td>\n",
       "      <td>0.7346</td>\n",
       "      <td>0.57</td>\n",
       "      <td>0.66</td>\n",
       "    </tr>\n",
       "    <tr>\n",
       "      <th>Logistic</th>\n",
       "      <td>Logistic</td>\n",
       "      <td>C=100</td>\n",
       "      <td>0.7697</td>\n",
       "      <td>0.7675</td>\n",
       "      <td>0.7687</td>\n",
       "      <td>0.65</td>\n",
       "      <td>0.82</td>\n",
       "    </tr>\n",
       "    <tr>\n",
       "      <th>Linear SVC</th>\n",
       "      <td>Linear SVC</td>\n",
       "      <td>C=1</td>\n",
       "      <td>0.7688</td>\n",
       "      <td>0.7656</td>\n",
       "      <td>0.7681</td>\n",
       "      <td>0.65</td>\n",
       "      <td>0.82</td>\n",
       "    </tr>\n",
       "    <tr>\n",
       "      <th>SVC Linear Kernel</th>\n",
       "      <td>SVC Linear Kernel</td>\n",
       "      <td>C=1</td>\n",
       "      <td>0.7640</td>\n",
       "      <td>0.7603</td>\n",
       "      <td>0.7539</td>\n",
       "      <td>0.64</td>\n",
       "      <td>0.83</td>\n",
       "    </tr>\n",
       "    <tr>\n",
       "      <th>SVC rbf Kernel</th>\n",
       "      <td>SVC rbf Kernel</td>\n",
       "      <td>c= 100, gamma =1</td>\n",
       "      <td>0.9691</td>\n",
       "      <td>0.8842</td>\n",
       "      <td>0.7636</td>\n",
       "      <td>0.51</td>\n",
       "      <td>0.46</td>\n",
       "    </tr>\n",
       "    <tr>\n",
       "      <th>SVC Poly Kernel</th>\n",
       "      <td>SVC Poly Kernel</td>\n",
       "      <td>C= 100 ,degree =3</td>\n",
       "      <td>0.9691</td>\n",
       "      <td>0.8842</td>\n",
       "      <td>0.7636</td>\n",
       "      <td>0.51</td>\n",
       "      <td>0.46</td>\n",
       "    </tr>\n",
       "    <tr>\n",
       "      <th>Decision Tree</th>\n",
       "      <td>Decision Tree</td>\n",
       "      <td>Max_depth =11</td>\n",
       "      <td>0.9057</td>\n",
       "      <td>0.7936</td>\n",
       "      <td>0.7397</td>\n",
       "      <td>0.56</td>\n",
       "      <td>0.64</td>\n",
       "    </tr>\n",
       "  </tbody>\n",
       "</table>\n",
       "</div>"
      ],
      "text/plain": [
       "                          Model_Name     Best_Parameter  Training_score  \\\n",
       "KNN                              KNN                K=6          0.8637   \n",
       "Logistic                    Logistic              C=100          0.7697   \n",
       "Linear SVC                Linear SVC                C=1          0.7688   \n",
       "SVC Linear Kernel  SVC Linear Kernel                C=1          0.7640   \n",
       "SVC rbf Kernel        SVC rbf Kernel   c= 100, gamma =1          0.9691   \n",
       "SVC Poly Kernel      SVC Poly Kernel  C= 100 ,degree =3          0.9691   \n",
       "Decision Tree          Decision Tree      Max_depth =11          0.9057   \n",
       "\n",
       "                   CV_Score  Testing_score  F1_score  Recall  \n",
       "KNN                  0.8052         0.7346      0.57    0.66  \n",
       "Logistic             0.7675         0.7687      0.65    0.82  \n",
       "Linear SVC           0.7656         0.7681      0.65    0.82  \n",
       "SVC Linear Kernel    0.7603         0.7539      0.64    0.83  \n",
       "SVC rbf Kernel       0.8842         0.7636      0.51    0.46  \n",
       "SVC Poly Kernel      0.8842         0.7636      0.51    0.46  \n",
       "Decision Tree        0.7936         0.7397      0.56    0.64  "
      ]
     },
     "execution_count": 128,
     "metadata": {},
     "output_type": "execute_result"
    }
   ],
   "source": [
    "Model_without_PCA"
   ]
  },
  {
   "cell_type": "code",
   "execution_count": 171,
   "metadata": {},
   "outputs": [
    {
     "data": {
      "text/plain": [
       "<matplotlib.axes._subplots.AxesSubplot at 0x22fb3b545c0>"
      ]
     },
     "execution_count": 171,
     "metadata": {},
     "output_type": "execute_result"
    },
    {
     "data": {
      "image/png": "[encoded data removed]",
      "text/plain": [
       "<Figure size 864x720 with 1 Axes>"
      ]
     },
     "metadata": {},
     "output_type": "display_data"
    }
   ],
   "source": [
    "Classification_Result_PCA[['Training_score','CV_Score','Testing_score','F1_score','Recall']].plot(kind='bar')"
   ]
  },
  {
   "cell_type": "code",
   "execution_count": 172,
   "metadata": {},
   "outputs": [
    {
     "data": {
      "text/plain": [
       "<matplotlib.axes._subplots.AxesSubplot at 0x22fb35da5c0>"
      ]
     },
     "execution_count": 172,
     "metadata": {},
     "output_type": "execute_result"
    },
    {
     "data": {
      "image/png": "[encoded data removed]",
      "text/plain": [
       "<Figure size 864x720 with 1 Axes>"
      ]
     },
     "metadata": {},
     "output_type": "display_data"
    }
   ],
   "source": [
    "Model_without_PCA[['Training_score','CV_Score','Testing_score','F1_score','Recall']].plot(kind='bar')"
   ]
  },
  {
   "cell_type": "markdown",
   "metadata": {},
   "source": [
    "### Evaluation Metric Used: High F1 score with High Recall and Better generalization(Diff between train,CV and test scores should be minimal)"
   ]
  },
  {
   "cell_type": "markdown",
   "metadata": {},
   "source": [
    "#### Recall = TP/(TP+FN) ; TP --> True Positive ;  FN ---> False Negative"
   ]
  },
  {
   "cell_type": "markdown",
   "metadata": {},
   "source": [
    "* High F1 score in Churn Prediction: F1 is the accuracy of the model on how many chrun and non chrun customer are actually classified correclty from the whole datapoints. High F1 score means less mis-classification.Hence this can be used as a major metric along with High Recall.\n",
    "* High Recall: It is predicting more TP and Less FN. Having FN(predicting Chrun as Non Chrun leads to loosing the customer base which inturn decreases the revenue of the telcom company. Hence FN should be minimum as a result Recall will be high\n",
    "\n",
    "### Hence the model with High F1 score along with High Recall is considered as a best model"
   ]
  },
  {
   "cell_type": "markdown",
   "metadata": {},
   "source": [
    "### Comparision with PCA and Without PCA:\n",
    "* When considering model with PCA and without PCA implementation. \n",
    "* It can be seen that Logistic regression, Linear SVC and SVC with linear kernel generalizes well for both model with PCA and without PCA methods but when considering High F1 score with High recall score, the models without PCA performs better then model with PCA implementation."
   ]
  },
  {
   "cell_type": "markdown",
   "metadata": {},
   "source": [
    "### Best Model: Linear SVC without PCA\n",
    "* Both Logistic regression without PCA and Linear SVC without PCA satisfies the above criteria but in logistic regression without PCA the Parameter C is very high when compared to Linear SVC without PCA. Small values of C give larger margin between the decision boundary and the datapoints and also better regularization. So model with less value for C should be chosen\n",
    "* Hence Linear SVC without PCA is considered as a best model among all the models."
   ]
  }
 ],
 "metadata": {
  "kernelspec": {
   "display_name": "Python 3",
   "language": "python",
   "name": "python3"
  },
  "language_info": {
   "codemirror_mode": {
    "name": "ipython",
    "version": 3
   },
   "file_extension": ".py",
   "mimetype": "text/x-python",
   "name": "python",
   "nbconvert_exporter": "python",
   "pygments_lexer": "ipython3",
   "version": "3.6.5"
  }
 },
 "nbformat": 4,
 "nbformat_minor": 2
}
